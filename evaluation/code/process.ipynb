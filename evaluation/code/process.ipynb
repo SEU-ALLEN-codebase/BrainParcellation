{
 "cells": [
  {
   "cell_type": "code",
   "execution_count": 58,
   "id": "personalized-mills",
   "metadata": {},
   "outputs": [],
   "source": [
    "import pickle\n",
    "import pandas as pd\n",
    "import numpy as np\n",
    "import os\n",
    "import glob\n",
    "from tqdm import tqdm\n",
    "from scipy.spatial import distance_matrix\n",
    "import json\n",
    "import seaborn as sns\n",
    "import matplotlib as mpl\n",
    "import matplotlib.pyplot as plt"
   ]
  },
  {
   "cell_type": "code",
   "execution_count": 59,
   "id": "6fe8b616",
   "metadata": {},
   "outputs": [],
   "source": [
    "tree_json_path = '/Users/krystal/Desktop/project/tree_yzx.json'\n",
    "with open(tree_json_path, 'r') as file:\n",
    "    tree_json = json.load(file)"
   ]
  },
  {
   "cell_type": "code",
   "execution_count": 2,
   "id": "996acb84",
   "metadata": {},
   "outputs": [
    {
     "data": {
      "text/html": [
       "<div>\n",
       "<style scoped>\n",
       "    .dataframe tbody tr th:only-of-type {\n",
       "        vertical-align: middle;\n",
       "    }\n",
       "\n",
       "    .dataframe tbody tr th {\n",
       "        vertical-align: top;\n",
       "    }\n",
       "\n",
       "    .dataframe thead th {\n",
       "        text-align: right;\n",
       "    }\n",
       "</style>\n",
       "<table border=\"1\" class=\"dataframe\">\n",
       "  <thead>\n",
       "    <tr style=\"text-align: right;\">\n",
       "      <th></th>\n",
       "      <th>order</th>\n",
       "      <th>structure ID</th>\n",
       "      <th>full structure name</th>\n",
       "      <th>abbreviation</th>\n",
       "      <th>parent_id</th>\n",
       "      <th>depth in tree</th>\n",
       "      <th>structure_id_path</th>\n",
       "      <th>total_voxel_counts (10 um)</th>\n",
       "    </tr>\n",
       "  </thead>\n",
       "  <tbody>\n",
       "    <tr>\n",
       "      <th>0</th>\n",
       "      <td>6</td>\n",
       "      <td>184</td>\n",
       "      <td>Frontal pole, cerebral cortex</td>\n",
       "      <td>FRP</td>\n",
       "      <td>315</td>\n",
       "      <td>6</td>\n",
       "      <td>/997/8/567/688/695/315/184/</td>\n",
       "      <td>973876</td>\n",
       "    </tr>\n",
       "    <tr>\n",
       "      <th>1</th>\n",
       "      <td>18</td>\n",
       "      <td>985</td>\n",
       "      <td>Primary motor area</td>\n",
       "      <td>MOp</td>\n",
       "      <td>500</td>\n",
       "      <td>7</td>\n",
       "      <td>/997/8/567/688/695/315/500/985/</td>\n",
       "      <td>11351334</td>\n",
       "    </tr>\n",
       "    <tr>\n",
       "      <th>2</th>\n",
       "      <td>24</td>\n",
       "      <td>993</td>\n",
       "      <td>Secondary motor area</td>\n",
       "      <td>MOs</td>\n",
       "      <td>500</td>\n",
       "      <td>7</td>\n",
       "      <td>/997/8/567/688/695/315/500/993/</td>\n",
       "      <td>13099028</td>\n",
       "    </tr>\n",
       "    <tr>\n",
       "      <th>3</th>\n",
       "      <td>44</td>\n",
       "      <td>353</td>\n",
       "      <td>Primary somatosensory area, nose</td>\n",
       "      <td>SSp-n</td>\n",
       "      <td>322</td>\n",
       "      <td>8</td>\n",
       "      <td>/997/8/567/688/695/315/453/322/353/</td>\n",
       "      <td>3019080</td>\n",
       "    </tr>\n",
       "    <tr>\n",
       "      <th>4</th>\n",
       "      <td>51</td>\n",
       "      <td>329</td>\n",
       "      <td>Primary somatosensory area, barrel field</td>\n",
       "      <td>SSp-bfd</td>\n",
       "      <td>322</td>\n",
       "      <td>8</td>\n",
       "      <td>/997/8/567/688/695/315/453/322/329/</td>\n",
       "      <td>6287780</td>\n",
       "    </tr>\n",
       "    <tr>\n",
       "      <th>...</th>\n",
       "      <td>...</td>\n",
       "      <td>...</td>\n",
       "      <td>...</td>\n",
       "      <td>...</td>\n",
       "      <td>...</td>\n",
       "      <td>...</td>\n",
       "      <td>...</td>\n",
       "      <td>...</td>\n",
       "    </tr>\n",
       "    <tr>\n",
       "      <th>311</th>\n",
       "      <td>1097</td>\n",
       "      <td>989</td>\n",
       "      <td>Fastigial nucleus</td>\n",
       "      <td>FN</td>\n",
       "      <td>519</td>\n",
       "      <td>4</td>\n",
       "      <td>/997/8/512/519/989/</td>\n",
       "      <td>502036</td>\n",
       "    </tr>\n",
       "    <tr>\n",
       "      <th>312</th>\n",
       "      <td>1098</td>\n",
       "      <td>91</td>\n",
       "      <td>Interposed nucleus</td>\n",
       "      <td>IP</td>\n",
       "      <td>519</td>\n",
       "      <td>4</td>\n",
       "      <td>/997/8/512/519/91/</td>\n",
       "      <td>859874</td>\n",
       "    </tr>\n",
       "    <tr>\n",
       "      <th>313</th>\n",
       "      <td>1099</td>\n",
       "      <td>846</td>\n",
       "      <td>Dentate nucleus</td>\n",
       "      <td>DN</td>\n",
       "      <td>519</td>\n",
       "      <td>4</td>\n",
       "      <td>/997/8/512/519/846/</td>\n",
       "      <td>334984</td>\n",
       "    </tr>\n",
       "    <tr>\n",
       "      <th>314</th>\n",
       "      <td>1100</td>\n",
       "      <td>589508455</td>\n",
       "      <td>Vestibulocerebellar nucleus</td>\n",
       "      <td>VeCB</td>\n",
       "      <td>519</td>\n",
       "      <td>4</td>\n",
       "      <td>/997/8/512/519/589508455/</td>\n",
       "      <td>85146</td>\n",
       "    </tr>\n",
       "    <tr>\n",
       "      <th>315</th>\n",
       "      <td>1101</td>\n",
       "      <td>1009</td>\n",
       "      <td>fiber tracts</td>\n",
       "      <td>fiber tracts</td>\n",
       "      <td>997</td>\n",
       "      <td>1</td>\n",
       "      <td>/997/1009/</td>\n",
       "      <td>46921388</td>\n",
       "    </tr>\n",
       "  </tbody>\n",
       "</table>\n",
       "<p>316 rows × 8 columns</p>\n",
       "</div>"
      ],
      "text/plain": [
       "     order  structure ID                       full structure name  \\\n",
       "0        6           184             Frontal pole, cerebral cortex   \n",
       "1       18           985                        Primary motor area   \n",
       "2       24           993                      Secondary motor area   \n",
       "3       44           353          Primary somatosensory area, nose   \n",
       "4       51           329  Primary somatosensory area, barrel field   \n",
       "..     ...           ...                                       ...   \n",
       "311   1097           989                         Fastigial nucleus   \n",
       "312   1098            91                        Interposed nucleus   \n",
       "313   1099           846                           Dentate nucleus   \n",
       "314   1100     589508455               Vestibulocerebellar nucleus   \n",
       "315   1101          1009                              fiber tracts   \n",
       "\n",
       "     abbreviation  parent_id  depth in tree  \\\n",
       "0             FRP        315              6   \n",
       "1             MOp        500              7   \n",
       "2             MOs        500              7   \n",
       "3           SSp-n        322              8   \n",
       "4         SSp-bfd        322              8   \n",
       "..            ...        ...            ...   \n",
       "311            FN        519              4   \n",
       "312            IP        519              4   \n",
       "313            DN        519              4   \n",
       "314          VeCB        519              4   \n",
       "315  fiber tracts        997              1   \n",
       "\n",
       "                       structure_id_path  total_voxel_counts (10 um)  \n",
       "0            /997/8/567/688/695/315/184/                      973876  \n",
       "1        /997/8/567/688/695/315/500/985/                    11351334  \n",
       "2        /997/8/567/688/695/315/500/993/                    13099028  \n",
       "3    /997/8/567/688/695/315/453/322/353/                     3019080  \n",
       "4    /997/8/567/688/695/315/453/322/329/                     6287780  \n",
       "..                                   ...                         ...  \n",
       "311                  /997/8/512/519/989/                      502036  \n",
       "312                   /997/8/512/519/91/                      859874  \n",
       "313                  /997/8/512/519/846/                      334984  \n",
       "314            /997/8/512/519/589508455/                       85146  \n",
       "315                           /997/1009/                    46921388  \n",
       "\n",
       "[316 rows x 8 columns]"
      ]
     },
     "execution_count": 2,
     "metadata": {},
     "output_type": "execute_result"
    }
   ],
   "source": [
    "## region boundary\n",
    "region_table = pd.read_excel(\"/Users/krystal/Desktop/project/cloud_paper/CCFv3 Summary Structures.xlsx\")\n",
    "region_table"
   ]
  },
  {
   "cell_type": "code",
   "execution_count": 3,
   "id": "7ae42688",
   "metadata": {},
   "outputs": [],
   "source": [
    "### CCFv3 stat\n",
    "region_table_stat = pd.read_csv('region_match_table.csv')"
   ]
  },
  {
   "cell_type": "code",
   "execution_count": 5,
   "id": "14e9b924",
   "metadata": {},
   "outputs": [
    {
     "data": {
      "text/plain": [
       "Index(['sub_region', 'rough_region'], dtype='object')"
      ]
     },
     "execution_count": 5,
     "metadata": {},
     "output_type": "execute_result"
    }
   ],
   "source": [
    "region_table_stat.columns"
   ]
  },
  {
   "cell_type": "code",
   "execution_count": 12,
   "id": "1edcf06c",
   "metadata": {},
   "outputs": [
    {
     "data": {
      "text/plain": [
       "70"
      ]
     },
     "execution_count": 12,
     "metadata": {},
     "output_type": "execute_result"
    }
   ],
   "source": [
    "len(region_table_stat[region_table_stat['rough_region']=='HB'])"
   ]
  },
  {
   "cell_type": "code",
   "execution_count": 103,
   "id": "9b0a1a47",
   "metadata": {},
   "outputs": [
    {
     "data": {
      "text/plain": [
       "314"
      ]
     },
     "execution_count": 103,
     "metadata": {},
     "output_type": "execute_result"
    }
   ],
   "source": [
    "region_List = np.unique(region_table['abbreviation'])\n",
    "region_List2 = list(set(region_List) - set(['MDRN','fiber tracts']))\n",
    "len(region_List2)"
   ]
  },
  {
   "cell_type": "code",
   "execution_count": 60,
   "id": "5c35ccd0",
   "metadata": {},
   "outputs": [],
   "source": [
    "brain_to_id = {}\n",
    "brain_id_path = {}\n",
    "R_brain = ['TH','CTX','CNU','HY','CB','MB','HB','fiber tracts']\n",
    "R_brain_id = [0 for i in range(len(R_brain))]\n",
    "for i in range(len(tree_json)):\n",
    "    bid = tree_json[i]['id']\n",
    "    acronym = tree_json[i]['acronym']\n",
    "    p = tree_json[i]['structure_id_path']\n",
    "    if bid not in brain_to_id:\n",
    "        brain_to_id[bid] = acronym\n",
    "    if bid not in brain_id_path:\n",
    "        brain_id_path[bid] = p\n",
    "    if acronym in R_brain:\n",
    "        matched_id = R_brain.index(acronym)\n",
    "        R_brain_id[matched_id] = bid       "
   ]
  },
  {
   "cell_type": "code",
   "execution_count": 233,
   "id": "306a0894",
   "metadata": {},
   "outputs": [],
   "source": [
    "sub_region = []\n",
    "rough_region = []\n",
    "for k,v in brain_to_id.items():\n",
    "    if v in region_List2:\n",
    "        path_list = brain_id_path[k]\n",
    "        sub_region.append(v)\n",
    "        tmp_r = 'nan'\n",
    "        for j in range(len(R_brain_id)):\n",
    "            if R_brain_id[j] in path_list:\n",
    "                tmp_r = R_brain[j]\n",
    "        rough_region.append(tmp_r)"
   ]
  },
  {
   "cell_type": "code",
   "execution_count": 234,
   "id": "b7240a15",
   "metadata": {},
   "outputs": [],
   "source": [
    "R_category_table = pd.DataFrame({'sub_region':sub_region,'rough_region':rough_region})\n",
    "R_category_table.to_csv('region_match_table.csv',index=None)"
   ]
  },
  {
   "cell_type": "code",
   "execution_count": 6,
   "id": "3fa89e47",
   "metadata": {},
   "outputs": [],
   "source": [
    "## Brain region categorization\n",
    "TH=['AD','AM','AV','CL','CM','IAD','LD','LGd','LHA','LP','MD','MG','MM','PCN','PF','PIL','PO','POL','PR','PVT',\n",
    "   'PoT','RE','RT','SGN','SMT','TH','VAL','VM','LGv','IMD','PT','SPA','SPFp','LH','MH','SPFm','PP','RH','IGL','IntG',\n",
    "   'VPL','VPLpc','VPM','VPMpc','SubG','AMd','Xi','IAM']\n",
    "CTX=['ACAd','ACAv','AId','AIp','AIv','AON','AON','AUDd','AUDpo','AUDv','BLA','BMA','CA1','CA3','CLA','COAp','HPF','DG',\n",
    "    'ECT','ENTl','ENTm','EPd','FRP','GU','IG','ILA','MOB','MOp','MOs','ORBl','ORBm','ORBvl','PIR','PL','POST','PRoS',\n",
    "    'RSPagl','RSPd','RSPv','SSs','SUB','TEa','TR','VISC','VISa','VISal','VISam','VISl','VISli','VISp','VISpm',\n",
    "    'VISpor','VISrl','VISpl','PAR','SSp','SSp-bfd','SSp-ll','SSp-m','SSp-n','SSp-tr','SSp-ul','SSp-un','AOB','APr',\n",
    "    'DP','AUDp','TT','ProS','LA','PERI','NLOT','COAa','CA2','HATA','EPv','DG-sg','DG-mo','DG-po','ENTm6',\n",
    "    'BMAa','COApl','BMAp','ENTl2','ENTl1','OLF','ENTm3','PRE','PAA','PA']\n",
    "## CTXsp: PA\n",
    "CNU=['ACB','BST','CEA','CP','FS','GPe','GPi','LSr','LSv','OT','PAL','SI','MEA','MS','LSc','AAA','MA','NDB',\n",
    "    'TRS','SF','IA','SH','BA']\n",
    "## PAL: TRS\n",
    "## STR: SF,IA,SH,BA\n",
    "HY=['AHN','DMH','HY','PH','PSTN','PVH','PVi','PeF','SBPV','TU','VMH','ZI','SUM','STN','MMd','MMme','MMl',\n",
    "   'ARH','PMv','PVp','TMv','LM','LPO','PS','MPN','MPO','MEPO','ADP','PMd','AVPV','SCH',\n",
    "   'PVpo','PVHd','VLPO','VMPO','ME','RCH','PVa','SO']\n",
    "CB=['CENT','COPY','CUL','DEC','FL','FN','FOTU','NOD','PFL','AN','PRM','PYR','SIM','SIM','CENT3','CUL4, 5','CENT2',\n",
    "   'ANcr2','ANcr1','UVU','LING','IP','VeCB','DN']\n",
    "## CBX: UVU,LING\n",
    "## CBN:IP,VeCB,DN\n",
    "MB=['DR','IC','MB','MRN','MV','MY','PAG','RN','SNc','SCm','APN','PPN','RR','SNr','SAG','SCs','VTN','NOT','NB','AT',\n",
    "   'CUN','PPT','MPT','VTA','CLI','NPC','IPN','IF','SCO','PN','ICe','LT','OP','PBG','EW',\n",
    "   'MA3','RL','MT','III','DT']\n",
    "HB=['IRN','LRN','MDRNd','MDRNv','P','PARN','PB','PG','PGRNl','PRNc','PRNr','PSV','SPIV','SPVC','SPVO','SUV','TRN',\n",
    "   'V','VCO','NLL','CS','RPO','PCG','LDT','PCG','DTN','SPVI','LRNm','NI','KF','IO','RPA',\n",
    "   'MARN','SOC','GRN','VII','PPY','AMB','LIN','RM','NTB','NR','XII','NTS','PGRNd','CU','P5',\n",
    "   'GR','DMX','Pa5','AP','PAS','x','ECU','LAV','LC','I5','DCO','RO','SLD','PRP','SUT','ISN',\n",
    "   'PC5','VI','B']\n",
    "## MY:IO,RPA,MARN,GRN,VII,PPY,AMB,x,ECU,LIN,RM,LAV,NTB,NR,XII,NTS,PGRNd,CU,GR,DMX,Pa5,AP,PAS,\n",
    "## DCO,RO,PRP,ISN,VI\n",
    "## P:SOC,P5,LC,I5,SLD,SUT,PC5,B\n",
    "fiber=['fi','dhc','fr','fp','alv','cing','sm','mtt','pm','nst','or','fa','ccg','arb','mlf','ll','fx','int',\n",
    "      'ccb','mfb','tspc','arb','ml','scwm','fiber tracts']\n",
    "unknown=['unknown']\n",
    "error=['error']"
   ]
  },
  {
   "cell_type": "code",
   "execution_count": 2,
   "id": "76bc1375",
   "metadata": {},
   "outputs": [],
   "source": [
    "region_matched_table = pd.read_csv('region_match_table.csv')"
   ]
  },
  {
   "cell_type": "code",
   "execution_count": 3,
   "id": "ca963358",
   "metadata": {},
   "outputs": [],
   "source": [
    "R_brain2 = ['TH','CTX','CNU','HY','CB','MB','HB']\n",
    "for i in R_brain2:\n",
    "    rows = region_matched_table[region_matched_table['rough_region']==i]\n",
    "    name_tmp = i\n",
    "    sub_list_tmp = list(rows['sub_region'])\n",
    "    exec(f'{name_tmp} = {sub_list_tmp}')"
   ]
  },
  {
   "cell_type": "code",
   "execution_count": 13,
   "id": "b0eef407",
   "metadata": {},
   "outputs": [],
   "source": [
    "fiber=['fiber tracts']\n",
    "unknown=['unknown']\n",
    "error=['error']"
   ]
  },
  {
   "cell_type": "markdown",
   "id": "alike-metro",
   "metadata": {},
   "source": [
    "## 25scale"
   ]
  },
  {
   "cell_type": "code",
   "execution_count": 97,
   "id": "greater-virgin",
   "metadata": {},
   "outputs": [],
   "source": [
    "input_dir = '179k_registered/*'\n",
    "folders = glob.glob(input_dir)\n",
    "file_list = []\n",
    "for folder in folders:\n",
    "    files = glob.glob(folder+\"/*\")\n",
    "    for f in files:\n",
    "        file_list.append(f)"
   ]
  },
  {
   "cell_type": "code",
   "execution_count": 13,
   "id": "dying-institute",
   "metadata": {},
   "outputs": [],
   "source": [
    "output_dir = '179k_registered_25scale'"
   ]
  },
  {
   "cell_type": "code",
   "execution_count": 24,
   "id": "limited-retro",
   "metadata": {},
   "outputs": [],
   "source": [
    "for f in file_list:\n",
    "    swc = pd.read_csv(f,sep=' ',comment='#',header=None)\n",
    "    swc.columns = ['#n','type','x','y','z','radius','parent']\n",
    "    swc.x=swc.x*25\n",
    "    swc.y=swc.y*25\n",
    "    swc.z=swc.z*25\n",
    "    file_name = os.path.basename(f)\n",
    "    brain_folder = os.path.join(output_dir,f.split(\"/\")[1])\n",
    "    if os.path.exists(brain_folder) == False:\n",
    "        os.mkdir(brain_folder)\n",
    "    out = os.path.join(brain_folder,file_name)\n",
    "    swc.to_csv(out,sep =' ',index=None)"
   ]
  },
  {
   "cell_type": "code",
   "execution_count": 98,
   "id": "stable-spouse",
   "metadata": {},
   "outputs": [],
   "source": [
    "## soma retype\n",
    "input_dir = '179k_registered_25scale/*'\n",
    "folders = glob.glob(input_dir)\n",
    "file_list = []\n",
    "for folder in folders:\n",
    "    files = glob.glob(folder+\"/*\")\n",
    "    for f in files:\n",
    "        file_list.append(f)"
   ]
  },
  {
   "cell_type": "code",
   "execution_count": 99,
   "id": "abandoned-copper",
   "metadata": {},
   "outputs": [],
   "source": [
    "output_dir = '179k_reg_soma_retype'"
   ]
  },
  {
   "cell_type": "code",
   "execution_count": 102,
   "id": "resistant-shore",
   "metadata": {},
   "outputs": [],
   "source": [
    "for f in file_list:\n",
    "    file_name = os.path.basename(f)\n",
    "    brain_folder = os.path.join(output_dir,f.split(\"/\")[1])\n",
    "    if os.path.exists(brain_folder) == False:\n",
    "        os.mkdir(brain_folder)\n",
    "        \n",
    "    swc = pd.read_csv(f,sep=' ',comment='#',header=None)\n",
    "    swc.columns = ['#n','type','x','y','z','radius','parent']\n",
    "    soma_row = swc[swc['parent']==-1]\n",
    "    if len(soma_row) > 1:\n",
    "        print(file_name)\n",
    "        continue\n",
    "    soma_index = swc[swc['parent']==-1].index[0]\n",
    "    swc.at[soma_index,'type'] = 1    \n",
    "    out = os.path.join(brain_folder,file_name)\n",
    "    swc.to_csv(out,sep =' ',index=None)"
   ]
  },
  {
   "cell_type": "markdown",
   "id": "pacific-beach",
   "metadata": {},
   "source": [
    "## 1876 feature statistics"
   ]
  },
  {
   "cell_type": "code",
   "execution_count": 5,
   "id": "fixed-closing",
   "metadata": {},
   "outputs": [],
   "source": [
    "## 256 block\n",
    "gf_table = pd.read_csv('gf_1876_crop.csv')"
   ]
  },
  {
   "cell_type": "code",
   "execution_count": 195,
   "id": "liked-surveillance",
   "metadata": {},
   "outputs": [],
   "source": [
    "del_list = ['pre_17543_01171', 'pre_18458_00150', '18454_00008', 'pre_17543_01139', 'pre_17543_01241', \n",
    "            '18458_00048', 'pre_17543_01274', 'pre_17543_01276', 'pre_17543_01053', 'pre_17543_01090',\n",
    "           'pre_18455_00109','17302_00087','18465_00205','18453_3147_x16721_y20510','18453_3218_x16785_y20581']"
   ]
  },
  {
   "cell_type": "code",
   "execution_count": 342,
   "id": "unusual-macedonia",
   "metadata": {},
   "outputs": [],
   "source": [
    "#gf_table.to_csv('gf_1876_crop.csv',index=None)"
   ]
  },
  {
   "cell_type": "code",
   "execution_count": 11,
   "id": "competent-airfare",
   "metadata": {},
   "outputs": [],
   "source": [
    "celltype_table_path = \"1876_soma_region.csv\"\n",
    "celltype_table = pd.read_csv(celltype_table_path)"
   ]
  },
  {
   "cell_type": "code",
   "execution_count": 343,
   "id": "posted-tragedy",
   "metadata": {},
   "outputs": [],
   "source": [
    "#celltype_table.to_csv('1876_soma_region.csv',index=None)"
   ]
  },
  {
   "cell_type": "code",
   "execution_count": 360,
   "id": "imposed-utility",
   "metadata": {},
   "outputs": [],
   "source": [
    "celltype_table = celltype_table.reset_index(drop=True)\n",
    "gf_table = gf_table.reset_index(drop=True)"
   ]
  },
  {
   "cell_type": "code",
   "execution_count": 13,
   "id": "anonymous-bridge",
   "metadata": {},
   "outputs": [],
   "source": [
    "rough_type = []\n",
    "for i in list(gf_table['Name']):\n",
    "    name = i\n",
    "    if name.split(\"_\")[0] == '210254':\n",
    "        name=name.replace(\"210254\",\"15257\")\n",
    "    ctype_id = celltype_table[celltype_table['Name']==str(name)].index[0]\n",
    "    ctype = celltype_table.iloc[ctype_id]['soma_region']\n",
    "    if ctype in TH:\n",
    "        rough_type.append('TH')\n",
    "    elif ctype in CTX:\n",
    "        rough_type.append('CTX')\n",
    "    elif ctype in CNU:\n",
    "        rough_type.append('CNU')\n",
    "    elif ctype in HY:\n",
    "        rough_type.append('HY')\n",
    "    elif ctype in CB:\n",
    "        rough_type.append('CB')\n",
    "    elif ctype in MB:\n",
    "        rough_type.append('MB')\n",
    "    elif ctype in HB:\n",
    "        rough_type.append('HB')\n",
    "    elif ctype in fiber:\n",
    "        rough_type.append('fiber')\n",
    "    else:\n",
    "        rough_type.append('unknown')"
   ]
  },
  {
   "cell_type": "code",
   "execution_count": 14,
   "id": "difficult-cover",
   "metadata": {},
   "outputs": [],
   "source": [
    "rough_type = np.array(rough_type)"
   ]
  },
  {
   "cell_type": "code",
   "execution_count": 71,
   "id": "2929499e",
   "metadata": {},
   "outputs": [
    {
     "data": {
      "text/plain": [
       "array(['CNU', 'CTX', 'HB', 'TH', 'unknown'], dtype='<U7')"
      ]
     },
     "execution_count": 71,
     "metadata": {},
     "output_type": "execute_result"
    }
   ],
   "source": [
    "np.unique(rough_type)"
   ]
  },
  {
   "cell_type": "code",
   "execution_count": 92,
   "id": "d313a942",
   "metadata": {},
   "outputs": [
    {
     "data": {
      "text/html": [
       "<div>\n",
       "<style scoped>\n",
       "    .dataframe tbody tr th:only-of-type {\n",
       "        vertical-align: middle;\n",
       "    }\n",
       "\n",
       "    .dataframe tbody tr th {\n",
       "        vertical-align: top;\n",
       "    }\n",
       "\n",
       "    .dataframe thead th {\n",
       "        text-align: right;\n",
       "    }\n",
       "</style>\n",
       "<table border=\"1\" class=\"dataframe\">\n",
       "  <thead>\n",
       "    <tr style=\"text-align: right;\">\n",
       "      <th></th>\n",
       "      <th>Name</th>\n",
       "      <th>Nodes</th>\n",
       "      <th>SomaSurface</th>\n",
       "      <th>Stems</th>\n",
       "      <th>Bifurcations</th>\n",
       "      <th>Branches</th>\n",
       "      <th>Tips</th>\n",
       "      <th>OverallWidth</th>\n",
       "      <th>OverallHeight</th>\n",
       "      <th>OverallDepth</th>\n",
       "      <th>...</th>\n",
       "      <th>Volume</th>\n",
       "      <th>MaxEuclideanDistance</th>\n",
       "      <th>MaxPathDistance</th>\n",
       "      <th>MaxBranchOrder</th>\n",
       "      <th>AverageContraction</th>\n",
       "      <th>AverageFragmentation</th>\n",
       "      <th>AverageParent-daughterRatio</th>\n",
       "      <th>AverageBifurcationAngleLocal</th>\n",
       "      <th>AverageBifurcationAngleRemote</th>\n",
       "      <th>HausdorffDimension</th>\n",
       "    </tr>\n",
       "  </thead>\n",
       "  <tbody>\n",
       "    <tr>\n",
       "      <th>252</th>\n",
       "      <td>17781_3668_x9453_y17266</td>\n",
       "      <td>2557</td>\n",
       "      <td>12.5664</td>\n",
       "      <td>7</td>\n",
       "      <td>27</td>\n",
       "      <td>59</td>\n",
       "      <td>33</td>\n",
       "      <td>189.275</td>\n",
       "      <td>194.950</td>\n",
       "      <td>178.1</td>\n",
       "      <td>...</td>\n",
       "      <td>8509.99</td>\n",
       "      <td>99.9919</td>\n",
       "      <td>400.860</td>\n",
       "      <td>6</td>\n",
       "      <td>0.889613</td>\n",
       "      <td>42.322</td>\n",
       "      <td>1</td>\n",
       "      <td>79.1811</td>\n",
       "      <td>69.2317</td>\n",
       "      <td>1.03966</td>\n",
       "    </tr>\n",
       "    <tr>\n",
       "      <th>1456</th>\n",
       "      <td>18867_6452_x16339_y18318</td>\n",
       "      <td>606</td>\n",
       "      <td>12.5664</td>\n",
       "      <td>4</td>\n",
       "      <td>4</td>\n",
       "      <td>10</td>\n",
       "      <td>7</td>\n",
       "      <td>144.525</td>\n",
       "      <td>152.925</td>\n",
       "      <td>181.4</td>\n",
       "      <td>...</td>\n",
       "      <td>2267.62</td>\n",
       "      <td>99.9765</td>\n",
       "      <td>162.447</td>\n",
       "      <td>3</td>\n",
       "      <td>0.880820</td>\n",
       "      <td>59.500</td>\n",
       "      <td>1</td>\n",
       "      <td>121.2850</td>\n",
       "      <td>88.5485</td>\n",
       "      <td>1.01679</td>\n",
       "    </tr>\n",
       "  </tbody>\n",
       "</table>\n",
       "<p>2 rows × 23 columns</p>\n",
       "</div>"
      ],
      "text/plain": [
       "                          Name  Nodes  SomaSurface  Stems  Bifurcations  \\\n",
       "252    17781_3668_x9453_y17266   2557      12.5664      7            27   \n",
       "1456  18867_6452_x16339_y18318    606      12.5664      4             4   \n",
       "\n",
       "      Branches  Tips  OverallWidth  OverallHeight  OverallDepth  ...   Volume  \\\n",
       "252         59    33       189.275        194.950         178.1  ...  8509.99   \n",
       "1456        10     7       144.525        152.925         181.4  ...  2267.62   \n",
       "\n",
       "      MaxEuclideanDistance  MaxPathDistance  MaxBranchOrder  \\\n",
       "252                99.9919          400.860               6   \n",
       "1456               99.9765          162.447               3   \n",
       "\n",
       "      AverageContraction  AverageFragmentation  AverageParent-daughterRatio  \\\n",
       "252             0.889613                42.322                            1   \n",
       "1456            0.880820                59.500                            1   \n",
       "\n",
       "      AverageBifurcationAngleLocal  AverageBifurcationAngleRemote  \\\n",
       "252                        79.1811                        69.2317   \n",
       "1456                      121.2850                        88.5485   \n",
       "\n",
       "      HausdorffDimension  \n",
       "252              1.03966  \n",
       "1456             1.01679  \n",
       "\n",
       "[2 rows x 23 columns]"
      ]
     },
     "execution_count": 92,
     "metadata": {},
     "output_type": "execute_result"
    }
   ],
   "source": [
    "gf_table[rough_type == 'unknown']"
   ]
  },
  {
   "cell_type": "code",
   "execution_count": 94,
   "id": "08b819dc",
   "metadata": {},
   "outputs": [
    {
     "data": {
      "text/html": [
       "<div>\n",
       "<style scoped>\n",
       "    .dataframe tbody tr th:only-of-type {\n",
       "        vertical-align: middle;\n",
       "    }\n",
       "\n",
       "    .dataframe tbody tr th {\n",
       "        vertical-align: top;\n",
       "    }\n",
       "\n",
       "    .dataframe thead th {\n",
       "        text-align: right;\n",
       "    }\n",
       "</style>\n",
       "<table border=\"1\" class=\"dataframe\">\n",
       "  <thead>\n",
       "    <tr style=\"text-align: right;\">\n",
       "      <th></th>\n",
       "      <th>Name</th>\n",
       "      <th>soma_region</th>\n",
       "    </tr>\n",
       "  </thead>\n",
       "  <tbody>\n",
       "    <tr>\n",
       "      <th>1184</th>\n",
       "      <td>17781_3668_x9453_y17266</td>\n",
       "      <td>SSp</td>\n",
       "    </tr>\n",
       "  </tbody>\n",
       "</table>\n",
       "</div>"
      ],
      "text/plain": [
       "                         Name soma_region\n",
       "1184  17781_3668_x9453_y17266         SSp"
      ]
     },
     "execution_count": 94,
     "metadata": {},
     "output_type": "execute_result"
    }
   ],
   "source": [
    "celltype_table[celltype_table['Name']=='17781_3668_x9453_y17266']"
   ]
  },
  {
   "cell_type": "code",
   "execution_count": 107,
   "id": "7ff9c30f",
   "metadata": {},
   "outputs": [],
   "source": [
    "rough_type[252] = 'CTX'"
   ]
  },
  {
   "cell_type": "code",
   "execution_count": 105,
   "id": "a1e37a70",
   "metadata": {},
   "outputs": [
    {
     "data": {
      "text/html": [
       "<div>\n",
       "<style scoped>\n",
       "    .dataframe tbody tr th:only-of-type {\n",
       "        vertical-align: middle;\n",
       "    }\n",
       "\n",
       "    .dataframe tbody tr th {\n",
       "        vertical-align: top;\n",
       "    }\n",
       "\n",
       "    .dataframe thead th {\n",
       "        text-align: right;\n",
       "    }\n",
       "</style>\n",
       "<table border=\"1\" class=\"dataframe\">\n",
       "  <thead>\n",
       "    <tr style=\"text-align: right;\">\n",
       "      <th></th>\n",
       "      <th>Name</th>\n",
       "      <th>soma_region</th>\n",
       "    </tr>\n",
       "  </thead>\n",
       "  <tbody>\n",
       "    <tr>\n",
       "      <th>1841</th>\n",
       "      <td>18867_6452_x16339_y18318</td>\n",
       "      <td>BS</td>\n",
       "    </tr>\n",
       "  </tbody>\n",
       "</table>\n",
       "</div>"
      ],
      "text/plain": [
       "                          Name soma_region\n",
       "1841  18867_6452_x16339_y18318          BS"
      ]
     },
     "execution_count": 105,
     "metadata": {},
     "output_type": "execute_result"
    }
   ],
   "source": [
    "celltype_table[celltype_table['Name']=='18867_6452_x16339_y18318']"
   ]
  },
  {
   "cell_type": "code",
   "execution_count": 108,
   "id": "graphic-enterprise",
   "metadata": {},
   "outputs": [
    {
     "name": "stdout",
     "output_type": "stream",
     "text": [
      "Nodes TH 546 11563\n",
      "Nodes CTX 290 10832\n",
      "Nodes CNU 387 9438\n",
      "Nodes HB 779 2871\n",
      "Length TH 685.104 7912.52\n",
      "Length CTX 544.452 12581.7\n",
      "Length CNU 433.103 8773.9\n",
      "Length HB 952.93 3210.7\n",
      "Bifurcations TH 1 105\n",
      "Bifurcations CTX 5 190\n",
      "Bifurcations CNU 2 127\n",
      "Bifurcations HB 9 53\n"
     ]
    }
   ],
   "source": [
    "type_category = ['TH','CTX','CNU','HY','CB','MB','HB','fiber','unknown']\n",
    "features = ['Nodes','Length','Bifurcations']\n",
    "type_involved = ['TH','CTX','CNU','HB']\n",
    "criteria_table = np.zeros((len(type_involved),2*len(features)))\n",
    "for f in features: \n",
    "    f_id = features.index(f)\n",
    "    for t in type_category:\n",
    "        selected = np.array(gf_table[rough_type==t][f])\n",
    "#         if len(selected) < 1:\n",
    "#             continue\n",
    "        if (len(selected) < 2)|(t=='unknown'):\n",
    "            continue\n",
    "        tid = type_involved.index(t)\n",
    "#         lower = np.percentile(selected, 2)\n",
    "#         upper = np.percentile(selected, 98)\n",
    "        lower = np.min(selected)\n",
    "        upper = np.max(selected)\n",
    "        criteria_table[tid,2*f_id] = lower\n",
    "        criteria_table[tid,2*f_id+1] = upper\n",
    "        print(f+' '+t+' '+str(lower)+' '+str(upper))"
   ]
  },
  {
   "cell_type": "code",
   "execution_count": 111,
   "id": "polyphonic-problem",
   "metadata": {},
   "outputs": [],
   "source": [
    "L_min = gf_table[rough_type!='unknown']['Length'].min()\n",
    "L_max = gf_table[rough_type!='unknown']['Length'].max()\n",
    "B_min = gf_table[rough_type!='unknown']['Bifurcations'].min()\n",
    "B_max = gf_table[rough_type!='unknown']['Bifurcations'].max()"
   ]
  },
  {
   "cell_type": "markdown",
   "id": "legendary-novelty",
   "metadata": {},
   "source": [
    "## Screening"
   ]
  },
  {
   "cell_type": "code",
   "execution_count": 65,
   "id": "familiar-search",
   "metadata": {},
   "outputs": [],
   "source": [
    "### screen standard\n",
    "# if Non-calculated soma type; node range(300,1500)"
   ]
  },
  {
   "cell_type": "code",
   "execution_count": 15,
   "id": "undefined-revolution",
   "metadata": {},
   "outputs": [],
   "source": [
    "#all_F_table = pd.read_csv(\"reassigned_table.csv\")\n",
    "all_F_table = pd.read_csv(\"179k_soma_region.csv\")"
   ]
  },
  {
   "cell_type": "code",
   "execution_count": 16,
   "id": "deluxe-fifteen",
   "metadata": {},
   "outputs": [
    {
     "data": {
      "text/plain": [
       "10769"
      ]
     },
     "execution_count": 16,
     "metadata": {},
     "output_type": "execute_result"
    }
   ],
   "source": [
    "len(all_F_table[all_F_table['Soma region']=='fiber tracts'])"
   ]
  },
  {
   "cell_type": "code",
   "execution_count": 22,
   "id": "basic-lincoln",
   "metadata": {},
   "outputs": [],
   "source": [
    "# gf_folder = 'gf_179k_crop/*'\n",
    "# gf_files = glob.glob(gf_folder)\n",
    "\n",
    "# Ftable=pd.read_csv(gf_files[0])\n",
    "\n",
    "# for i in range(1,len(gf_files)):\n",
    "#     gf_tmp = pd.read_csv(gf_files[i])\n",
    "#     Ftable = pd.concat([Ftable,gf_tmp])\n",
    "\n",
    "# Ftable = Ftable.reset_index(drop=True)\n",
    "Ftable = pd.read_csv('gf_179k_crop.csv')"
   ]
  },
  {
   "cell_type": "code",
   "execution_count": 315,
   "id": "editorial-suicide",
   "metadata": {},
   "outputs": [],
   "source": [
    "#Ftable.to_csv('gf_179k_crop.csv',index=None)"
   ]
  },
  {
   "cell_type": "code",
   "execution_count": 23,
   "id": "deluxe-knock",
   "metadata": {},
   "outputs": [
    {
     "data": {
      "text/html": [
       "<div>\n",
       "<style scoped>\n",
       "    .dataframe tbody tr th:only-of-type {\n",
       "        vertical-align: middle;\n",
       "    }\n",
       "\n",
       "    .dataframe tbody tr th {\n",
       "        vertical-align: top;\n",
       "    }\n",
       "\n",
       "    .dataframe thead th {\n",
       "        text-align: right;\n",
       "    }\n",
       "</style>\n",
       "<table border=\"1\" class=\"dataframe\">\n",
       "  <thead>\n",
       "    <tr style=\"text-align: right;\">\n",
       "      <th></th>\n",
       "      <th>name</th>\n",
       "      <th>Nodes</th>\n",
       "      <th>SomaSurface</th>\n",
       "      <th>Stems</th>\n",
       "      <th>Bifurcations</th>\n",
       "      <th>Branches</th>\n",
       "      <th>Tips</th>\n",
       "      <th>OverallWidth</th>\n",
       "      <th>OverallHeight</th>\n",
       "      <th>OverallDepth</th>\n",
       "      <th>...</th>\n",
       "      <th>Volume</th>\n",
       "      <th>MaxEuclideanDistance</th>\n",
       "      <th>MaxPathDistance</th>\n",
       "      <th>MaxBranchOrder</th>\n",
       "      <th>AverageContraction</th>\n",
       "      <th>AverageFragmentation</th>\n",
       "      <th>AverageParent-daughterRatio</th>\n",
       "      <th>AverageBifurcationAngleLocal</th>\n",
       "      <th>AverageBifurcationAngleRemote</th>\n",
       "      <th>HausdorffDimension</th>\n",
       "    </tr>\n",
       "  </thead>\n",
       "  <tbody>\n",
       "    <tr>\n",
       "      <th>0</th>\n",
       "      <td>10001_19868_8155</td>\n",
       "      <td>39</td>\n",
       "      <td>804.2480</td>\n",
       "      <td>2</td>\n",
       "      <td>1</td>\n",
       "      <td>2</td>\n",
       "      <td>2</td>\n",
       "      <td>79.0244</td>\n",
       "      <td>107.125</td>\n",
       "      <td>37.7500</td>\n",
       "      <td>...</td>\n",
       "      <td>3679.950</td>\n",
       "      <td>94.4881</td>\n",
       "      <td>101.3990</td>\n",
       "      <td>1</td>\n",
       "      <td>0.848490</td>\n",
       "      <td>18.00000</td>\n",
       "      <td>1.000000</td>\n",
       "      <td>43.0388</td>\n",
       "      <td>126.5630</td>\n",
       "      <td>1.041710</td>\n",
       "    </tr>\n",
       "    <tr>\n",
       "      <th>1</th>\n",
       "      <td>10008_10862_6996</td>\n",
       "      <td>55</td>\n",
       "      <td>452.3890</td>\n",
       "      <td>2</td>\n",
       "      <td>2</td>\n",
       "      <td>4</td>\n",
       "      <td>3</td>\n",
       "      <td>101.4750</td>\n",
       "      <td>126.875</td>\n",
       "      <td>54.6006</td>\n",
       "      <td>...</td>\n",
       "      <td>3411.390</td>\n",
       "      <td>94.5560</td>\n",
       "      <td>129.6090</td>\n",
       "      <td>2</td>\n",
       "      <td>0.883594</td>\n",
       "      <td>12.50000</td>\n",
       "      <td>0.997619</td>\n",
       "      <td>30.3671</td>\n",
       "      <td>79.4933</td>\n",
       "      <td>1.079210</td>\n",
       "    </tr>\n",
       "    <tr>\n",
       "      <th>2</th>\n",
       "      <td>10012_10978_7039</td>\n",
       "      <td>167</td>\n",
       "      <td>1017.8800</td>\n",
       "      <td>3</td>\n",
       "      <td>8</td>\n",
       "      <td>17</td>\n",
       "      <td>10</td>\n",
       "      <td>136.3750</td>\n",
       "      <td>113.975</td>\n",
       "      <td>138.9750</td>\n",
       "      <td>...</td>\n",
       "      <td>9567.580</td>\n",
       "      <td>98.6997</td>\n",
       "      <td>194.1950</td>\n",
       "      <td>5</td>\n",
       "      <td>0.923120</td>\n",
       "      <td>8.76471</td>\n",
       "      <td>0.999673</td>\n",
       "      <td>53.4994</td>\n",
       "      <td>74.6738</td>\n",
       "      <td>1.018630</td>\n",
       "    </tr>\n",
       "    <tr>\n",
       "      <th>3</th>\n",
       "      <td>10020_17924_8129</td>\n",
       "      <td>21</td>\n",
       "      <td>314.1590</td>\n",
       "      <td>1</td>\n",
       "      <td>0</td>\n",
       "      <td>1</td>\n",
       "      <td>1</td>\n",
       "      <td>27.7002</td>\n",
       "      <td>58.450</td>\n",
       "      <td>27.4751</td>\n",
       "      <td>...</td>\n",
       "      <td>979.716</td>\n",
       "      <td>61.9606</td>\n",
       "      <td>92.4919</td>\n",
       "      <td>1</td>\n",
       "      <td>0.669903</td>\n",
       "      <td>19.00000</td>\n",
       "      <td>1.000000</td>\n",
       "      <td>NaN</td>\n",
       "      <td>NaN</td>\n",
       "      <td>1.000000</td>\n",
       "    </tr>\n",
       "    <tr>\n",
       "      <th>4</th>\n",
       "      <td>10028_28224_6732</td>\n",
       "      <td>53</td>\n",
       "      <td>1520.5300</td>\n",
       "      <td>2</td>\n",
       "      <td>2</td>\n",
       "      <td>4</td>\n",
       "      <td>3</td>\n",
       "      <td>43.7744</td>\n",
       "      <td>36.825</td>\n",
       "      <td>151.3000</td>\n",
       "      <td>...</td>\n",
       "      <td>2970.690</td>\n",
       "      <td>97.7232</td>\n",
       "      <td>100.6840</td>\n",
       "      <td>2</td>\n",
       "      <td>0.928540</td>\n",
       "      <td>12.00000</td>\n",
       "      <td>0.559091</td>\n",
       "      <td>90.2482</td>\n",
       "      <td>99.1609</td>\n",
       "      <td>0.945141</td>\n",
       "    </tr>\n",
       "    <tr>\n",
       "      <th>...</th>\n",
       "      <td>...</td>\n",
       "      <td>...</td>\n",
       "      <td>...</td>\n",
       "      <td>...</td>\n",
       "      <td>...</td>\n",
       "      <td>...</td>\n",
       "      <td>...</td>\n",
       "      <td>...</td>\n",
       "      <td>...</td>\n",
       "      <td>...</td>\n",
       "      <td>...</td>\n",
       "      <td>...</td>\n",
       "      <td>...</td>\n",
       "      <td>...</td>\n",
       "      <td>...</td>\n",
       "      <td>...</td>\n",
       "      <td>...</td>\n",
       "      <td>...</td>\n",
       "      <td>...</td>\n",
       "      <td>...</td>\n",
       "      <td>...</td>\n",
       "    </tr>\n",
       "    <tr>\n",
       "      <th>179563</th>\n",
       "      <td>7626_18076_3068</td>\n",
       "      <td>73</td>\n",
       "      <td>201.0620</td>\n",
       "      <td>2</td>\n",
       "      <td>3</td>\n",
       "      <td>6</td>\n",
       "      <td>4</td>\n",
       "      <td>76.7998</td>\n",
       "      <td>82.250</td>\n",
       "      <td>107.2000</td>\n",
       "      <td>...</td>\n",
       "      <td>4015.650</td>\n",
       "      <td>73.2459</td>\n",
       "      <td>115.9610</td>\n",
       "      <td>3</td>\n",
       "      <td>0.874903</td>\n",
       "      <td>11.00000</td>\n",
       "      <td>1.191670</td>\n",
       "      <td>94.0654</td>\n",
       "      <td>107.5170</td>\n",
       "      <td>1.035190</td>\n",
       "    </tr>\n",
       "    <tr>\n",
       "      <th>179564</th>\n",
       "      <td>8122_17844_3762</td>\n",
       "      <td>124</td>\n",
       "      <td>804.2480</td>\n",
       "      <td>2</td>\n",
       "      <td>4</td>\n",
       "      <td>8</td>\n",
       "      <td>5</td>\n",
       "      <td>103.0250</td>\n",
       "      <td>106.100</td>\n",
       "      <td>108.8250</td>\n",
       "      <td>...</td>\n",
       "      <td>10541.900</td>\n",
       "      <td>99.5362</td>\n",
       "      <td>165.9480</td>\n",
       "      <td>3</td>\n",
       "      <td>0.761571</td>\n",
       "      <td>14.37500</td>\n",
       "      <td>1.227080</td>\n",
       "      <td>78.0923</td>\n",
       "      <td>112.9970</td>\n",
       "      <td>1.037780</td>\n",
       "    </tr>\n",
       "    <tr>\n",
       "      <th>179565</th>\n",
       "      <td>8813_17916_4826</td>\n",
       "      <td>68</td>\n",
       "      <td>452.3890</td>\n",
       "      <td>1</td>\n",
       "      <td>2</td>\n",
       "      <td>5</td>\n",
       "      <td>3</td>\n",
       "      <td>94.9497</td>\n",
       "      <td>161.225</td>\n",
       "      <td>87.0752</td>\n",
       "      <td>...</td>\n",
       "      <td>3153.400</td>\n",
       "      <td>97.3290</td>\n",
       "      <td>144.4650</td>\n",
       "      <td>3</td>\n",
       "      <td>0.911427</td>\n",
       "      <td>12.40000</td>\n",
       "      <td>0.846667</td>\n",
       "      <td>73.2495</td>\n",
       "      <td>96.4867</td>\n",
       "      <td>1.035190</td>\n",
       "    </tr>\n",
       "    <tr>\n",
       "      <th>179566</th>\n",
       "      <td>9571_7846_6146</td>\n",
       "      <td>569</td>\n",
       "      <td>4071.5000</td>\n",
       "      <td>5</td>\n",
       "      <td>25</td>\n",
       "      <td>53</td>\n",
       "      <td>29</td>\n",
       "      <td>139.5750</td>\n",
       "      <td>189.450</td>\n",
       "      <td>143.6000</td>\n",
       "      <td>...</td>\n",
       "      <td>71425.900</td>\n",
       "      <td>99.9630</td>\n",
       "      <td>241.2870</td>\n",
       "      <td>6</td>\n",
       "      <td>0.910135</td>\n",
       "      <td>9.71698</td>\n",
       "      <td>0.833497</td>\n",
       "      <td>61.2119</td>\n",
       "      <td>55.6274</td>\n",
       "      <td>1.094880</td>\n",
       "    </tr>\n",
       "    <tr>\n",
       "      <th>179567</th>\n",
       "      <td>9854_7212_6231</td>\n",
       "      <td>165</td>\n",
       "      <td>50.2655</td>\n",
       "      <td>1</td>\n",
       "      <td>9</td>\n",
       "      <td>19</td>\n",
       "      <td>10</td>\n",
       "      <td>94.3247</td>\n",
       "      <td>167.075</td>\n",
       "      <td>168.0250</td>\n",
       "      <td>...</td>\n",
       "      <td>52763.600</td>\n",
       "      <td>99.7788</td>\n",
       "      <td>185.6930</td>\n",
       "      <td>6</td>\n",
       "      <td>0.942105</td>\n",
       "      <td>7.63158</td>\n",
       "      <td>1.194760</td>\n",
       "      <td>52.5626</td>\n",
       "      <td>70.5131</td>\n",
       "      <td>1.030790</td>\n",
       "    </tr>\n",
       "  </tbody>\n",
       "</table>\n",
       "<p>179568 rows × 23 columns</p>\n",
       "</div>"
      ],
      "text/plain": [
       "                    name  Nodes  SomaSurface  Stems  Bifurcations  Branches  \\\n",
       "0       10001_19868_8155     39     804.2480      2             1         2   \n",
       "1       10008_10862_6996     55     452.3890      2             2         4   \n",
       "2       10012_10978_7039    167    1017.8800      3             8        17   \n",
       "3       10020_17924_8129     21     314.1590      1             0         1   \n",
       "4       10028_28224_6732     53    1520.5300      2             2         4   \n",
       "...                  ...    ...          ...    ...           ...       ...   \n",
       "179563   7626_18076_3068     73     201.0620      2             3         6   \n",
       "179564   8122_17844_3762    124     804.2480      2             4         8   \n",
       "179565   8813_17916_4826     68     452.3890      1             2         5   \n",
       "179566    9571_7846_6146    569    4071.5000      5            25        53   \n",
       "179567    9854_7212_6231    165      50.2655      1             9        19   \n",
       "\n",
       "        Tips  OverallWidth  OverallHeight  OverallDepth  ...     Volume  \\\n",
       "0          2       79.0244        107.125       37.7500  ...   3679.950   \n",
       "1          3      101.4750        126.875       54.6006  ...   3411.390   \n",
       "2         10      136.3750        113.975      138.9750  ...   9567.580   \n",
       "3          1       27.7002         58.450       27.4751  ...    979.716   \n",
       "4          3       43.7744         36.825      151.3000  ...   2970.690   \n",
       "...      ...           ...            ...           ...  ...        ...   \n",
       "179563     4       76.7998         82.250      107.2000  ...   4015.650   \n",
       "179564     5      103.0250        106.100      108.8250  ...  10541.900   \n",
       "179565     3       94.9497        161.225       87.0752  ...   3153.400   \n",
       "179566    29      139.5750        189.450      143.6000  ...  71425.900   \n",
       "179567    10       94.3247        167.075      168.0250  ...  52763.600   \n",
       "\n",
       "        MaxEuclideanDistance  MaxPathDistance  MaxBranchOrder  \\\n",
       "0                    94.4881         101.3990               1   \n",
       "1                    94.5560         129.6090               2   \n",
       "2                    98.6997         194.1950               5   \n",
       "3                    61.9606          92.4919               1   \n",
       "4                    97.7232         100.6840               2   \n",
       "...                      ...              ...             ...   \n",
       "179563               73.2459         115.9610               3   \n",
       "179564               99.5362         165.9480               3   \n",
       "179565               97.3290         144.4650               3   \n",
       "179566               99.9630         241.2870               6   \n",
       "179567               99.7788         185.6930               6   \n",
       "\n",
       "        AverageContraction  AverageFragmentation  AverageParent-daughterRatio  \\\n",
       "0                 0.848490              18.00000                     1.000000   \n",
       "1                 0.883594              12.50000                     0.997619   \n",
       "2                 0.923120               8.76471                     0.999673   \n",
       "3                 0.669903              19.00000                     1.000000   \n",
       "4                 0.928540              12.00000                     0.559091   \n",
       "...                    ...                   ...                          ...   \n",
       "179563            0.874903              11.00000                     1.191670   \n",
       "179564            0.761571              14.37500                     1.227080   \n",
       "179565            0.911427              12.40000                     0.846667   \n",
       "179566            0.910135               9.71698                     0.833497   \n",
       "179567            0.942105               7.63158                     1.194760   \n",
       "\n",
       "        AverageBifurcationAngleLocal  AverageBifurcationAngleRemote  \\\n",
       "0                            43.0388                       126.5630   \n",
       "1                            30.3671                        79.4933   \n",
       "2                            53.4994                        74.6738   \n",
       "3                                NaN                            NaN   \n",
       "4                            90.2482                        99.1609   \n",
       "...                              ...                            ...   \n",
       "179563                       94.0654                       107.5170   \n",
       "179564                       78.0923                       112.9970   \n",
       "179565                       73.2495                        96.4867   \n",
       "179566                       61.2119                        55.6274   \n",
       "179567                       52.5626                        70.5131   \n",
       "\n",
       "        HausdorffDimension  \n",
       "0                 1.041710  \n",
       "1                 1.079210  \n",
       "2                 1.018630  \n",
       "3                 1.000000  \n",
       "4                 0.945141  \n",
       "...                    ...  \n",
       "179563            1.035190  \n",
       "179564            1.037780  \n",
       "179565            1.035190  \n",
       "179566            1.094880  \n",
       "179567            1.030790  \n",
       "\n",
       "[179568 rows x 23 columns]"
      ]
     },
     "execution_count": 23,
     "metadata": {},
     "output_type": "execute_result"
    }
   ],
   "source": [
    "Ftable.rename(columns={'Name':'name'},inplace=True)\n",
    "Ftable"
   ]
  },
  {
   "cell_type": "code",
   "execution_count": 24,
   "id": "a08ffee4",
   "metadata": {},
   "outputs": [],
   "source": [
    "all_F_table['name'] = all_F_table['name'].map(lambda x : x.split('_stps')[0])"
   ]
  },
  {
   "cell_type": "code",
   "execution_count": 25,
   "id": "drawn-party",
   "metadata": {},
   "outputs": [
    {
     "data": {
      "text/html": [
       "<div>\n",
       "<style scoped>\n",
       "    .dataframe tbody tr th:only-of-type {\n",
       "        vertical-align: middle;\n",
       "    }\n",
       "\n",
       "    .dataframe tbody tr th {\n",
       "        vertical-align: top;\n",
       "    }\n",
       "\n",
       "    .dataframe thead th {\n",
       "        text-align: right;\n",
       "    }\n",
       "</style>\n",
       "<table border=\"1\" class=\"dataframe\">\n",
       "  <thead>\n",
       "    <tr style=\"text-align: right;\">\n",
       "      <th></th>\n",
       "      <th>name</th>\n",
       "      <th>Nodes</th>\n",
       "      <th>SomaSurface</th>\n",
       "      <th>Stems</th>\n",
       "      <th>Bifurcations</th>\n",
       "      <th>Branches</th>\n",
       "      <th>Tips</th>\n",
       "      <th>OverallWidth</th>\n",
       "      <th>OverallHeight</th>\n",
       "      <th>OverallDepth</th>\n",
       "      <th>...</th>\n",
       "      <th>MaxBranchOrder</th>\n",
       "      <th>AverageContraction</th>\n",
       "      <th>AverageFragmentation</th>\n",
       "      <th>AverageParent-daughterRatio</th>\n",
       "      <th>AverageBifurcationAngleLocal</th>\n",
       "      <th>AverageBifurcationAngleRemote</th>\n",
       "      <th>HausdorffDimension</th>\n",
       "      <th>Name</th>\n",
       "      <th>Brain</th>\n",
       "      <th>Soma region</th>\n",
       "    </tr>\n",
       "  </thead>\n",
       "  <tbody>\n",
       "    <tr>\n",
       "      <th>0</th>\n",
       "      <td>10001_19868_8155</td>\n",
       "      <td>39</td>\n",
       "      <td>804.2480</td>\n",
       "      <td>2</td>\n",
       "      <td>1</td>\n",
       "      <td>2</td>\n",
       "      <td>2</td>\n",
       "      <td>79.0244</td>\n",
       "      <td>107.125</td>\n",
       "      <td>37.7500</td>\n",
       "      <td>...</td>\n",
       "      <td>1</td>\n",
       "      <td>0.848490</td>\n",
       "      <td>18.00000</td>\n",
       "      <td>1.000000</td>\n",
       "      <td>43.0388</td>\n",
       "      <td>126.5630</td>\n",
       "      <td>1.041710</td>\n",
       "      <td>15257_10001_19868_8155_stps.swc</td>\n",
       "      <td>15257</td>\n",
       "      <td>fiber tracts</td>\n",
       "    </tr>\n",
       "    <tr>\n",
       "      <th>1</th>\n",
       "      <td>10008_10862_6996</td>\n",
       "      <td>55</td>\n",
       "      <td>452.3890</td>\n",
       "      <td>2</td>\n",
       "      <td>2</td>\n",
       "      <td>4</td>\n",
       "      <td>3</td>\n",
       "      <td>101.4750</td>\n",
       "      <td>126.875</td>\n",
       "      <td>54.6006</td>\n",
       "      <td>...</td>\n",
       "      <td>2</td>\n",
       "      <td>0.883594</td>\n",
       "      <td>12.50000</td>\n",
       "      <td>0.997619</td>\n",
       "      <td>30.3671</td>\n",
       "      <td>79.4933</td>\n",
       "      <td>1.079210</td>\n",
       "      <td>15257_10008_10862_6996_stps.swc</td>\n",
       "      <td>15257</td>\n",
       "      <td>ENTm</td>\n",
       "    </tr>\n",
       "    <tr>\n",
       "      <th>2</th>\n",
       "      <td>10012_10978_7039</td>\n",
       "      <td>167</td>\n",
       "      <td>1017.8800</td>\n",
       "      <td>3</td>\n",
       "      <td>8</td>\n",
       "      <td>17</td>\n",
       "      <td>10</td>\n",
       "      <td>136.3750</td>\n",
       "      <td>113.975</td>\n",
       "      <td>138.9750</td>\n",
       "      <td>...</td>\n",
       "      <td>5</td>\n",
       "      <td>0.923120</td>\n",
       "      <td>8.76471</td>\n",
       "      <td>0.999673</td>\n",
       "      <td>53.4994</td>\n",
       "      <td>74.6738</td>\n",
       "      <td>1.018630</td>\n",
       "      <td>15257_10012_10978_7039_stps.swc</td>\n",
       "      <td>15257</td>\n",
       "      <td>ENTm</td>\n",
       "    </tr>\n",
       "    <tr>\n",
       "      <th>3</th>\n",
       "      <td>10020_17924_8129</td>\n",
       "      <td>21</td>\n",
       "      <td>314.1590</td>\n",
       "      <td>1</td>\n",
       "      <td>0</td>\n",
       "      <td>1</td>\n",
       "      <td>1</td>\n",
       "      <td>27.7002</td>\n",
       "      <td>58.450</td>\n",
       "      <td>27.4751</td>\n",
       "      <td>...</td>\n",
       "      <td>1</td>\n",
       "      <td>0.669903</td>\n",
       "      <td>19.00000</td>\n",
       "      <td>1.000000</td>\n",
       "      <td>NaN</td>\n",
       "      <td>NaN</td>\n",
       "      <td>1.000000</td>\n",
       "      <td>15257_10020_17924_8129_stps.swc</td>\n",
       "      <td>15257</td>\n",
       "      <td>fiber tracts</td>\n",
       "    </tr>\n",
       "    <tr>\n",
       "      <th>4</th>\n",
       "      <td>10028_28224_6732</td>\n",
       "      <td>53</td>\n",
       "      <td>1520.5300</td>\n",
       "      <td>2</td>\n",
       "      <td>2</td>\n",
       "      <td>4</td>\n",
       "      <td>3</td>\n",
       "      <td>43.7744</td>\n",
       "      <td>36.825</td>\n",
       "      <td>151.3000</td>\n",
       "      <td>...</td>\n",
       "      <td>2</td>\n",
       "      <td>0.928540</td>\n",
       "      <td>12.00000</td>\n",
       "      <td>0.559091</td>\n",
       "      <td>90.2482</td>\n",
       "      <td>99.1609</td>\n",
       "      <td>0.945141</td>\n",
       "      <td>15257_10028_28224_6732_stps.swc</td>\n",
       "      <td>15257</td>\n",
       "      <td>SUB</td>\n",
       "    </tr>\n",
       "    <tr>\n",
       "      <th>...</th>\n",
       "      <td>...</td>\n",
       "      <td>...</td>\n",
       "      <td>...</td>\n",
       "      <td>...</td>\n",
       "      <td>...</td>\n",
       "      <td>...</td>\n",
       "      <td>...</td>\n",
       "      <td>...</td>\n",
       "      <td>...</td>\n",
       "      <td>...</td>\n",
       "      <td>...</td>\n",
       "      <td>...</td>\n",
       "      <td>...</td>\n",
       "      <td>...</td>\n",
       "      <td>...</td>\n",
       "      <td>...</td>\n",
       "      <td>...</td>\n",
       "      <td>...</td>\n",
       "      <td>...</td>\n",
       "      <td>...</td>\n",
       "      <td>...</td>\n",
       "    </tr>\n",
       "    <tr>\n",
       "      <th>179563</th>\n",
       "      <td>7626_18076_3068</td>\n",
       "      <td>73</td>\n",
       "      <td>201.0620</td>\n",
       "      <td>2</td>\n",
       "      <td>3</td>\n",
       "      <td>6</td>\n",
       "      <td>4</td>\n",
       "      <td>76.7998</td>\n",
       "      <td>82.250</td>\n",
       "      <td>107.2000</td>\n",
       "      <td>...</td>\n",
       "      <td>3</td>\n",
       "      <td>0.874903</td>\n",
       "      <td>11.00000</td>\n",
       "      <td>1.191670</td>\n",
       "      <td>94.0654</td>\n",
       "      <td>107.5170</td>\n",
       "      <td>1.035190</td>\n",
       "      <td>236174_7626_18076_3068_stps.swc</td>\n",
       "      <td>236174</td>\n",
       "      <td>ACAd</td>\n",
       "    </tr>\n",
       "    <tr>\n",
       "      <th>179564</th>\n",
       "      <td>8122_17844_3762</td>\n",
       "      <td>124</td>\n",
       "      <td>804.2480</td>\n",
       "      <td>2</td>\n",
       "      <td>4</td>\n",
       "      <td>8</td>\n",
       "      <td>5</td>\n",
       "      <td>103.0250</td>\n",
       "      <td>106.100</td>\n",
       "      <td>108.8250</td>\n",
       "      <td>...</td>\n",
       "      <td>3</td>\n",
       "      <td>0.761571</td>\n",
       "      <td>14.37500</td>\n",
       "      <td>1.227080</td>\n",
       "      <td>78.0923</td>\n",
       "      <td>112.9970</td>\n",
       "      <td>1.037780</td>\n",
       "      <td>236174_8122_17844_3762_stps.swc</td>\n",
       "      <td>236174</td>\n",
       "      <td>ACAd</td>\n",
       "    </tr>\n",
       "    <tr>\n",
       "      <th>179565</th>\n",
       "      <td>8813_17916_4826</td>\n",
       "      <td>68</td>\n",
       "      <td>452.3890</td>\n",
       "      <td>1</td>\n",
       "      <td>2</td>\n",
       "      <td>5</td>\n",
       "      <td>3</td>\n",
       "      <td>94.9497</td>\n",
       "      <td>161.225</td>\n",
       "      <td>87.0752</td>\n",
       "      <td>...</td>\n",
       "      <td>3</td>\n",
       "      <td>0.911427</td>\n",
       "      <td>12.40000</td>\n",
       "      <td>0.846667</td>\n",
       "      <td>73.2495</td>\n",
       "      <td>96.4867</td>\n",
       "      <td>1.035190</td>\n",
       "      <td>236174_8813_17916_4826_stps.swc</td>\n",
       "      <td>236174</td>\n",
       "      <td>ACAv</td>\n",
       "    </tr>\n",
       "    <tr>\n",
       "      <th>179566</th>\n",
       "      <td>9571_7846_6146</td>\n",
       "      <td>569</td>\n",
       "      <td>4071.5000</td>\n",
       "      <td>5</td>\n",
       "      <td>25</td>\n",
       "      <td>53</td>\n",
       "      <td>29</td>\n",
       "      <td>139.5750</td>\n",
       "      <td>189.450</td>\n",
       "      <td>143.6000</td>\n",
       "      <td>...</td>\n",
       "      <td>6</td>\n",
       "      <td>0.910135</td>\n",
       "      <td>9.71698</td>\n",
       "      <td>0.833497</td>\n",
       "      <td>61.2119</td>\n",
       "      <td>55.6274</td>\n",
       "      <td>1.094880</td>\n",
       "      <td>236174_9571_7846_6146_stps.swc</td>\n",
       "      <td>236174</td>\n",
       "      <td>AUDd</td>\n",
       "    </tr>\n",
       "    <tr>\n",
       "      <th>179567</th>\n",
       "      <td>9854_7212_6231</td>\n",
       "      <td>165</td>\n",
       "      <td>50.2655</td>\n",
       "      <td>1</td>\n",
       "      <td>9</td>\n",
       "      <td>19</td>\n",
       "      <td>10</td>\n",
       "      <td>94.3247</td>\n",
       "      <td>167.075</td>\n",
       "      <td>168.0250</td>\n",
       "      <td>...</td>\n",
       "      <td>6</td>\n",
       "      <td>0.942105</td>\n",
       "      <td>7.63158</td>\n",
       "      <td>1.194760</td>\n",
       "      <td>52.5626</td>\n",
       "      <td>70.5131</td>\n",
       "      <td>1.030790</td>\n",
       "      <td>236174_9854_7212_6231_stps.swc</td>\n",
       "      <td>236174</td>\n",
       "      <td>AUDp</td>\n",
       "    </tr>\n",
       "  </tbody>\n",
       "</table>\n",
       "<p>179568 rows × 26 columns</p>\n",
       "</div>"
      ],
      "text/plain": [
       "                    name  Nodes  SomaSurface  Stems  Bifurcations  Branches  \\\n",
       "0       10001_19868_8155     39     804.2480      2             1         2   \n",
       "1       10008_10862_6996     55     452.3890      2             2         4   \n",
       "2       10012_10978_7039    167    1017.8800      3             8        17   \n",
       "3       10020_17924_8129     21     314.1590      1             0         1   \n",
       "4       10028_28224_6732     53    1520.5300      2             2         4   \n",
       "...                  ...    ...          ...    ...           ...       ...   \n",
       "179563   7626_18076_3068     73     201.0620      2             3         6   \n",
       "179564   8122_17844_3762    124     804.2480      2             4         8   \n",
       "179565   8813_17916_4826     68     452.3890      1             2         5   \n",
       "179566    9571_7846_6146    569    4071.5000      5            25        53   \n",
       "179567    9854_7212_6231    165      50.2655      1             9        19   \n",
       "\n",
       "        Tips  OverallWidth  OverallHeight  OverallDepth  ...  MaxBranchOrder  \\\n",
       "0          2       79.0244        107.125       37.7500  ...               1   \n",
       "1          3      101.4750        126.875       54.6006  ...               2   \n",
       "2         10      136.3750        113.975      138.9750  ...               5   \n",
       "3          1       27.7002         58.450       27.4751  ...               1   \n",
       "4          3       43.7744         36.825      151.3000  ...               2   \n",
       "...      ...           ...            ...           ...  ...             ...   \n",
       "179563     4       76.7998         82.250      107.2000  ...               3   \n",
       "179564     5      103.0250        106.100      108.8250  ...               3   \n",
       "179565     3       94.9497        161.225       87.0752  ...               3   \n",
       "179566    29      139.5750        189.450      143.6000  ...               6   \n",
       "179567    10       94.3247        167.075      168.0250  ...               6   \n",
       "\n",
       "        AverageContraction  AverageFragmentation  AverageParent-daughterRatio  \\\n",
       "0                 0.848490              18.00000                     1.000000   \n",
       "1                 0.883594              12.50000                     0.997619   \n",
       "2                 0.923120               8.76471                     0.999673   \n",
       "3                 0.669903              19.00000                     1.000000   \n",
       "4                 0.928540              12.00000                     0.559091   \n",
       "...                    ...                   ...                          ...   \n",
       "179563            0.874903              11.00000                     1.191670   \n",
       "179564            0.761571              14.37500                     1.227080   \n",
       "179565            0.911427              12.40000                     0.846667   \n",
       "179566            0.910135               9.71698                     0.833497   \n",
       "179567            0.942105               7.63158                     1.194760   \n",
       "\n",
       "        AverageBifurcationAngleLocal  AverageBifurcationAngleRemote  \\\n",
       "0                            43.0388                       126.5630   \n",
       "1                            30.3671                        79.4933   \n",
       "2                            53.4994                        74.6738   \n",
       "3                                NaN                            NaN   \n",
       "4                            90.2482                        99.1609   \n",
       "...                              ...                            ...   \n",
       "179563                       94.0654                       107.5170   \n",
       "179564                       78.0923                       112.9970   \n",
       "179565                       73.2495                        96.4867   \n",
       "179566                       61.2119                        55.6274   \n",
       "179567                       52.5626                        70.5131   \n",
       "\n",
       "        HausdorffDimension                             Name   Brain  \\\n",
       "0                 1.041710  15257_10001_19868_8155_stps.swc   15257   \n",
       "1                 1.079210  15257_10008_10862_6996_stps.swc   15257   \n",
       "2                 1.018630  15257_10012_10978_7039_stps.swc   15257   \n",
       "3                 1.000000  15257_10020_17924_8129_stps.swc   15257   \n",
       "4                 0.945141  15257_10028_28224_6732_stps.swc   15257   \n",
       "...                    ...                              ...     ...   \n",
       "179563            1.035190  236174_7626_18076_3068_stps.swc  236174   \n",
       "179564            1.037780  236174_8122_17844_3762_stps.swc  236174   \n",
       "179565            1.035190  236174_8813_17916_4826_stps.swc  236174   \n",
       "179566            1.094880   236174_9571_7846_6146_stps.swc  236174   \n",
       "179567            1.030790   236174_9854_7212_6231_stps.swc  236174   \n",
       "\n",
       "         Soma region  \n",
       "0       fiber tracts  \n",
       "1               ENTm  \n",
       "2               ENTm  \n",
       "3       fiber tracts  \n",
       "4                SUB  \n",
       "...              ...  \n",
       "179563          ACAd  \n",
       "179564          ACAd  \n",
       "179565          ACAv  \n",
       "179566          AUDd  \n",
       "179567          AUDp  \n",
       "\n",
       "[179568 rows x 26 columns]"
      ]
     },
     "execution_count": 25,
     "metadata": {},
     "output_type": "execute_result"
    }
   ],
   "source": [
    "Ftable = pd.merge(Ftable,all_F_table,on='name')\n",
    "Ftable"
   ]
  },
  {
   "cell_type": "code",
   "execution_count": 260,
   "id": "photographic-underground",
   "metadata": {},
   "outputs": [],
   "source": [
    "type_category2 = ['TH','CTX','CNU','HY','CB','MB','HB','fiber','unknown','error']\n",
    "for i in type_category2:\n",
    "    Ftable.loc[Ftable['Soma region'].isin(eval(i)),'rough_type'] = i"
   ]
  },
  {
   "cell_type": "code",
   "execution_count": 28,
   "id": "12dee432",
   "metadata": {},
   "outputs": [],
   "source": [
    "### local stat\n",
    "final_filtered_namelist = pd.read_csv('final_filtered_swc0207.txt',header=None)\n",
    "category_table = pd.read_csv('reassigned_table.csv')"
   ]
  },
  {
   "cell_type": "code",
   "execution_count": 33,
   "id": "90435fc1",
   "metadata": {},
   "outputs": [],
   "source": [
    "final_filtered_namelist[0] = final_filtered_namelist[0].map(lambda x:x.split('_stps')[0])"
   ]
  },
  {
   "cell_type": "code",
   "execution_count": 34,
   "id": "38c36f1f",
   "metadata": {},
   "outputs": [],
   "source": [
    "final_filtered_namelist2 = list(final_filtered_namelist[0])"
   ]
  },
  {
   "cell_type": "code",
   "execution_count": 45,
   "id": "e74bb014",
   "metadata": {},
   "outputs": [],
   "source": [
    "category_table2 = category_table.copy()\n",
    "category_table2['Name'] = category_table2['Name'].map(lambda x:x[x.index(\"_\")+1:])"
   ]
  },
  {
   "cell_type": "code",
   "execution_count": 35,
   "id": "fd25a934",
   "metadata": {},
   "outputs": [
    {
     "data": {
      "text/plain": [
       "Index(['Name', 'Soma region', 'reassigned_type', 'reassigned_rough_type'], dtype='object')"
      ]
     },
     "execution_count": 35,
     "metadata": {},
     "output_type": "execute_result"
    }
   ],
   "source": [
    "category_table.columns"
   ]
  },
  {
   "cell_type": "code",
   "execution_count": 47,
   "id": "768e2bc1",
   "metadata": {},
   "outputs": [],
   "source": [
    "category_table_filtered = category_table2[category_table2['Name'].isin(final_filtered_namelist2)]"
   ]
  },
  {
   "cell_type": "code",
   "execution_count": 57,
   "id": "ac764242",
   "metadata": {},
   "outputs": [
    {
     "data": {
      "text/plain": [
       "22"
      ]
     },
     "execution_count": 57,
     "metadata": {},
     "output_type": "execute_result"
    }
   ],
   "source": [
    "len(np.unique(category_table_filtered[category_table_filtered['reassigned_rough_type']=='CNU']['reassigned_type']))"
   ]
  },
  {
   "cell_type": "markdown",
   "id": "c7cd7e63-9683-42bd-b825-15abd7d968de",
   "metadata": {},
   "source": [
    "#### fiber trans\n",
    "###### find the closest brain region to each fiber neuron"
   ]
  },
  {
   "cell_type": "code",
   "execution_count": 22,
   "id": "660506c7-6c2b-4036-aca6-fdbb26bd41c9",
   "metadata": {},
   "outputs": [
    {
     "name": "stdout",
     "output_type": "stream",
     "text": [
      "/home/penglab/Desktop/MyFiles/neuro_morpho_toolbox_20200908/neuro_morpho_toolbox/\n",
      "Loading CCF Atlas data...\n",
      "Loading time: 1.04\n",
      "Loading CCF brain structure data...\n",
      "Loading time: 0.04\n",
      "Loading selected CCF Atlas and Contour data...\n",
      "Loading flat_map ...\n",
      "Loading time: 280.72\n"
     ]
    }
   ],
   "source": [
    "import sys\n",
    "sys.path.append('../../neuro_morpho_toolbox_20200908')\n",
    "import neuro_morpho_toolbox as nmt"
   ]
  },
  {
   "cell_type": "code",
   "execution_count": 23,
   "id": "00eae384-3439-46ec-b55d-5bd14a85a625",
   "metadata": {},
   "outputs": [],
   "source": [
    "from concurrent.futures import ThreadPoolExecutor, as_completed\n",
    "from multiprocessing import Pool"
   ]
  },
  {
   "cell_type": "code",
   "execution_count": 227,
   "id": "243a345c-3fab-4a59-9e78-134ac6e48396",
   "metadata": {},
   "outputs": [
    {
     "data": {
      "text/html": [
       "<div>\n",
       "<style scoped>\n",
       "    .dataframe tbody tr th:only-of-type {\n",
       "        vertical-align: middle;\n",
       "    }\n",
       "\n",
       "    .dataframe tbody tr th {\n",
       "        vertical-align: top;\n",
       "    }\n",
       "\n",
       "    .dataframe thead th {\n",
       "        text-align: right;\n",
       "    }\n",
       "</style>\n",
       "<table border=\"1\" class=\"dataframe\">\n",
       "  <thead>\n",
       "    <tr style=\"text-align: right;\">\n",
       "      <th></th>\n",
       "      <th>order</th>\n",
       "      <th>structure ID</th>\n",
       "      <th>full structure name</th>\n",
       "      <th>abbreviation</th>\n",
       "      <th>parent_id</th>\n",
       "      <th>depth in tree</th>\n",
       "      <th>structure_id_path</th>\n",
       "      <th>total_voxel_counts (10 um)</th>\n",
       "    </tr>\n",
       "  </thead>\n",
       "  <tbody>\n",
       "    <tr>\n",
       "      <th>0</th>\n",
       "      <td>6</td>\n",
       "      <td>184</td>\n",
       "      <td>Frontal pole, cerebral cortex</td>\n",
       "      <td>FRP</td>\n",
       "      <td>315</td>\n",
       "      <td>6</td>\n",
       "      <td>/997/8/567/688/695/315/184/</td>\n",
       "      <td>973876</td>\n",
       "    </tr>\n",
       "    <tr>\n",
       "      <th>1</th>\n",
       "      <td>18</td>\n",
       "      <td>985</td>\n",
       "      <td>Primary motor area</td>\n",
       "      <td>MOp</td>\n",
       "      <td>500</td>\n",
       "      <td>7</td>\n",
       "      <td>/997/8/567/688/695/315/500/985/</td>\n",
       "      <td>11351334</td>\n",
       "    </tr>\n",
       "    <tr>\n",
       "      <th>2</th>\n",
       "      <td>24</td>\n",
       "      <td>993</td>\n",
       "      <td>Secondary motor area</td>\n",
       "      <td>MOs</td>\n",
       "      <td>500</td>\n",
       "      <td>7</td>\n",
       "      <td>/997/8/567/688/695/315/500/993/</td>\n",
       "      <td>13099028</td>\n",
       "    </tr>\n",
       "    <tr>\n",
       "      <th>3</th>\n",
       "      <td>44</td>\n",
       "      <td>353</td>\n",
       "      <td>Primary somatosensory area, nose</td>\n",
       "      <td>SSp-n</td>\n",
       "      <td>322</td>\n",
       "      <td>8</td>\n",
       "      <td>/997/8/567/688/695/315/453/322/353/</td>\n",
       "      <td>3019080</td>\n",
       "    </tr>\n",
       "    <tr>\n",
       "      <th>4</th>\n",
       "      <td>51</td>\n",
       "      <td>329</td>\n",
       "      <td>Primary somatosensory area, barrel field</td>\n",
       "      <td>SSp-bfd</td>\n",
       "      <td>322</td>\n",
       "      <td>8</td>\n",
       "      <td>/997/8/567/688/695/315/453/322/329/</td>\n",
       "      <td>6287780</td>\n",
       "    </tr>\n",
       "    <tr>\n",
       "      <th>...</th>\n",
       "      <td>...</td>\n",
       "      <td>...</td>\n",
       "      <td>...</td>\n",
       "      <td>...</td>\n",
       "      <td>...</td>\n",
       "      <td>...</td>\n",
       "      <td>...</td>\n",
       "      <td>...</td>\n",
       "    </tr>\n",
       "    <tr>\n",
       "      <th>311</th>\n",
       "      <td>1097</td>\n",
       "      <td>989</td>\n",
       "      <td>Fastigial nucleus</td>\n",
       "      <td>FN</td>\n",
       "      <td>519</td>\n",
       "      <td>4</td>\n",
       "      <td>/997/8/512/519/989/</td>\n",
       "      <td>502036</td>\n",
       "    </tr>\n",
       "    <tr>\n",
       "      <th>312</th>\n",
       "      <td>1098</td>\n",
       "      <td>91</td>\n",
       "      <td>Interposed nucleus</td>\n",
       "      <td>IP</td>\n",
       "      <td>519</td>\n",
       "      <td>4</td>\n",
       "      <td>/997/8/512/519/91/</td>\n",
       "      <td>859874</td>\n",
       "    </tr>\n",
       "    <tr>\n",
       "      <th>313</th>\n",
       "      <td>1099</td>\n",
       "      <td>846</td>\n",
       "      <td>Dentate nucleus</td>\n",
       "      <td>DN</td>\n",
       "      <td>519</td>\n",
       "      <td>4</td>\n",
       "      <td>/997/8/512/519/846/</td>\n",
       "      <td>334984</td>\n",
       "    </tr>\n",
       "    <tr>\n",
       "      <th>314</th>\n",
       "      <td>1100</td>\n",
       "      <td>589508455</td>\n",
       "      <td>Vestibulocerebellar nucleus</td>\n",
       "      <td>VeCB</td>\n",
       "      <td>519</td>\n",
       "      <td>4</td>\n",
       "      <td>/997/8/512/519/589508455/</td>\n",
       "      <td>85146</td>\n",
       "    </tr>\n",
       "    <tr>\n",
       "      <th>315</th>\n",
       "      <td>1101</td>\n",
       "      <td>1009</td>\n",
       "      <td>fiber tracts</td>\n",
       "      <td>fiber tracts</td>\n",
       "      <td>997</td>\n",
       "      <td>1</td>\n",
       "      <td>/997/1009/</td>\n",
       "      <td>46921388</td>\n",
       "    </tr>\n",
       "  </tbody>\n",
       "</table>\n",
       "<p>316 rows × 8 columns</p>\n",
       "</div>"
      ],
      "text/plain": [
       "     order  structure ID                       full structure name  \\\n",
       "0        6           184             Frontal pole, cerebral cortex   \n",
       "1       18           985                        Primary motor area   \n",
       "2       24           993                      Secondary motor area   \n",
       "3       44           353          Primary somatosensory area, nose   \n",
       "4       51           329  Primary somatosensory area, barrel field   \n",
       "..     ...           ...                                       ...   \n",
       "311   1097           989                         Fastigial nucleus   \n",
       "312   1098            91                        Interposed nucleus   \n",
       "313   1099           846                           Dentate nucleus   \n",
       "314   1100     589508455               Vestibulocerebellar nucleus   \n",
       "315   1101          1009                              fiber tracts   \n",
       "\n",
       "     abbreviation  parent_id  depth in tree  \\\n",
       "0             FRP        315              6   \n",
       "1             MOp        500              7   \n",
       "2             MOs        500              7   \n",
       "3           SSp-n        322              8   \n",
       "4         SSp-bfd        322              8   \n",
       "..            ...        ...            ...   \n",
       "311            FN        519              4   \n",
       "312            IP        519              4   \n",
       "313            DN        519              4   \n",
       "314          VeCB        519              4   \n",
       "315  fiber tracts        997              1   \n",
       "\n",
       "                       structure_id_path  total_voxel_counts (10 um)  \n",
       "0            /997/8/567/688/695/315/184/                      973876  \n",
       "1        /997/8/567/688/695/315/500/985/                    11351334  \n",
       "2        /997/8/567/688/695/315/500/993/                    13099028  \n",
       "3    /997/8/567/688/695/315/453/322/353/                     3019080  \n",
       "4    /997/8/567/688/695/315/453/322/329/                     6287780  \n",
       "..                                   ...                         ...  \n",
       "311                  /997/8/512/519/989/                      502036  \n",
       "312                   /997/8/512/519/91/                      859874  \n",
       "313                  /997/8/512/519/846/                      334984  \n",
       "314            /997/8/512/519/589508455/                       85146  \n",
       "315                           /997/1009/                    46921388  \n",
       "\n",
       "[316 rows x 8 columns]"
      ]
     },
     "execution_count": 227,
     "metadata": {},
     "output_type": "execute_result"
    }
   ],
   "source": [
    "## region boundary\n",
    "region_table = pd.read_excel(\"/Users/krystal/Desktop/project/cloud_paper/CCFv3 Summary Structures.xlsx\")\n",
    "region_table"
   ]
  },
  {
   "cell_type": "code",
   "execution_count": 26,
   "id": "926575e7-8151-4776-96fd-c3fd3e4fa6a5",
   "metadata": {},
   "outputs": [],
   "source": [
    "regionList = np.unique(region_table['abbreviation'])"
   ]
  },
  {
   "cell_type": "code",
   "execution_count": 27,
   "id": "55b6e3fe-45b5-4b52-aec8-88ef0eca4489",
   "metadata": {},
   "outputs": [],
   "source": [
    "ccf_reassigned_f='/home/penglab/Desktop/MyFiles/neuro_morpho_toolbox_20200908/ccf_reassigned.pickle'\n",
    "if os.path.exists(ccf_reassigned_f):\n",
    "    with open(ccf_reassigned_f,'rb') as f:\n",
    "        my_annotation=pickle.load(f)\n",
    "else:\n",
    "    print('reassign start... will take a long time.')\n",
    "    selected_annotaion=reassign_region_id()\n",
    "    my_annotation=nmt.annotation\n",
    "    my_annotation.array=selected_annotaion\n",
    "    with open(ccf_reassigned_f,'wb') as f:\n",
    "        pickle.dump(my_annotation,f)\n",
    "\n",
    "ccf_z_mid=nmt.annotation.size['z']/2"
   ]
  },
  {
   "cell_type": "code",
   "execution_count": 28,
   "id": "a31657de-deaf-4e0c-807d-4760acc2f50a",
   "metadata": {},
   "outputs": [],
   "source": [
    "brainRegion_range = pd.DataFrame(columns=['region','xmin','xmax','ymin','ymax','zmin','zmax'])"
   ]
  },
  {
   "cell_type": "code",
   "execution_count": 29,
   "id": "7f08fba9-ef5f-489b-acad-fe1bdd086551",
   "metadata": {},
   "outputs": [],
   "source": [
    "for region in regionList:\n",
    "    # saved_region_f='./region_boundary/'+region+'_boundary.pickle'\n",
    "    # if os.path.exists(saved_region_f):\n",
    "    #     continue\n",
    "    # if region in ['SSp','ADUv','BS']:\n",
    "    #     continue\n",
    "    # print(region)\n",
    "    if region in ['MDRN','fiber tracts']:\n",
    "        continue\n",
    "    selected_annotaion=my_annotation.array\n",
    "    region_id=nmt.bs.name_to_id(region)\n",
    "    \n",
    "    ix, iy, iz = np.where(selected_annotaion == region_id)\n",
    "    ix_min=ix.min()\n",
    "    ix_max=ix.max()\n",
    "    iy_min=iy.min()\n",
    "    iy_max=iy.max()\n",
    "    iz_min=iz.min()\n",
    "    iz_max=0\n",
    "    for zi in np.arange(iz.size):\n",
    "        if iz[zi] < ccf_z_mid and iz_max < iz[zi]:\n",
    "            iz_max = iz[zi]\n",
    "    brainRegion_range = brainRegion_range._append({'region':region,'xmin':ix_min,'xmax':ix_max,'ymin':iy_min,'ymax':iy_max,\n",
    "                                                  'zmin':iz_min,'zmax':iz_max},ignore_index=True)\n",
    "    # boundary_data=[]\n",
    "    # for x in np.arange(ix_min,ix_max+1):\n",
    "    #     for y in np.arange(iy_min,iy_max+1):\n",
    "    #         for z in np.arange(iz_min,iz_max+1):\n",
    "    #             if selected_annotaion[x,y,z] != region_id:\n",
    "    #                 continue\n",
    "    #             boundary=False\n",
    "    #             for kx in [-1,0,1]:\n",
    "    #                 for ky in [-1,0,1]:\n",
    "    #                     for kz in [-1,0,1]:\n",
    "    #                         if selected_annotaion[x+kx,y+ky,z+kz] != region_id:\n",
    "    #                             boundary=True\n",
    "    #                             break\n",
    "    #             if boundary:\n",
    "    #                 boundary_data.append([x,y,z])\n",
    "    #\n",
    "    # with open(saved_region_f,'wb') as f:\n",
    "    #     pickle.dump(boundary_data,f)"
   ]
  },
  {
   "cell_type": "code",
   "execution_count": 30,
   "id": "833011c7-8ff9-4aaf-8c98-7e94ee2ac525",
   "metadata": {},
   "outputs": [],
   "source": [
    "### test each soma position in fiber \n",
    "reassigned_soma_region = list(Ftable['Soma region'])\n",
    "fiber_neurons = Ftable[Ftable['Soma region']=='fiber tracts']\n",
    "fiber_neuron_index = list(Ftable[Ftable['Soma region']=='fiber tracts'].index)\n",
    "soma_info = pd.read_csv('179k_somalist.txt',sep=' ',header=None)"
   ]
  },
  {
   "cell_type": "code",
   "execution_count": 31,
   "id": "visible-split",
   "metadata": {},
   "outputs": [
    {
     "data": {
      "text/plain": [
       "10769"
      ]
     },
     "execution_count": 31,
     "metadata": {},
     "output_type": "execute_result"
    }
   ],
   "source": [
    "len(fiber_neurons)"
   ]
  },
  {
   "cell_type": "code",
   "execution_count": 54,
   "id": "3efcae1a-f81a-4444-8a96-1458ba0ce651",
   "metadata": {},
   "outputs": [],
   "source": [
    "def reassign_region(in_parameters):\n",
    "    f_neuron_index = in_parameters[0]\n",
    "    s_info = in_parameters[1]\n",
    "    brainR_range = in_parameters[2]\n",
    "    \n",
    "    soma_xyz = s_info[['x','y','z']].values[0]\n",
    "    soma_xyz = soma_xyz/25\n",
    "    \n",
    "    n = 0\n",
    "    expansion_Round = 0\n",
    "    #interval = [0,0.57,1.15]\n",
    "    interval = [i for i in range(10)]\n",
    "    while ((n == 0)&(expansion_Round<5)):      \n",
    "        soma_xyz_large = soma_xyz+interval[expansion_Round]\n",
    "        soma_xyz_small = soma_xyz-interval[expansion_Round]\n",
    "        rows = brainR_range[((brainR_range['xmax']>=soma_xyz_small[0])&(brainR_range['xmin']<=soma_xyz_large[0]))|\n",
    "                                  ((brainR_range['ymax']>=soma_xyz_small[1])&(brainR_range['ymin']<=soma_xyz_large[1]))|\n",
    "                                   ((brainR_range['zmax']>=soma_xyz_small[2])&(brainR_range['zmin']<=soma_xyz_large[2]))]\n",
    "        n = len(rows)\n",
    "        expansion_Round = expansion_Round + 1\n",
    "\n",
    "    soma_int = [round(soma_xyz[0]),round(soma_xyz[1]),round(soma_xyz[2])]\n",
    "    \n",
    "    minD = []\n",
    "    reR = []\n",
    "    \n",
    "    if (len(rows)==0):\n",
    "        return [f_neuron_index,'unknown']\n",
    "        \n",
    "    for j in list(rows['region']):\n",
    "        boundary_file = \"region_boundary/\"+str(j)+\"_boundary.pickle\"\n",
    "        pickle_file = open(boundary_file, 'rb')\n",
    "        region_content = pickle.load(pickle_file)\n",
    "        region_content_df = pd.DataFrame(region_content, columns=['x', 'y','z'])  \n",
    "        region_XYZ = region_content_df[['x','y','z']].values\n",
    "        d = np.linalg.norm(region_XYZ - soma_xyz,axis=1)\n",
    "        min_d = np.min(d)\n",
    "        \n",
    "        match = region_content_df[(region_content_df['x']==soma_int[0])&(region_content_df['y']==soma_int[1])&\n",
    "                                   (region_content_df['z']==soma_int[2])]\n",
    "        if len(match) > 0:\n",
    "            return [i,j]\n",
    "        else:\n",
    "            minD.append(min_d)\n",
    "            reR.append(j)\n",
    "    minD = np.array(minD)\n",
    "    min_dist = np.min(minD)\n",
    "    min_index = np.where(minD==min_dist)[0].tolist()\n",
    "    if(min_dist<=2):\n",
    "        if len(min_index) == 1:\n",
    "            R = reR[min_index[0]]\n",
    "            return [f_neuron_index,R]\n",
    "        else:\n",
    "            return [f_neuron_index,'unknown']\n",
    "    else:\n",
    "        return [f_neuron_index,'unknown']"
   ]
  },
  {
   "cell_type": "code",
   "execution_count": 50,
   "id": "f80b0c89-d892-4cd3-9175-52d74da14e97",
   "metadata": {},
   "outputs": [],
   "source": [
    "in_parameters = []\n",
    "for i in range(len(fiber_neurons)):\n",
    "    name = fiber_neurons.iloc[i]['name'].split('.swc')[0]\n",
    "    s_info = soma_info[soma_info['name']==name]\n",
    "    in_para = [fiber_neuron_index[i],s_info,brainRegion_range]\n",
    "    in_parameters.append(in_para)"
   ]
  },
  {
   "cell_type": "code",
   "execution_count": 55,
   "id": "48cdb4c8-3dbd-4ae9-8dd1-fb845cdfcd2b",
   "metadata": {},
   "outputs": [],
   "source": [
    "cpu_workder_num = 15\n",
    "with Pool(cpu_workder_num) as pool:\n",
    "    results = pool.map(reassign_region,in_parameters)\n",
    "pool.close()"
   ]
  },
  {
   "cell_type": "code",
   "execution_count": 57,
   "id": "82952967-3c40-45e6-9672-26eec277f3b0",
   "metadata": {},
   "outputs": [],
   "source": [
    "unknown_neurons = Ftable[Ftable['Soma region']=='error']\n",
    "unknown_neurons_index = list(Ftable[Ftable['Soma region']=='error'].index)"
   ]
  },
  {
   "cell_type": "code",
   "execution_count": 58,
   "id": "8800f2a6-d748-4158-a379-03cc4827d635",
   "metadata": {},
   "outputs": [
    {
     "data": {
      "text/plain": [
       "23702"
      ]
     },
     "execution_count": 58,
     "metadata": {},
     "output_type": "execute_result"
    }
   ],
   "source": [
    "len(unknown_neurons)"
   ]
  },
  {
   "cell_type": "code",
   "execution_count": 59,
   "id": "bb247de3-fe76-4457-ba22-4c5c4ccece39",
   "metadata": {},
   "outputs": [],
   "source": [
    "in_parameters2 = []\n",
    "for i in range(len(unknown_neurons)):\n",
    "    name = unknown_neurons.iloc[i]['name'].split('.swc')[0]\n",
    "    s_info2 = soma_info[soma_info['name']==name]\n",
    "    in_para2 = [unknown_neurons_index[i],s_info2,brainRegion_range]\n",
    "    in_parameters2.append(in_para2)"
   ]
  },
  {
   "cell_type": "code",
   "execution_count": 60,
   "id": "2ff6fa51-5a9f-4152-ac86-cb3febf20cdd",
   "metadata": {},
   "outputs": [],
   "source": [
    "cpu_workder_num = 15\n",
    "with Pool(cpu_workder_num) as pool:\n",
    "    results2 = pool.map(reassign_region,in_parameters2)\n",
    "pool.close()"
   ]
  },
  {
   "cell_type": "code",
   "execution_count": 208,
   "id": "339791dd-6d90-47b5-a50b-b5c2ff8be01b",
   "metadata": {},
   "outputs": [],
   "source": [
    "np.savetxt('fiber.txt',np.array(results),fmt='%s')"
   ]
  },
  {
   "cell_type": "code",
   "execution_count": 209,
   "id": "f6cdfcea-d689-41b4-971a-ca38c746394a",
   "metadata": {},
   "outputs": [],
   "source": [
    "np.savetxt('error.txt',np.array(results2),fmt='%s')"
   ]
  },
  {
   "cell_type": "markdown",
   "id": "8d0f98e5-27a4-445b-8ffd-e79c8695f650",
   "metadata": {},
   "source": [
    "#### merge reassigned info"
   ]
  },
  {
   "cell_type": "code",
   "execution_count": 261,
   "id": "1f57a8bc-f501-4740-945d-ca09c92b1530",
   "metadata": {},
   "outputs": [],
   "source": [
    "error_re = pd.read_csv('error.txt',header=None,sep=' ')\n",
    "fiber_re = pd.read_csv('fiber.txt',header=None,sep=' ')"
   ]
  },
  {
   "cell_type": "code",
   "execution_count": 262,
   "id": "bb86903f-33ae-4dfb-ad1d-4003d611139a",
   "metadata": {},
   "outputs": [],
   "source": [
    "reassigned_type = list(Ftable['Soma region'].copy())"
   ]
  },
  {
   "cell_type": "code",
   "execution_count": 263,
   "id": "2d5760a4-24bc-4fe5-991d-4b7143e28fcd",
   "metadata": {},
   "outputs": [],
   "source": [
    "for i in range(len(fiber_re)):\n",
    "    #reassigned_type[fiber_neuron_index[fiber_re.iloc[i][0]]] = fiber_re.iloc[i][1]\n",
    "    reassigned_type[fiber_re.iloc[i][0]] = fiber_re.iloc[i][1]"
   ]
  },
  {
   "cell_type": "code",
   "execution_count": 264,
   "id": "f9ac4a90-51f6-4e36-baed-e600321e71f1",
   "metadata": {},
   "outputs": [],
   "source": [
    "for i in range(len(error_re)):\n",
    "    #reassigned_type[unknown_neurons_index[error_re.iloc[i][0]]] = error_re.iloc[i][1]\n",
    "    reassigned_type[error_re.iloc[i][0]] = error_re.iloc[i][1]"
   ]
  },
  {
   "cell_type": "code",
   "execution_count": 328,
   "id": "2936af3f-9cec-439d-b82d-cb9b1f1ca2b5",
   "metadata": {},
   "outputs": [],
   "source": [
    "## double check\n",
    "for i in range(len(Ftable)):\n",
    "    a = Ftable.iloc[i]['Soma region']\n",
    "    if ((a!='fiber tracts')&(a!='error')):\n",
    "        b = reassigned_type[i]\n",
    "        if(a!=b):\n",
    "            print(i)"
   ]
  },
  {
   "cell_type": "code",
   "execution_count": 265,
   "id": "01b00dc3-6706-4cd9-a01b-6a79e0e9e3e5",
   "metadata": {},
   "outputs": [],
   "source": [
    "Ftable['reassigned_type'] = reassigned_type"
   ]
  },
  {
   "cell_type": "code",
   "execution_count": 266,
   "id": "ea243409-92b8-4aec-822c-7de6725a5227",
   "metadata": {},
   "outputs": [],
   "source": [
    "for i in type_category2:\n",
    "    Ftable.loc[Ftable['reassigned_type'].isin(eval(i)),'reassigned_rough_type'] = i"
   ]
  },
  {
   "cell_type": "code",
   "execution_count": 267,
   "id": "0c75a4c4",
   "metadata": {},
   "outputs": [
    {
     "data": {
      "text/plain": [
       "151294"
      ]
     },
     "execution_count": 267,
     "metadata": {},
     "output_type": "execute_result"
    }
   ],
   "source": [
    "len(Ftable[Ftable['reassigned_type']!='unknown'])"
   ]
  },
  {
   "cell_type": "code",
   "execution_count": 269,
   "id": "equipped-experiment",
   "metadata": {},
   "outputs": [],
   "source": [
    "out_table = Ftable.copy()\n",
    "out_table['Name'] = out_table['Name'].map(lambda x : x.split(\"_stps\")[0])\n",
    "out_table[['Name','Soma region','reassigned_type','reassigned_rough_type']].to_csv('reassigned_table.csv',index=None)"
   ]
  },
  {
   "cell_type": "markdown",
   "id": "animated-vanilla",
   "metadata": {},
   "source": [
    "## Final filtering"
   ]
  },
  {
   "cell_type": "code",
   "execution_count": 270,
   "id": "a6a7f793-d06f-4803-9d56-23a151841fb7",
   "metadata": {},
   "outputs": [],
   "source": [
    "def filter(type_category,type_involved,criteria_table,Ftable,min_max):\n",
    "    B_min=min_max[0]\n",
    "    B_max=min_max[1]\n",
    "    L_min=min_max[2]\n",
    "    L_max=min_max[3]\n",
    "    \n",
    "    filtered_swc_list = []\n",
    "    for i in type_category:\n",
    "        rows = Ftable[Ftable['reassigned_rough_type'] == i] \n",
    "        if len(rows) == 0:\n",
    "            continue\n",
    "        if i in type_involved:\n",
    "            tid = type_involved.index(i)\n",
    "            s = rows[(rows['Bifurcations']>=criteria_table[tid,4]*0.95) & (rows['Bifurcations']<=criteria_table[tid,5]*1.05) &\n",
    "                    (rows['Length']>=criteria_table[tid,2]*0.95) & (rows['Length']<=criteria_table[tid,3]*1.05)]\n",
    "    #         s = rows[(rows['Length']>=criteria_table[tid,2]*0.2) & (rows['Length']<=criteria_table[tid,3]*2)]\n",
    "            if len(s) > 0:\n",
    "                filtered_swc_list = filtered_swc_list+list(s['name'])\n",
    "        else:\n",
    "            s = rows[(rows['Bifurcations']>=B_min*0.95) & (rows['Bifurcations']<=B_max*1.05) &\n",
    "                    (rows['Length']>=L_min*0.95) & (rows['Length']<=L_max*1.05)]\n",
    "            if len(s) > 0:\n",
    "                filtered_swc_list = filtered_swc_list+list(s['name'])\n",
    "    return filtered_swc_list"
   ]
  },
  {
   "cell_type": "code",
   "execution_count": 109,
   "id": "410d8e0a",
   "metadata": {},
   "outputs": [
    {
     "data": {
      "text/plain": [
       "array(['CB', 'CNU', 'CTX', 'HB', 'HY', 'MB', 'TH', 'unknown'],\n",
       "      dtype=object)"
      ]
     },
     "execution_count": 109,
     "metadata": {},
     "output_type": "execute_result"
    }
   ],
   "source": [
    "np.unique(Ftable['reassigned_rough_type'])"
   ]
  },
  {
   "cell_type": "code",
   "execution_count": 271,
   "id": "57b11041-199a-46e7-b7f3-c77fec32e42d",
   "metadata": {},
   "outputs": [],
   "source": [
    "LB = [B_min,B_max,L_min,L_max]\n",
    "type_category_final = ['CB', 'CNU', 'CTX', 'HB', 'HY', 'MB', 'TH']\n",
    "filtered_swc_list = filter(type_category_final,type_involved,criteria_table,Ftable,LB)"
   ]
  },
  {
   "cell_type": "code",
   "execution_count": 272,
   "id": "coupled-forge",
   "metadata": {},
   "outputs": [
    {
     "data": {
      "text/plain": [
       "103603"
      ]
     },
     "execution_count": 272,
     "metadata": {},
     "output_type": "execute_result"
    }
   ],
   "source": [
    "len(filtered_swc_list)"
   ]
  },
  {
   "cell_type": "code",
   "execution_count": 230,
   "id": "0685b9e5",
   "metadata": {},
   "outputs": [],
   "source": [
    "tmp = filtered_swc_list.copy()\n",
    "tmp[0] = tmp[0].map(lambda x: x+\"_stps.swc\")"
   ]
  },
  {
   "cell_type": "code",
   "execution_count": 231,
   "id": "d19f40d4",
   "metadata": {},
   "outputs": [],
   "source": [
    "np.savetxt('final_filtered_swc0207.txt',np.array(tmp),fmt='%s')"
   ]
  },
  {
   "cell_type": "code",
   "execution_count": 123,
   "id": "1f279372-d592-4a1f-ac9a-507bcf7151b0",
   "metadata": {},
   "outputs": [],
   "source": [
    "np.savetxt('final_filtered_swc0205.txt',np.array(filtered_swc_list),fmt='%s')"
   ]
  },
  {
   "cell_type": "markdown",
   "id": "64dda384-c7cf-4cc0-975c-ce23b1bb1e89",
   "metadata": {},
   "source": [
    "## Brain region Distribution"
   ]
  },
  {
   "cell_type": "code",
   "execution_count": 273,
   "id": "systematic-transformation",
   "metadata": {},
   "outputs": [],
   "source": [
    "filtered_swc_list = pd.read_csv('final_filtered_swc0205.txt',header=None)\n",
    "gf_table = pd.read_csv('gf_1876_crop.csv')\n",
    "celltype_table = pd.read_csv('1876_soma_region.csv')\n",
    "Ftable = pd.read_csv('gf_179k_crop.csv')\n",
    "celltype_Ftable = pd.read_csv('reassigned_table.csv')"
   ]
  },
  {
   "cell_type": "code",
   "execution_count": 140,
   "id": "f006f0d4",
   "metadata": {},
   "outputs": [],
   "source": [
    "soma_info = pd.read_csv('179k_somalist.txt',sep=' ',header=None)\n",
    "soma_info.columns=['name','x','y','z']\n",
    "soma_info['name'] = soma_info['name'].map(lambda x:x.split('_stps')[0])"
   ]
  },
  {
   "cell_type": "code",
   "execution_count": 141,
   "id": "2c1ccb9e",
   "metadata": {},
   "outputs": [
    {
     "data": {
      "text/plain": [
       "103603"
      ]
     },
     "execution_count": 141,
     "metadata": {},
     "output_type": "execute_result"
    }
   ],
   "source": [
    "filtered_soma_info = soma_info[soma_info['name'].isin(filtered_swc_list[0])]\n",
    "len(filtered_soma_info)"
   ]
  },
  {
   "cell_type": "code",
   "execution_count": 142,
   "id": "72e6c9ba",
   "metadata": {},
   "outputs": [
    {
     "name": "stderr",
     "output_type": "stream",
     "text": [
      "/var/folders/7l/zhd6m6dn33s94rgr0gyffgq40000gn/T/ipykernel_35518/2549875749.py:1: SettingWithCopyWarning: \n",
      "A value is trying to be set on a copy of a slice from a DataFrame.\n",
      "Try using .loc[row_indexer,col_indexer] = value instead\n",
      "\n",
      "See the caveats in the documentation: https://pandas.pydata.org/pandas-docs/stable/user_guide/indexing.html#returning-a-view-versus-a-copy\n",
      "  filtered_soma_info['x'] = filtered_soma_info['x'].map(lambda x: x/25)\n",
      "/var/folders/7l/zhd6m6dn33s94rgr0gyffgq40000gn/T/ipykernel_35518/2549875749.py:2: SettingWithCopyWarning: \n",
      "A value is trying to be set on a copy of a slice from a DataFrame.\n",
      "Try using .loc[row_indexer,col_indexer] = value instead\n",
      "\n",
      "See the caveats in the documentation: https://pandas.pydata.org/pandas-docs/stable/user_guide/indexing.html#returning-a-view-versus-a-copy\n",
      "  filtered_soma_info['y'] = filtered_soma_info['y'].map(lambda x: x/25)\n",
      "/var/folders/7l/zhd6m6dn33s94rgr0gyffgq40000gn/T/ipykernel_35518/2549875749.py:3: SettingWithCopyWarning: \n",
      "A value is trying to be set on a copy of a slice from a DataFrame.\n",
      "Try using .loc[row_indexer,col_indexer] = value instead\n",
      "\n",
      "See the caveats in the documentation: https://pandas.pydata.org/pandas-docs/stable/user_guide/indexing.html#returning-a-view-versus-a-copy\n",
      "  filtered_soma_info['z'] = filtered_soma_info['z'].map(lambda x: x/25)\n"
     ]
    }
   ],
   "source": [
    "filtered_soma_info['x'] = filtered_soma_info['x'].map(lambda x: x/25)\n",
    "filtered_soma_info['y'] = filtered_soma_info['y'].map(lambda x: x/25)\n",
    "filtered_soma_info['z'] = filtered_soma_info['z'].map(lambda x: x/25)\n",
    "filtered_soma_info.to_csv('filtered_soma.txt',index=None,sep=' ')"
   ]
  },
  {
   "cell_type": "code",
   "execution_count": 37,
   "id": "flexible-denmark",
   "metadata": {},
   "outputs": [],
   "source": [
    "# filtered_swc_list=list(filtered_swc_list[0].map(lambda x: x.split('_stps')[0]))"
   ]
  },
  {
   "cell_type": "code",
   "execution_count": 145,
   "id": "c1e48499-8a34-4c20-b065-e3c89bc0361e",
   "metadata": {},
   "outputs": [],
   "source": [
    "import seaborn as sns\n",
    "import matplotlib.pyplot as plt"
   ]
  },
  {
   "cell_type": "code",
   "execution_count": 274,
   "id": "2b582b49-13fb-4322-9c59-c98ba3799a47",
   "metadata": {},
   "outputs": [],
   "source": [
    "local_selected = Ftable[Ftable['Name'].isin(filtered_swc_list[0])]"
   ]
  },
  {
   "cell_type": "code",
   "execution_count": 275,
   "id": "horizontal-guarantee",
   "metadata": {},
   "outputs": [
    {
     "data": {
      "text/plain": [
       "103603"
      ]
     },
     "execution_count": 275,
     "metadata": {},
     "output_type": "execute_result"
    }
   ],
   "source": [
    "len(local_selected)"
   ]
  },
  {
   "cell_type": "code",
   "execution_count": 248,
   "id": "fdb6f4ca",
   "metadata": {},
   "outputs": [
    {
     "data": {
      "text/html": [
       "<div>\n",
       "<style scoped>\n",
       "    .dataframe tbody tr th:only-of-type {\n",
       "        vertical-align: middle;\n",
       "    }\n",
       "\n",
       "    .dataframe tbody tr th {\n",
       "        vertical-align: top;\n",
       "    }\n",
       "\n",
       "    .dataframe thead th {\n",
       "        text-align: right;\n",
       "    }\n",
       "</style>\n",
       "<table border=\"1\" class=\"dataframe\">\n",
       "  <thead>\n",
       "    <tr style=\"text-align: right;\">\n",
       "      <th></th>\n",
       "      <th>Name</th>\n",
       "      <th>Nodes</th>\n",
       "      <th>SomaSurface</th>\n",
       "      <th>Stems</th>\n",
       "      <th>Bifurcations</th>\n",
       "      <th>Branches</th>\n",
       "      <th>Tips</th>\n",
       "      <th>OverallWidth</th>\n",
       "      <th>OverallHeight</th>\n",
       "      <th>OverallDepth</th>\n",
       "      <th>...</th>\n",
       "      <th>Volume</th>\n",
       "      <th>MaxEuclideanDistance</th>\n",
       "      <th>MaxPathDistance</th>\n",
       "      <th>MaxBranchOrder</th>\n",
       "      <th>AverageContraction</th>\n",
       "      <th>AverageFragmentation</th>\n",
       "      <th>AverageParent-daughterRatio</th>\n",
       "      <th>AverageBifurcationAngleLocal</th>\n",
       "      <th>AverageBifurcationAngleRemote</th>\n",
       "      <th>HausdorffDimension</th>\n",
       "    </tr>\n",
       "  </thead>\n",
       "  <tbody>\n",
       "    <tr>\n",
       "      <th>0</th>\n",
       "      <td>10012_10978_7039</td>\n",
       "      <td>167</td>\n",
       "      <td>1017.8800</td>\n",
       "      <td>3</td>\n",
       "      <td>8</td>\n",
       "      <td>17</td>\n",
       "      <td>10</td>\n",
       "      <td>136.3750</td>\n",
       "      <td>113.975</td>\n",
       "      <td>138.9750</td>\n",
       "      <td>...</td>\n",
       "      <td>9567.58</td>\n",
       "      <td>98.6997</td>\n",
       "      <td>194.195</td>\n",
       "      <td>5</td>\n",
       "      <td>0.923120</td>\n",
       "      <td>8.76471</td>\n",
       "      <td>0.999673</td>\n",
       "      <td>53.4994</td>\n",
       "      <td>74.6738</td>\n",
       "      <td>1.018630</td>\n",
       "    </tr>\n",
       "    <tr>\n",
       "      <th>1</th>\n",
       "      <td>10033_6960_5060</td>\n",
       "      <td>333</td>\n",
       "      <td>2827.4300</td>\n",
       "      <td>5</td>\n",
       "      <td>17</td>\n",
       "      <td>37</td>\n",
       "      <td>21</td>\n",
       "      <td>151.9250</td>\n",
       "      <td>165.225</td>\n",
       "      <td>193.6250</td>\n",
       "      <td>...</td>\n",
       "      <td>29511.90</td>\n",
       "      <td>99.9776</td>\n",
       "      <td>228.681</td>\n",
       "      <td>6</td>\n",
       "      <td>0.951839</td>\n",
       "      <td>7.97297</td>\n",
       "      <td>0.813859</td>\n",
       "      <td>63.6461</td>\n",
       "      <td>68.7306</td>\n",
       "      <td>1.042830</td>\n",
       "    </tr>\n",
       "    <tr>\n",
       "      <th>2</th>\n",
       "      <td>10047_11078_6926</td>\n",
       "      <td>223</td>\n",
       "      <td>1520.5300</td>\n",
       "      <td>3</td>\n",
       "      <td>10</td>\n",
       "      <td>21</td>\n",
       "      <td>12</td>\n",
       "      <td>106.8750</td>\n",
       "      <td>123.725</td>\n",
       "      <td>159.2250</td>\n",
       "      <td>...</td>\n",
       "      <td>13322.40</td>\n",
       "      <td>99.5573</td>\n",
       "      <td>179.701</td>\n",
       "      <td>5</td>\n",
       "      <td>0.916906</td>\n",
       "      <td>9.57143</td>\n",
       "      <td>0.873676</td>\n",
       "      <td>59.8409</td>\n",
       "      <td>65.8110</td>\n",
       "      <td>1.024180</td>\n",
       "    </tr>\n",
       "    <tr>\n",
       "      <th>3</th>\n",
       "      <td>10051_10842_7076</td>\n",
       "      <td>322</td>\n",
       "      <td>1809.5600</td>\n",
       "      <td>4</td>\n",
       "      <td>14</td>\n",
       "      <td>31</td>\n",
       "      <td>18</td>\n",
       "      <td>147.2250</td>\n",
       "      <td>167.825</td>\n",
       "      <td>143.9250</td>\n",
       "      <td>...</td>\n",
       "      <td>13239.30</td>\n",
       "      <td>98.7110</td>\n",
       "      <td>174.141</td>\n",
       "      <td>6</td>\n",
       "      <td>0.909356</td>\n",
       "      <td>9.35484</td>\n",
       "      <td>0.815215</td>\n",
       "      <td>63.9228</td>\n",
       "      <td>67.8382</td>\n",
       "      <td>1.057060</td>\n",
       "    </tr>\n",
       "    <tr>\n",
       "      <th>4</th>\n",
       "      <td>10067_11132_3158</td>\n",
       "      <td>220</td>\n",
       "      <td>1809.5600</td>\n",
       "      <td>2</td>\n",
       "      <td>12</td>\n",
       "      <td>24</td>\n",
       "      <td>13</td>\n",
       "      <td>137.7750</td>\n",
       "      <td>191.800</td>\n",
       "      <td>113.9000</td>\n",
       "      <td>...</td>\n",
       "      <td>22441.00</td>\n",
       "      <td>99.8560</td>\n",
       "      <td>141.343</td>\n",
       "      <td>6</td>\n",
       "      <td>0.956747</td>\n",
       "      <td>8.12500</td>\n",
       "      <td>0.877781</td>\n",
       "      <td>59.1587</td>\n",
       "      <td>60.5345</td>\n",
       "      <td>1.060650</td>\n",
       "    </tr>\n",
       "    <tr>\n",
       "      <th>...</th>\n",
       "      <td>...</td>\n",
       "      <td>...</td>\n",
       "      <td>...</td>\n",
       "      <td>...</td>\n",
       "      <td>...</td>\n",
       "      <td>...</td>\n",
       "      <td>...</td>\n",
       "      <td>...</td>\n",
       "      <td>...</td>\n",
       "      <td>...</td>\n",
       "      <td>...</td>\n",
       "      <td>...</td>\n",
       "      <td>...</td>\n",
       "      <td>...</td>\n",
       "      <td>...</td>\n",
       "      <td>...</td>\n",
       "      <td>...</td>\n",
       "      <td>...</td>\n",
       "      <td>...</td>\n",
       "      <td>...</td>\n",
       "      <td>...</td>\n",
       "    </tr>\n",
       "    <tr>\n",
       "      <th>103598</th>\n",
       "      <td>17731_28751_6261</td>\n",
       "      <td>120</td>\n",
       "      <td>201.0620</td>\n",
       "      <td>2</td>\n",
       "      <td>6</td>\n",
       "      <td>12</td>\n",
       "      <td>7</td>\n",
       "      <td>73.1499</td>\n",
       "      <td>186.775</td>\n",
       "      <td>62.8252</td>\n",
       "      <td>...</td>\n",
       "      <td>22051.50</td>\n",
       "      <td>98.3341</td>\n",
       "      <td>130.137</td>\n",
       "      <td>5</td>\n",
       "      <td>0.887884</td>\n",
       "      <td>8.91667</td>\n",
       "      <td>1.073610</td>\n",
       "      <td>83.7348</td>\n",
       "      <td>83.0066</td>\n",
       "      <td>1.105360</td>\n",
       "    </tr>\n",
       "    <tr>\n",
       "      <th>103599</th>\n",
       "      <td>18176_24155_6193</td>\n",
       "      <td>161</td>\n",
       "      <td>3216.9900</td>\n",
       "      <td>3</td>\n",
       "      <td>6</td>\n",
       "      <td>13</td>\n",
       "      <td>8</td>\n",
       "      <td>90.6748</td>\n",
       "      <td>184.275</td>\n",
       "      <td>180.3750</td>\n",
       "      <td>...</td>\n",
       "      <td>27892.00</td>\n",
       "      <td>99.0611</td>\n",
       "      <td>138.663</td>\n",
       "      <td>3</td>\n",
       "      <td>0.926768</td>\n",
       "      <td>11.30770</td>\n",
       "      <td>0.795000</td>\n",
       "      <td>81.3477</td>\n",
       "      <td>89.5452</td>\n",
       "      <td>0.978205</td>\n",
       "    </tr>\n",
       "    <tr>\n",
       "      <th>103600</th>\n",
       "      <td>5739_15373_6339</td>\n",
       "      <td>433</td>\n",
       "      <td>2123.7200</td>\n",
       "      <td>4</td>\n",
       "      <td>20</td>\n",
       "      <td>42</td>\n",
       "      <td>23</td>\n",
       "      <td>124.6990</td>\n",
       "      <td>141.125</td>\n",
       "      <td>176.1500</td>\n",
       "      <td>...</td>\n",
       "      <td>41845.60</td>\n",
       "      <td>98.8858</td>\n",
       "      <td>206.849</td>\n",
       "      <td>7</td>\n",
       "      <td>0.826938</td>\n",
       "      <td>9.28571</td>\n",
       "      <td>0.757502</td>\n",
       "      <td>61.5239</td>\n",
       "      <td>70.1934</td>\n",
       "      <td>1.146550</td>\n",
       "    </tr>\n",
       "    <tr>\n",
       "      <th>103601</th>\n",
       "      <td>9571_7846_6146</td>\n",
       "      <td>569</td>\n",
       "      <td>4071.5000</td>\n",
       "      <td>5</td>\n",
       "      <td>25</td>\n",
       "      <td>53</td>\n",
       "      <td>29</td>\n",
       "      <td>139.5750</td>\n",
       "      <td>189.450</td>\n",
       "      <td>143.6000</td>\n",
       "      <td>...</td>\n",
       "      <td>71425.90</td>\n",
       "      <td>99.9630</td>\n",
       "      <td>241.287</td>\n",
       "      <td>6</td>\n",
       "      <td>0.910135</td>\n",
       "      <td>9.71698</td>\n",
       "      <td>0.833497</td>\n",
       "      <td>61.2119</td>\n",
       "      <td>55.6274</td>\n",
       "      <td>1.094880</td>\n",
       "    </tr>\n",
       "    <tr>\n",
       "      <th>103602</th>\n",
       "      <td>9854_7212_6231</td>\n",
       "      <td>165</td>\n",
       "      <td>50.2655</td>\n",
       "      <td>1</td>\n",
       "      <td>9</td>\n",
       "      <td>19</td>\n",
       "      <td>10</td>\n",
       "      <td>94.3247</td>\n",
       "      <td>167.075</td>\n",
       "      <td>168.0250</td>\n",
       "      <td>...</td>\n",
       "      <td>52763.60</td>\n",
       "      <td>99.7788</td>\n",
       "      <td>185.693</td>\n",
       "      <td>6</td>\n",
       "      <td>0.942105</td>\n",
       "      <td>7.63158</td>\n",
       "      <td>1.194760</td>\n",
       "      <td>52.5626</td>\n",
       "      <td>70.5131</td>\n",
       "      <td>1.030790</td>\n",
       "    </tr>\n",
       "  </tbody>\n",
       "</table>\n",
       "<p>103603 rows × 23 columns</p>\n",
       "</div>"
      ],
      "text/plain": [
       "                    Name  Nodes  SomaSurface  Stems  Bifurcations  Branches  \\\n",
       "0       10012_10978_7039    167    1017.8800      3             8        17   \n",
       "1        10033_6960_5060    333    2827.4300      5            17        37   \n",
       "2       10047_11078_6926    223    1520.5300      3            10        21   \n",
       "3       10051_10842_7076    322    1809.5600      4            14        31   \n",
       "4       10067_11132_3158    220    1809.5600      2            12        24   \n",
       "...                  ...    ...          ...    ...           ...       ...   \n",
       "103598  17731_28751_6261    120     201.0620      2             6        12   \n",
       "103599  18176_24155_6193    161    3216.9900      3             6        13   \n",
       "103600   5739_15373_6339    433    2123.7200      4            20        42   \n",
       "103601    9571_7846_6146    569    4071.5000      5            25        53   \n",
       "103602    9854_7212_6231    165      50.2655      1             9        19   \n",
       "\n",
       "        Tips  OverallWidth  OverallHeight  OverallDepth  ...    Volume  \\\n",
       "0         10      136.3750        113.975      138.9750  ...   9567.58   \n",
       "1         21      151.9250        165.225      193.6250  ...  29511.90   \n",
       "2         12      106.8750        123.725      159.2250  ...  13322.40   \n",
       "3         18      147.2250        167.825      143.9250  ...  13239.30   \n",
       "4         13      137.7750        191.800      113.9000  ...  22441.00   \n",
       "...      ...           ...            ...           ...  ...       ...   \n",
       "103598     7       73.1499        186.775       62.8252  ...  22051.50   \n",
       "103599     8       90.6748        184.275      180.3750  ...  27892.00   \n",
       "103600    23      124.6990        141.125      176.1500  ...  41845.60   \n",
       "103601    29      139.5750        189.450      143.6000  ...  71425.90   \n",
       "103602    10       94.3247        167.075      168.0250  ...  52763.60   \n",
       "\n",
       "        MaxEuclideanDistance  MaxPathDistance  MaxBranchOrder  \\\n",
       "0                    98.6997          194.195               5   \n",
       "1                    99.9776          228.681               6   \n",
       "2                    99.5573          179.701               5   \n",
       "3                    98.7110          174.141               6   \n",
       "4                    99.8560          141.343               6   \n",
       "...                      ...              ...             ...   \n",
       "103598               98.3341          130.137               5   \n",
       "103599               99.0611          138.663               3   \n",
       "103600               98.8858          206.849               7   \n",
       "103601               99.9630          241.287               6   \n",
       "103602               99.7788          185.693               6   \n",
       "\n",
       "        AverageContraction  AverageFragmentation  AverageParent-daughterRatio  \\\n",
       "0                 0.923120               8.76471                     0.999673   \n",
       "1                 0.951839               7.97297                     0.813859   \n",
       "2                 0.916906               9.57143                     0.873676   \n",
       "3                 0.909356               9.35484                     0.815215   \n",
       "4                 0.956747               8.12500                     0.877781   \n",
       "...                    ...                   ...                          ...   \n",
       "103598            0.887884               8.91667                     1.073610   \n",
       "103599            0.926768              11.30770                     0.795000   \n",
       "103600            0.826938               9.28571                     0.757502   \n",
       "103601            0.910135               9.71698                     0.833497   \n",
       "103602            0.942105               7.63158                     1.194760   \n",
       "\n",
       "        AverageBifurcationAngleLocal  AverageBifurcationAngleRemote  \\\n",
       "0                            53.4994                        74.6738   \n",
       "1                            63.6461                        68.7306   \n",
       "2                            59.8409                        65.8110   \n",
       "3                            63.9228                        67.8382   \n",
       "4                            59.1587                        60.5345   \n",
       "...                              ...                            ...   \n",
       "103598                       83.7348                        83.0066   \n",
       "103599                       81.3477                        89.5452   \n",
       "103600                       61.5239                        70.1934   \n",
       "103601                       61.2119                        55.6274   \n",
       "103602                       52.5626                        70.5131   \n",
       "\n",
       "        HausdorffDimension  \n",
       "0                 1.018630  \n",
       "1                 1.042830  \n",
       "2                 1.024180  \n",
       "3                 1.057060  \n",
       "4                 1.060650  \n",
       "...                    ...  \n",
       "103598            1.105360  \n",
       "103599            0.978205  \n",
       "103600            1.146550  \n",
       "103601            1.094880  \n",
       "103602            1.030790  \n",
       "\n",
       "[103603 rows x 23 columns]"
      ]
     },
     "execution_count": 248,
     "metadata": {},
     "output_type": "execute_result"
    }
   ],
   "source": [
    "local_selected"
   ]
  },
  {
   "cell_type": "code",
   "execution_count": 281,
   "id": "25981012",
   "metadata": {},
   "outputs": [],
   "source": [
    "local_selected = local_selected.reset_index(drop=True)"
   ]
  },
  {
   "cell_type": "code",
   "execution_count": 279,
   "id": "95ea1e71",
   "metadata": {},
   "outputs": [],
   "source": [
    "F_table_selected = all_F_table[all_F_table['name'].isin(filtered_swc_list[0])]"
   ]
  },
  {
   "cell_type": "code",
   "execution_count": 280,
   "id": "da1def87",
   "metadata": {},
   "outputs": [
    {
     "data": {
      "text/plain": [
       "111"
      ]
     },
     "execution_count": 280,
     "metadata": {},
     "output_type": "execute_result"
    }
   ],
   "source": [
    "brain_list = list(set(F_table_selected['Brain']))\n",
    "len(brain_list)"
   ]
  },
  {
   "cell_type": "code",
   "execution_count": 283,
   "id": "927401f5",
   "metadata": {},
   "outputs": [],
   "source": [
    "celltype_Ftable['name'] = celltype_Ftable['Name'].map(lambda x: x[x.index('_')+1:])"
   ]
  },
  {
   "cell_type": "code",
   "execution_count": 284,
   "id": "dce00dbd",
   "metadata": {},
   "outputs": [],
   "source": [
    "celltype_Ftable_selected = celltype_Ftable[celltype_Ftable['name'].isin(filtered_swc_list[0])]"
   ]
  },
  {
   "cell_type": "code",
   "execution_count": 285,
   "id": "db1e20ef-908a-4cdd-885f-38997c93c0d4",
   "metadata": {},
   "outputs": [
    {
     "data": {
      "text/plain": [
       "(283,)"
      ]
     },
     "execution_count": 285,
     "metadata": {},
     "output_type": "execute_result"
    }
   ],
   "source": [
    "num_bRegions_involved = np.unique(celltype_Ftable_selected['reassigned_type'])\n",
    "num_bRegions_involved.shape"
   ]
  },
  {
   "cell_type": "code",
   "execution_count": 286,
   "id": "0cb98b8c-01de-46b8-99df-de384b3d7410",
   "metadata": {},
   "outputs": [],
   "source": [
    "ct = celltype_Ftable_selected['reassigned_type'].value_counts()"
   ]
  },
  {
   "cell_type": "code",
   "execution_count": 287,
   "id": "6fecbc3c-ad14-4bd7-abc9-ec7efe2aaab2",
   "metadata": {},
   "outputs": [
    {
     "data": {
      "text/plain": [
       "283"
      ]
     },
     "execution_count": 287,
     "metadata": {},
     "output_type": "execute_result"
    }
   ],
   "source": [
    "len(ct)"
   ]
  },
  {
   "cell_type": "code",
   "execution_count": 288,
   "id": "20e8f4bd-4042-4290-8a9d-1e081d386103",
   "metadata": {},
   "outputs": [],
   "source": [
    "bRegion_count_df = pd.DataFrame({'Brain region':ct.index,'Count':ct.values})"
   ]
  },
  {
   "cell_type": "code",
   "execution_count": 290,
   "id": "7ead28b8",
   "metadata": {},
   "outputs": [
    {
     "data": {
      "text/html": [
       "<div>\n",
       "<style scoped>\n",
       "    .dataframe tbody tr th:only-of-type {\n",
       "        vertical-align: middle;\n",
       "    }\n",
       "\n",
       "    .dataframe tbody tr th {\n",
       "        vertical-align: top;\n",
       "    }\n",
       "\n",
       "    .dataframe thead th {\n",
       "        text-align: right;\n",
       "    }\n",
       "</style>\n",
       "<table border=\"1\" class=\"dataframe\">\n",
       "  <thead>\n",
       "    <tr style=\"text-align: right;\">\n",
       "      <th></th>\n",
       "      <th>Name</th>\n",
       "      <th>Soma region</th>\n",
       "      <th>reassigned_type</th>\n",
       "      <th>reassigned_rough_type</th>\n",
       "      <th>name</th>\n",
       "    </tr>\n",
       "  </thead>\n",
       "  <tbody>\n",
       "    <tr>\n",
       "      <th>2</th>\n",
       "      <td>15257_10012_10978_7039</td>\n",
       "      <td>ENTm</td>\n",
       "      <td>ENTm</td>\n",
       "      <td>CTX</td>\n",
       "      <td>10012_10978_7039</td>\n",
       "    </tr>\n",
       "    <tr>\n",
       "      <th>5</th>\n",
       "      <td>15257_10033_6960_5060</td>\n",
       "      <td>VISC</td>\n",
       "      <td>VISC</td>\n",
       "      <td>CTX</td>\n",
       "      <td>10033_6960_5060</td>\n",
       "    </tr>\n",
       "    <tr>\n",
       "      <th>6</th>\n",
       "      <td>15257_10047_11078_6926</td>\n",
       "      <td>ENTm</td>\n",
       "      <td>ENTm</td>\n",
       "      <td>CTX</td>\n",
       "      <td>10047_11078_6926</td>\n",
       "    </tr>\n",
       "    <tr>\n",
       "      <th>7</th>\n",
       "      <td>15257_10051_10842_7076</td>\n",
       "      <td>ENTm</td>\n",
       "      <td>ENTm</td>\n",
       "      <td>CTX</td>\n",
       "      <td>10051_10842_7076</td>\n",
       "    </tr>\n",
       "    <tr>\n",
       "      <th>8</th>\n",
       "      <td>15257_10067_11132_3158</td>\n",
       "      <td>CLA</td>\n",
       "      <td>CLA</td>\n",
       "      <td>CTX</td>\n",
       "      <td>10067_11132_3158</td>\n",
       "    </tr>\n",
       "    <tr>\n",
       "      <th>...</th>\n",
       "      <td>...</td>\n",
       "      <td>...</td>\n",
       "      <td>...</td>\n",
       "      <td>...</td>\n",
       "      <td>...</td>\n",
       "    </tr>\n",
       "    <tr>\n",
       "      <th>179558</th>\n",
       "      <td>236174_17731_28751_6261</td>\n",
       "      <td>ENTl</td>\n",
       "      <td>ENTl</td>\n",
       "      <td>CTX</td>\n",
       "      <td>17731_28751_6261</td>\n",
       "    </tr>\n",
       "    <tr>\n",
       "      <th>179560</th>\n",
       "      <td>236174_18176_24155_6193</td>\n",
       "      <td>PA</td>\n",
       "      <td>PA</td>\n",
       "      <td>CTX</td>\n",
       "      <td>18176_24155_6193</td>\n",
       "    </tr>\n",
       "    <tr>\n",
       "      <th>179561</th>\n",
       "      <td>236174_5739_15373_6339</td>\n",
       "      <td>RSPagl</td>\n",
       "      <td>RSPagl</td>\n",
       "      <td>CTX</td>\n",
       "      <td>5739_15373_6339</td>\n",
       "    </tr>\n",
       "    <tr>\n",
       "      <th>179566</th>\n",
       "      <td>236174_9571_7846_6146</td>\n",
       "      <td>AUDd</td>\n",
       "      <td>AUDd</td>\n",
       "      <td>CTX</td>\n",
       "      <td>9571_7846_6146</td>\n",
       "    </tr>\n",
       "    <tr>\n",
       "      <th>179567</th>\n",
       "      <td>236174_9854_7212_6231</td>\n",
       "      <td>AUDp</td>\n",
       "      <td>AUDp</td>\n",
       "      <td>CTX</td>\n",
       "      <td>9854_7212_6231</td>\n",
       "    </tr>\n",
       "  </tbody>\n",
       "</table>\n",
       "<p>103603 rows × 5 columns</p>\n",
       "</div>"
      ],
      "text/plain": [
       "                           Name Soma region reassigned_type  \\\n",
       "2        15257_10012_10978_7039        ENTm            ENTm   \n",
       "5         15257_10033_6960_5060        VISC            VISC   \n",
       "6        15257_10047_11078_6926        ENTm            ENTm   \n",
       "7        15257_10051_10842_7076        ENTm            ENTm   \n",
       "8        15257_10067_11132_3158         CLA             CLA   \n",
       "...                         ...         ...             ...   \n",
       "179558  236174_17731_28751_6261        ENTl            ENTl   \n",
       "179560  236174_18176_24155_6193          PA              PA   \n",
       "179561   236174_5739_15373_6339      RSPagl          RSPagl   \n",
       "179566    236174_9571_7846_6146        AUDd            AUDd   \n",
       "179567    236174_9854_7212_6231        AUDp            AUDp   \n",
       "\n",
       "       reassigned_rough_type              name  \n",
       "2                        CTX  10012_10978_7039  \n",
       "5                        CTX   10033_6960_5060  \n",
       "6                        CTX  10047_11078_6926  \n",
       "7                        CTX  10051_10842_7076  \n",
       "8                        CTX  10067_11132_3158  \n",
       "...                      ...               ...  \n",
       "179558                   CTX  17731_28751_6261  \n",
       "179560                   CTX  18176_24155_6193  \n",
       "179561                   CTX   5739_15373_6339  \n",
       "179566                   CTX    9571_7846_6146  \n",
       "179567                   CTX    9854_7212_6231  \n",
       "\n",
       "[103603 rows x 5 columns]"
      ]
     },
     "execution_count": 290,
     "metadata": {},
     "output_type": "execute_result"
    }
   ],
   "source": [
    "celltype_Ftable_selected"
   ]
  },
  {
   "cell_type": "code",
   "execution_count": 291,
   "id": "7daf3ad6",
   "metadata": {},
   "outputs": [],
   "source": [
    "unique_rough = np.unique(list(celltype_Ftable_selected['reassigned_rough_type']))"
   ]
  },
  {
   "cell_type": "code",
   "execution_count": 304,
   "id": "432643f3-f106-4271-b829-e6dd878d5c68",
   "metadata": {},
   "outputs": [
    {
     "data": {
      "image/png": "[encoded data removed]",
      "text/plain": [
       "<Figure size 800x600 with 1 Axes>"
      ]
     },
     "metadata": {},
     "output_type": "display_data"
    }
   ],
   "source": [
    "sns.set_theme(style=\"ticks\")\n",
    "f,ax = plt.subplots(figsize=(8,6))\n",
    "sns.despine(f)\n",
    "sns.histplot(celltype_Ftable_selected, x=\"reassigned_rough_type\",color=\"dodgerblue\",linewidth=.8)\n",
    "plt.ticklabel_format(axis=\"y\",style=\"sci\",scilimits=(0,0))\n",
    "ax.set_xticks(ax.get_xticks())\n",
    "ax.set_xticklabels([x for x in ax.get_xticklabels()],fontsize=15)\n",
    "plt.savefig('figs/distribution_rough_brains.png',dpi=100)"
   ]
  },
  {
   "cell_type": "code",
   "execution_count": 305,
   "id": "e5882a27",
   "metadata": {},
   "outputs": [
    {
     "data": {
      "image/png": "[encoded data removed]",
      "text/plain": [
       "<Figure size 1200x800 with 1 Axes>"
      ]
     },
     "metadata": {},
     "output_type": "display_data"
    }
   ],
   "source": [
    "i=0\n",
    "f,ax = plt.subplots(figsize=(12,8))\n",
    "sns.despine(f)\n",
    "data = celltype_Ftable_selected[celltype_Ftable_selected['reassigned_rough_type']==unique_rough[i]]\n",
    "sns.histplot(data, x=\"reassigned_type\",hue=\"reassigned_type\",palette=\"Set2\",linewidth=.5)\n",
    "plt.legend(labels=[])\n",
    "plt.ticklabel_format(axis=\"y\",style=\"sci\",scilimits=(0,0))\n",
    "xTick=[]\n",
    "xLabel=[]\n",
    "for j in range(len(ax.get_xticklabels())):\n",
    "    l = ax.get_xticklabels()[j].get_text()\n",
    "    n = ct[l]\n",
    "    xTick.append(j)\n",
    "    xLabel.append(l)\n",
    "ax.set_xticks(xTick)\n",
    "ax.set_xticklabels(xLabel,fontsize=15)\n",
    "ax.tick_params(axis='y',labelsize=15)\n",
    "plt.title(unique_rough[i],fontsize=25)\n",
    "plt.ylabel('')\n",
    "plt.xlabel('')\n",
    "plt.savefig(f'figs/{unique_rough[i]}_count.png',dpi=100,bbox_inches='tight')"
   ]
  },
  {
   "cell_type": "code",
   "execution_count": 306,
   "id": "fa7f0992",
   "metadata": {},
   "outputs": [
    {
     "data": {
      "image/png": "[encoded data removed]",
      "text/plain": [
       "<Figure size 1200x800 with 1 Axes>"
      ]
     },
     "metadata": {},
     "output_type": "display_data"
    }
   ],
   "source": [
    "i=1\n",
    "f,ax = plt.subplots(figsize=(12,8))\n",
    "sns.despine(f)\n",
    "data = celltype_Ftable_selected[celltype_Ftable_selected['reassigned_rough_type']==unique_rough[i]]\n",
    "sns.histplot(data, x=\"reassigned_type\",hue=\"reassigned_type\",palette=\"Set2\",linewidth=.5)\n",
    "plt.legend(labels=[])\n",
    "plt.ticklabel_format(axis=\"y\",style=\"sci\",scilimits=(0,0))\n",
    "xTick=[]\n",
    "xLabel=[]\n",
    "for j in range(len(ax.get_xticklabels())):\n",
    "    l = ax.get_xticklabels()[j].get_text()\n",
    "    n = ct[l]\n",
    "    xTick.append(j)\n",
    "    xLabel.append(l)\n",
    "ax.set_xticks(xTick)\n",
    "ax.set_xticklabels(xLabel,fontsize=15)\n",
    "ax.tick_params(axis='y',labelsize=15)\n",
    "plt.title(unique_rough[i],fontsize=25)\n",
    "plt.ylabel('')\n",
    "plt.xlabel('')\n",
    "plt.savefig(f'figs/{unique_rough[i]}_count.png',dpi=100,bbox_inches='tight')"
   ]
  },
  {
   "cell_type": "code",
   "execution_count": 307,
   "id": "532c1019",
   "metadata": {},
   "outputs": [
    {
     "data": {
      "image/png": "[encoded data removed]",
      "text/plain": [
       "<Figure size 1500x800 with 1 Axes>"
      ]
     },
     "metadata": {},
     "output_type": "display_data"
    }
   ],
   "source": [
    "i=2\n",
    "f,ax = plt.subplots(figsize=(15,8))\n",
    "sns.despine(f)\n",
    "data = celltype_Ftable_selected[celltype_Ftable_selected['reassigned_rough_type']==unique_rough[i]]\n",
    "sns.histplot(data, x=\"reassigned_type\",hue=\"reassigned_type\",palette=\"Set2\",linewidth=.5)\n",
    "plt.legend(labels=[])\n",
    "plt.ticklabel_format(axis=\"y\",style=\"sci\",scilimits=(0,0))\n",
    "xTick=[]\n",
    "xLabel=[]\n",
    "for j in range(len(ax.get_xticklabels())):\n",
    "    l = ax.get_xticklabels()[j].get_text()\n",
    "    n = ct[l]\n",
    "    xTick.append(j)\n",
    "    xLabel.append(l)\n",
    "ax.set_xticks(xTick)\n",
    "ax.set_xticklabels(xLabel,rotation=90,fontsize=10)\n",
    "ax.tick_params(axis='y',labelsize=15)\n",
    "plt.title(unique_rough[i],fontsize=25)\n",
    "plt.ylabel('')\n",
    "plt.xlabel('')\n",
    "plt.savefig(f'figs/{unique_rough[i]}_count.png',dpi=100,bbox_inches='tight')"
   ]
  },
  {
   "cell_type": "code",
   "execution_count": 297,
   "id": "8af7d469",
   "metadata": {},
   "outputs": [
    {
     "data": {
      "image/png": "[encoded data removed]",
      "text/plain": [
       "<Figure size 1500x800 with 1 Axes>"
      ]
     },
     "metadata": {},
     "output_type": "display_data"
    }
   ],
   "source": [
    "i=3\n",
    "f,ax = plt.subplots(figsize=(15,8))\n",
    "sns.despine(f)\n",
    "data = celltype_Ftable_selected[celltype_Ftable_selected['reassigned_rough_type']==unique_rough[i]]\n",
    "sns.histplot(data, x=\"reassigned_type\",hue=\"reassigned_type\",palette=\"Set2\",linewidth=.5)\n",
    "plt.legend(labels=[])\n",
    "plt.ticklabel_format(axis=\"y\",style=\"sci\",scilimits=(0,0))\n",
    "xTick=[]\n",
    "xLabel=[]\n",
    "for j in range(len(ax.get_xticklabels())):\n",
    "    l = ax.get_xticklabels()[j].get_text()\n",
    "    n = ct[l]\n",
    "    xTick.append(j)\n",
    "    xLabel.append(l)\n",
    "ax.set_xticks(xTick)\n",
    "ax.set_xticklabels(xLabel,rotation=90, fontsize=12)\n",
    "ax.tick_params(axis='y',labelsize=15)\n",
    "plt.title(unique_rough[i],fontsize=25)\n",
    "plt.ylabel('')\n",
    "plt.xlabel('')\n",
    "plt.savefig(f'figs/{unique_rough[i]}_count.png',dpi=100,bbox_inches='tight')"
   ]
  },
  {
   "cell_type": "code",
   "execution_count": 299,
   "id": "876f7176",
   "metadata": {},
   "outputs": [
    {
     "data": {
      "image/png": "[encoded data removed]",
      "text/plain": [
       "<Figure size 1200x800 with 1 Axes>"
      ]
     },
     "metadata": {},
     "output_type": "display_data"
    }
   ],
   "source": [
    "i=4\n",
    "f,ax = plt.subplots(figsize=(12,8))\n",
    "sns.despine(f)\n",
    "data = celltype_Ftable_selected[celltype_Ftable_selected['reassigned_rough_type']==unique_rough[i]]\n",
    "sns.histplot(data, x=\"reassigned_type\",hue=\"reassigned_type\",palette=\"Set2\",linewidth=.5)\n",
    "plt.legend(labels=[])\n",
    "plt.ticklabel_format(axis=\"y\",style=\"sci\",scilimits=(0,0))\n",
    "xTick=[]\n",
    "xLabel=[]\n",
    "for j in range(len(ax.get_xticklabels())):\n",
    "    l = ax.get_xticklabels()[j].get_text()\n",
    "    n = ct[l]\n",
    "    xTick.append(j)\n",
    "    xLabel.append(l)\n",
    "ax.set_xticks(xTick)\n",
    "ax.set_xticklabels(xLabel,rotation=90,fontsize=12)\n",
    "ax.tick_params(axis='y',labelsize=15)\n",
    "plt.title(unique_rough[i],fontsize=25)\n",
    "plt.ylabel('')\n",
    "plt.xlabel('')\n",
    "plt.savefig(f'figs/{unique_rough[i]}_count.png',dpi=100,bbox_inches='tight')"
   ]
  },
  {
   "cell_type": "code",
   "execution_count": 301,
   "id": "a6391985",
   "metadata": {},
   "outputs": [
    {
     "data": {
      "image/png": "[encoded data removed]",
      "text/plain": [
       "<Figure size 1200x800 with 1 Axes>"
      ]
     },
     "metadata": {},
     "output_type": "display_data"
    }
   ],
   "source": [
    "i=5\n",
    "f,ax = plt.subplots(figsize=(12,8))\n",
    "sns.despine(f)\n",
    "data = celltype_Ftable_selected[celltype_Ftable_selected['reassigned_rough_type']==unique_rough[i]]\n",
    "sns.histplot(data, x=\"reassigned_type\",hue=\"reassigned_type\",palette=\"Set2\",linewidth=.5)\n",
    "plt.legend(labels=[])\n",
    "plt.ticklabel_format(axis=\"y\",style=\"sci\",scilimits=(0,0))\n",
    "xTick=[]\n",
    "xLabel=[]\n",
    "for j in range(len(ax.get_xticklabels())):\n",
    "    l = ax.get_xticklabels()[j].get_text()\n",
    "    n = ct[l]\n",
    "    xTick.append(j)\n",
    "    xLabel.append(l)\n",
    "ax.set_xticks(xTick)\n",
    "ax.set_xticklabels(xLabel,rotation=90,fontsize=12)\n",
    "ax.tick_params(axis='y',labelsize=15)\n",
    "plt.title(unique_rough[i],fontsize=25)\n",
    "plt.ylabel('')\n",
    "plt.xlabel('')\n",
    "plt.savefig(f'figs/{unique_rough[i]}_count.png',dpi=100,bbox_inches='tight')"
   ]
  },
  {
   "cell_type": "code",
   "execution_count": 303,
   "id": "751d1793",
   "metadata": {},
   "outputs": [
    {
     "data": {
      "image/png": "[encoded data removed]",
      "text/plain": [
       "<Figure size 1500x800 with 1 Axes>"
      ]
     },
     "metadata": {},
     "output_type": "display_data"
    }
   ],
   "source": [
    "i=6\n",
    "f,ax = plt.subplots(figsize=(15,8))\n",
    "sns.despine(f)\n",
    "data = celltype_Ftable_selected[celltype_Ftable_selected['reassigned_rough_type']==unique_rough[i]]\n",
    "sns.histplot(data, x=\"reassigned_type\",hue=\"reassigned_type\",palette=\"Set2\",linewidth=.5)\n",
    "plt.legend(labels=[])\n",
    "plt.ticklabel_format(axis=\"y\",style=\"sci\",scilimits=(0,0))\n",
    "xTick=[]\n",
    "xLabel=[]\n",
    "for j in range(len(ax.get_xticklabels())):\n",
    "    l = ax.get_xticklabels()[j].get_text()\n",
    "    n = ct[l]\n",
    "    xTick.append(j)\n",
    "    xLabel.append(l)\n",
    "ax.set_xticks(xTick)\n",
    "ax.set_xticklabels(xLabel,rotation=90,fontsize=13)\n",
    "ax.tick_params(axis='y',labelsize=15)\n",
    "plt.title(unique_rough[i],fontsize=25)\n",
    "plt.ylabel('')\n",
    "plt.xlabel('')\n",
    "plt.savefig(f'figs/{unique_rough[i]}_count.png',dpi=100,bbox_inches='tight')"
   ]
  },
  {
   "cell_type": "code",
   "execution_count": 308,
   "id": "51f5f475-c7b3-49fb-b864-78e67c149777",
   "metadata": {},
   "outputs": [],
   "source": [
    "rest_regions = list(bRegion_count_df[bRegion_count_df['Count']>30]['Brain region'])"
   ]
  },
  {
   "cell_type": "code",
   "execution_count": 309,
   "id": "b49bd2fd-bfd5-4c16-ba86-9fd9ef3e74c2",
   "metadata": {},
   "outputs": [
    {
     "data": {
      "text/plain": [
       "149"
      ]
     },
     "execution_count": 309,
     "metadata": {},
     "output_type": "execute_result"
    }
   ],
   "source": [
    "len(rest_regions)"
   ]
  },
  {
   "cell_type": "code",
   "execution_count": 432,
   "id": "gross-universal",
   "metadata": {},
   "outputs": [
    {
     "data": {
      "text/html": [
       "<div>\n",
       "<style scoped>\n",
       "    .dataframe tbody tr th:only-of-type {\n",
       "        vertical-align: middle;\n",
       "    }\n",
       "\n",
       "    .dataframe tbody tr th {\n",
       "        vertical-align: top;\n",
       "    }\n",
       "\n",
       "    .dataframe thead th {\n",
       "        text-align: right;\n",
       "    }\n",
       "</style>\n",
       "<table border=\"1\" class=\"dataframe\">\n",
       "  <thead>\n",
       "    <tr style=\"text-align: right;\">\n",
       "      <th></th>\n",
       "      <th>name</th>\n",
       "      <th>x</th>\n",
       "      <th>y</th>\n",
       "      <th>z</th>\n",
       "    </tr>\n",
       "  </thead>\n",
       "  <tbody>\n",
       "    <tr>\n",
       "      <th>0</th>\n",
       "      <td>10001_19868_8155_stps</td>\n",
       "      <td>11287.600</td>\n",
       "      <td>3667.825</td>\n",
       "      <td>5563.125</td>\n",
       "    </tr>\n",
       "    <tr>\n",
       "      <th>1</th>\n",
       "      <td>10008_10862_6996_stps</td>\n",
       "      <td>9625.025</td>\n",
       "      <td>3764.025</td>\n",
       "      <td>9017.726</td>\n",
       "    </tr>\n",
       "    <tr>\n",
       "      <th>2</th>\n",
       "      <td>10012_10978_7039_stps</td>\n",
       "      <td>9682.675</td>\n",
       "      <td>3754.125</td>\n",
       "      <td>8985.000</td>\n",
       "    </tr>\n",
       "    <tr>\n",
       "      <th>3</th>\n",
       "      <td>10020_17924_8129_stps</td>\n",
       "      <td>11267.750</td>\n",
       "      <td>3630.950</td>\n",
       "      <td>6364.775</td>\n",
       "    </tr>\n",
       "    <tr>\n",
       "      <th>4</th>\n",
       "      <td>10028_28224_6732_stps</td>\n",
       "      <td>9298.925</td>\n",
       "      <td>3983.150</td>\n",
       "      <td>2374.200</td>\n",
       "    </tr>\n",
       "    <tr>\n",
       "      <th>...</th>\n",
       "      <td>...</td>\n",
       "      <td>...</td>\n",
       "      <td>...</td>\n",
       "      <td>...</td>\n",
       "    </tr>\n",
       "    <tr>\n",
       "      <th>179563</th>\n",
       "      <td>7626_18076_3068_stps</td>\n",
       "      <td>3998.550</td>\n",
       "      <td>1907.975</td>\n",
       "      <td>5585.175</td>\n",
       "    </tr>\n",
       "    <tr>\n",
       "      <th>179564</th>\n",
       "      <td>8122_17844_3762_stps</td>\n",
       "      <td>4842.475</td>\n",
       "      <td>2017.425</td>\n",
       "      <td>5512.275</td>\n",
       "    </tr>\n",
       "    <tr>\n",
       "      <th>179565</th>\n",
       "      <td>8813_17916_4826_stps</td>\n",
       "      <td>5990.175</td>\n",
       "      <td>2143.925</td>\n",
       "      <td>5498.300</td>\n",
       "    </tr>\n",
       "    <tr>\n",
       "      <th>179566</th>\n",
       "      <td>9571_7846_6146_stps</td>\n",
       "      <td>7425.875</td>\n",
       "      <td>3166.825</td>\n",
       "      <td>1794.700</td>\n",
       "    </tr>\n",
       "    <tr>\n",
       "      <th>179567</th>\n",
       "      <td>9854_7212_6231_stps</td>\n",
       "      <td>7526.825</td>\n",
       "      <td>3318.125</td>\n",
       "      <td>1562.425</td>\n",
       "    </tr>\n",
       "  </tbody>\n",
       "</table>\n",
       "<p>179568 rows × 4 columns</p>\n",
       "</div>"
      ],
      "text/plain": [
       "                         name          x         y         z\n",
       "0       10001_19868_8155_stps  11287.600  3667.825  5563.125\n",
       "1       10008_10862_6996_stps   9625.025  3764.025  9017.726\n",
       "2       10012_10978_7039_stps   9682.675  3754.125  8985.000\n",
       "3       10020_17924_8129_stps  11267.750  3630.950  6364.775\n",
       "4       10028_28224_6732_stps   9298.925  3983.150  2374.200\n",
       "...                       ...        ...       ...       ...\n",
       "179563   7626_18076_3068_stps   3998.550  1907.975  5585.175\n",
       "179564   8122_17844_3762_stps   4842.475  2017.425  5512.275\n",
       "179565   8813_17916_4826_stps   5990.175  2143.925  5498.300\n",
       "179566    9571_7846_6146_stps   7425.875  3166.825  1794.700\n",
       "179567    9854_7212_6231_stps   7526.825  3318.125  1562.425\n",
       "\n",
       "[179568 rows x 4 columns]"
      ]
     },
     "execution_count": 432,
     "metadata": {},
     "output_type": "execute_result"
    }
   ],
   "source": [
    "## somalist filtered \n",
    "soma_info = pd.read_csv('179k_somalist.txt',sep=' ',header=None)\n",
    "soma_info.columns = ['name','x','y','z']\n",
    "soma_info"
   ]
  },
  {
   "cell_type": "code",
   "execution_count": 433,
   "id": "destroyed-strain",
   "metadata": {},
   "outputs": [],
   "source": [
    "soma_info['name'] = soma_info['name'].map(lambda x:x.split(\"_stps\")[0])"
   ]
  },
  {
   "cell_type": "code",
   "execution_count": 434,
   "id": "recreational-choice",
   "metadata": {},
   "outputs": [],
   "source": [
    "filtered_swc_name = list(map(lambda x:x.split('_stps')[0],filtered_swc_list))"
   ]
  },
  {
   "cell_type": "code",
   "execution_count": 438,
   "id": "secret-attitude",
   "metadata": {},
   "outputs": [],
   "source": [
    "soma_info_filtered = soma_info[soma_info['name'].isin(filtered_swc_name)]\n",
    "soma_info_filtered2 = soma_info_filtered.copy()\n",
    "soma_info_filtered2['x'] = soma_info_filtered2['x']\n",
    "soma_info_filtered2['y'] = soma_info_filtered2['y']\n",
    "soma_info_filtered2['z'] = soma_info_filtered2['z']\n",
    "soma_info_filtered2.to_csv('filtered_soma_info_25.txt',sep=' ',index=None)"
   ]
  },
  {
   "cell_type": "code",
   "execution_count": 437,
   "id": "chronic-richmond",
   "metadata": {},
   "outputs": [
    {
     "data": {
      "text/plain": [
       "103704"
      ]
     },
     "execution_count": 437,
     "metadata": {},
     "output_type": "execute_result"
    }
   ],
   "source": [
    "len(soma_info_filtered2)"
   ]
  },
  {
   "cell_type": "markdown",
   "id": "swiss-flesh",
   "metadata": {},
   "source": [
    "## Preprocess"
   ]
  },
  {
   "cell_type": "markdown",
   "id": "d11c9f2a-6a4c-4767-b438-b278d08aeaab",
   "metadata": {},
   "source": [
    "#### top 5 dendrites for each"
   ]
  },
  {
   "cell_type": "code",
   "execution_count": 48,
   "id": "9b2985b1-e63a-4571-ac79-4838744b2e39",
   "metadata": {},
   "outputs": [],
   "source": [
    "from scipy.spatial import distance,distance_matrix"
   ]
  },
  {
   "cell_type": "code",
   "execution_count": 66,
   "id": "advisory-country",
   "metadata": {},
   "outputs": [],
   "source": [
    "### soma XYZ for each dendrite\n",
    "in_dir = \"179k_multibranch_final/*\"\n",
    "folders = glob.glob(in_dir)\n",
    "swclist = []\n",
    "for folder in folders:\n",
    "    files = glob.glob(folder+\"/*\")\n",
    "    swclist = swclist+files"
   ]
  },
  {
   "cell_type": "code",
   "execution_count": 91,
   "id": "suffering-asbestos",
   "metadata": {},
   "outputs": [],
   "source": [
    "tablelist = [[],[],[],[]]\n",
    "for sf in swclist:\n",
    "    swc = pd.read_csv(sf,sep = \" \",comment=\"#\",usecols =[0,1,2,3,4,5,6],header=None)\n",
    "    swc.columns = ['#n','type','x','y','z','r','pid']\n",
    "    soma_id = swc[(swc['pid']== -1)&(swc['type'] == 1)].index[0]\n",
    "    neuron_name = os.path.basename(sf).split(\"_stps\")[0]\n",
    "    soma_XYZ = swc.iloc[soma_id][['x','y','z']]\n",
    "    tablelist[0].append(neuron_name)\n",
    "    tablelist[1].append(soma_XYZ[0])\n",
    "    tablelist[2].append(soma_XYZ[1])\n",
    "    tablelist[3].append(soma_XYZ[2])"
   ]
  },
  {
   "cell_type": "code",
   "execution_count": 93,
   "id": "vulnerable-employer",
   "metadata": {},
   "outputs": [],
   "source": [
    "somaList = pd.DataFrame({'name':tablelist[0],'x':tablelist[1],'y':tablelist[2],'z':tablelist[3]})"
   ]
  },
  {
   "cell_type": "code",
   "execution_count": 186,
   "id": "2e73bf2f-6479-4723-ae85-88d73701588e",
   "metadata": {},
   "outputs": [],
   "source": [
    "somaList.to_csv('somalist_179k.csv',index=None)"
   ]
  },
  {
   "cell_type": "code",
   "execution_count": 132,
   "id": "02c25321-aa33-4804-951b-e238c3694caf",
   "metadata": {},
   "outputs": [
    {
     "ename": "KeyboardInterrupt",
     "evalue": "",
     "output_type": "error",
     "traceback": [
      "\u001b[0;31m---------------------------------------------------------------------------\u001b[0m",
      "\u001b[0;31mKeyboardInterrupt\u001b[0m                         Traceback (most recent call last)",
      "Cell \u001b[0;32mIn[132], line 5\u001b[0m\n\u001b[1;32m      3\u001b[0m \u001b[38;5;28;01mfor\u001b[39;00m i \u001b[38;5;129;01min\u001b[39;00m \u001b[38;5;28mrange\u001b[39m(\u001b[38;5;28mlen\u001b[39m(soma_coords)):\n\u001b[1;32m      4\u001b[0m     d \u001b[38;5;241m=\u001b[39m distance_matrix(soma_coords,np\u001b[38;5;241m.\u001b[39marray([soma_coords[i,:]]))\n\u001b[0;32m----> 5\u001b[0m     sorted_d \u001b[38;5;241m=\u001b[39m \u001b[38;5;28;43msorted\u001b[39;49m\u001b[43m(\u001b[49m\u001b[43md\u001b[49m\u001b[43m[\u001b[49m\u001b[43m:\u001b[49m\u001b[43m,\u001b[49m\u001b[38;5;241;43m0\u001b[39;49m\u001b[43m]\u001b[49m\u001b[43m)\u001b[49m\n\u001b[1;32m      6\u001b[0m     \u001b[38;5;28;01mfor\u001b[39;00m j \u001b[38;5;129;01min\u001b[39;00m \u001b[38;5;28mrange\u001b[39m(\u001b[38;5;241m5\u001b[39m):\n\u001b[1;32m      7\u001b[0m         org_id \u001b[38;5;241m=\u001b[39m d[:,\u001b[38;5;241m0\u001b[39m]\u001b[38;5;241m.\u001b[39mtolist()\u001b[38;5;241m.\u001b[39mindex(sorted_d[j])\n",
      "\u001b[0;31mKeyboardInterrupt\u001b[0m: "
     ]
    }
   ],
   "source": [
    "soma_coords = somaList[['x','y','z']].values\n",
    "neighbor_localList = [[],[],[],[],[]]\n",
    "for i in range(len(soma_coords)):\n",
    "    d = distance_matrix(soma_coords,np.array([soma_coords[i,:]]))\n",
    "    sorted_d = sorted(d[:,0])\n",
    "    for j in range(5):\n",
    "        org_id = d[:,0].tolist().index(sorted_d[j])\n",
    "        neighbor_localList[j].append(somaList.iloc[org_id]['name'])"
   ]
  },
  {
   "cell_type": "code",
   "execution_count": 131,
   "id": "88980094-c7ce-43be-be52-0552fd54540e",
   "metadata": {},
   "outputs": [
    {
     "data": {
      "text/plain": [
       "0         10001_19868_8155\n",
       "1         10008_10862_6996\n",
       "2         10012_10978_7039\n",
       "3         10020_17924_8129\n",
       "4         10028_28224_6732\n",
       "                ...       \n",
       "179563     7626_18076_3068\n",
       "179564     8122_17844_3762\n",
       "179565     8813_17916_4826\n",
       "179566      9571_7846_6146\n",
       "179567      9854_7212_6231\n",
       "Name: name, Length: 179568, dtype: object"
      ]
     },
     "execution_count": 131,
     "metadata": {},
     "output_type": "execute_result"
    }
   ],
   "source": []
  },
  {
   "cell_type": "code",
   "execution_count": 106,
   "id": "c4606ab6-75af-4b6a-a039-e92d06a528d4",
   "metadata": {},
   "outputs": [
    {
     "data": {
      "text/plain": [
       "(179568, 3)"
      ]
     },
     "execution_count": 106,
     "metadata": {},
     "output_type": "execute_result"
    }
   ],
   "source": [
    "soma_coords.shape"
   ]
  },
  {
   "cell_type": "code",
   "execution_count": 121,
   "id": "e4002476-f0d7-485d-a7a6-b2c35e683ad6",
   "metadata": {},
   "outputs": [
    {
     "data": {
      "text/plain": [
       "array([[11287.6  ,  3667.825,  5563.125]])"
      ]
     },
     "execution_count": 121,
     "metadata": {},
     "output_type": "execute_result"
    }
   ],
   "source": [
    "np.array([soma_coords[i,:]])"
   ]
  },
  {
   "cell_type": "code",
   "execution_count": null,
   "id": "02be4cff-e5ab-45ad-b4fc-28eba4374159",
   "metadata": {},
   "outputs": [],
   "source": []
  },
  {
   "cell_type": "code",
   "execution_count": null,
   "id": "f39c16b4-73a0-4dc9-884c-4ddb3f397865",
   "metadata": {},
   "outputs": [],
   "source": []
  },
  {
   "cell_type": "code",
   "execution_count": 120,
   "id": "93e49c8d-d052-47c1-8774-0b41b5342e05",
   "metadata": {},
   "outputs": [],
   "source": [
    "in_dir=\"/home/penglab/Desktop/MyFiles/Projects/1891_retype/modified_47_retype/*\"\n",
    "tmp_files = glob.glob(in_dir)"
   ]
  },
  {
   "cell_type": "code",
   "execution_count": 102,
   "id": "e416893f-d0d1-493b-8aa9-61fec3c2e97f",
   "metadata": {},
   "outputs": [],
   "source": [
    "out_folder=\"/home/penglab/Desktop/MyFiles/Projects/1891_retype/recheck2\"\n",
    "in_folder=\"/home/penglab/Desktop/MyFiles/Projects/1891_retype/All1891\""
   ]
  },
  {
   "cell_type": "code",
   "execution_count": 94,
   "id": "79ff49e2-7af4-4e75-bc4e-46d44fa4256a",
   "metadata": {},
   "outputs": [],
   "source": [
    "import shutil"
   ]
  },
  {
   "cell_type": "code",
   "execution_count": 121,
   "id": "9478e7a0-c45c-4686-a2b7-cd6e3718c741",
   "metadata": {},
   "outputs": [
    {
     "name": "stdout",
     "output_type": "stream",
     "text": [
      "/home/penglab/Desktop/MyFiles/Projects/1891_retype/modified_47_retype/17109_2401_x9954_y9122_stamp_2023_11_22_10_13.ano.eswc\n",
      "/home/penglab/Desktop/MyFiles/Projects/1891_retype/modified_47_retype/18867_4392_x7633_y13301.ano.eswc\n",
      "/home/penglab/Desktop/MyFiles/Projects/1891_retype/modified_47_retype/18867_4954_x9860_y7599_stamp_2023_11_20_18_06.ano.eswc\n"
     ]
    }
   ],
   "source": [
    "n=0\n",
    "for f in tmp_files:\n",
    "    swc = pd.read_csv(f,comment=\"#\",header=None,sep=' ')\n",
    "    swc.columns=['n','type','x','y','z','r','p']\n",
    "    n_axon = len(swc[swc['type']==2])\n",
    "    n_basal = len(swc[swc['type']==3])\n",
    "    n_apical = len(swc[swc['type']==4])\n",
    "    if((n_axon<n_basal)|(n_axon<n_apical)):\n",
    "        # f_name = os.path.basename(f)\n",
    "        # in_path = os.path.join(in_folder,f_name)\n",
    "        # out_path = os.path.join(out_folder,f_name)\n",
    "        #shutil.copy(in_path,out_path)\n",
    "        n=n+1\n",
    "        print(f)"
   ]
  },
  {
   "cell_type": "code",
   "execution_count": 104,
   "id": "42266f78-9a24-409f-9358-3cd1a7320c40",
   "metadata": {},
   "outputs": [
    {
     "data": {
      "text/plain": [
       "31"
      ]
     },
     "execution_count": 104,
     "metadata": {},
     "output_type": "execute_result"
    }
   ],
   "source": [
    "n"
   ]
  },
  {
   "cell_type": "code",
   "execution_count": 123,
   "id": "fcc0218e-b926-44d1-b70a-822207c24227",
   "metadata": {},
   "outputs": [
    {
     "data": {
      "text/plain": [
       "{'17109_2601_x9498_y8169.swc',\n",
       " '18867_4647_x12409_y6656.ano.eswc',\n",
       " '18868_3627_x28035_y8749.ano.eswc'}"
      ]
     },
     "execution_count": 123,
     "metadata": {},
     "output_type": "execute_result"
    }
   ],
   "source": [
    "t1=os.listdir(\"/home/penglab/Desktop/MyFiles/Projects/1891_retype/modified_47_retype\")\n",
    "t2=os.listdir(\"/home/penglab/Desktop/MyFiles/Projects/1891_retype/modified_25+22\")\n",
    "set(t2)-set(t1)"
   ]
  },
  {
   "cell_type": "code",
   "execution_count": 132,
   "id": "4798b8d8-89b6-4db8-a029-e05e4e93eae9",
   "metadata": {},
   "outputs": [],
   "source": [
    "name_folder = \"/home/penglab/Desktop/MyFiles/Projects/1891_retype/test/*\"\n",
    "files = glob.glob(name_folder)"
   ]
  },
  {
   "cell_type": "code",
   "execution_count": 133,
   "id": "c8846889-45fe-4956-80e3-313482584b05",
   "metadata": {},
   "outputs": [],
   "source": [
    "for f in files:\n",
    "    f_name = os.path.basename(f)\n",
    "    if \"_stamp\" in f_name:\n",
    "        name = f_name.split(\"_stamp\")[0]+\".swc\"\n",
    "        dir_name = os.path.dirname(f)\n",
    "        f_path = os.path.join(dir_name,name)\n",
    "        os.rename(f,f_path)\n",
    "    elif \"ano\" in f_name:\n",
    "        name = f_name.split(\".ano\")[0]+\".swc\"\n",
    "        dir_name = os.path.dirname(f)\n",
    "        f_path = os.path.join(dir_name,name)\n",
    "        os.rename(f,f_path)\n",
    "    else:\n",
    "        continue"
   ]
  },
  {
   "cell_type": "markdown",
   "id": "existing-wilson",
   "metadata": {},
   "source": [
    "### crop size calculation"
   ]
  },
  {
   "cell_type": "code",
   "execution_count": 192,
   "id": "local-forty",
   "metadata": {},
   "outputs": [],
   "source": [
    "brain_img_info = pd.read_csv(\"all_brain_metainfo.csv\")\n",
    "# brain_ids = []\n",
    "# in_dir = \"179k_CCFv3_25um_tosoma_100um\"\n",
    "# for b in os.listdir(in_dir):\n",
    "#     brain_ids.append(int(b))"
   ]
  },
  {
   "cell_type": "code",
   "execution_count": 199,
   "id": "daf18a0c",
   "metadata": {},
   "outputs": [],
   "source": [
    "brain_ids = [int(x) for x in brain_list]"
   ]
  },
  {
   "cell_type": "code",
   "execution_count": 198,
   "id": "atomic-edwards",
   "metadata": {},
   "outputs": [],
   "source": [
    "min_resx = brain_img_info[brain_img_info['brainid'].isin(brain_ids)]['resx'].min()\n",
    "min_resy = brain_img_info[brain_img_info['brainid'].isin(brain_ids)]['resy'].min()\n",
    "min_resz = brain_img_info[brain_img_info['brainid'].isin(brain_ids)]['resz'].min()"
   ]
  },
  {
   "cell_type": "code",
   "execution_count": 200,
   "id": "e04f914c",
   "metadata": {},
   "outputs": [
    {
     "data": {
      "text/plain": [
       "0.2"
      ]
     },
     "execution_count": 200,
     "metadata": {},
     "output_type": "execute_result"
    }
   ],
   "source": [
    "min_resx"
   ]
  },
  {
   "cell_type": "code",
   "execution_count": 14,
   "id": "medical-submission",
   "metadata": {},
   "outputs": [
    {
     "data": {
      "text/plain": [
       "(204.8, 204.8, 256)"
      ]
     },
     "execution_count": 14,
     "metadata": {},
     "output_type": "execute_result"
    }
   ],
   "source": [
    "1024*min_resx,1024*min_resy,256*min_resz"
   ]
  },
  {
   "cell_type": "markdown",
   "id": "incredible-illustration",
   "metadata": {},
   "source": [
    "### Matching 1891"
   ]
  },
  {
   "cell_type": "code",
   "execution_count": 192,
   "id": "altered-exhibition",
   "metadata": {},
   "outputs": [],
   "source": [
    "def read_apo(folder_path):\n",
    "    apo_files = glob.glob(folder_path+\"/*\")\n",
    "    apo_table = pd.read_csv(apo_files[0])\n",
    "    for i in range(1, len(apo_files)):\n",
    "        in_file = pd.read_csv(apo_files[i])\n",
    "        apo_table = pd.concat([apo_table,in_file])\n",
    "    apo_table = apo_table.reset_index(drop=True)\n",
    "    apo_table = apo_table[['name','x','y','z']]\n",
    "    return apo_table"
   ]
  },
  {
   "cell_type": "code",
   "execution_count": 193,
   "id": "surprising-culture",
   "metadata": {},
   "outputs": [],
   "source": [
    "def soma_matching(subject_table,object_table):\n",
    "    matched_ids = []\n",
    "    sub_ids = []\n",
    "    for i in range(len(subject_table)):\n",
    "        s = subject_table[['x','y','z']].iloc[i].values.reshape(1,3)\n",
    "        d_matrix = distance_matrix(s,object_table[['x','y','z']].values)\n",
    "        min_d = np.min(d_matrix)\n",
    "        if min_d > 30:\n",
    "            continue\n",
    "        index = np.argwhere(d_matrix == min_d)[0][1]\n",
    "        matched_ids.append(object_table['name'].iloc[index].split(\".swc\")[0])\n",
    "        sub_ids.append(subject_table['name'].iloc[i])\n",
    "    return sub_ids, matched_ids"
   ]
  },
  {
   "cell_type": "code",
   "execution_count": 196,
   "id": "charged-rates",
   "metadata": {},
   "outputs": [],
   "source": [
    "### 1891 soma match\n",
    "folder_subject = \"1891_apo\"\n",
    "apo_subject_table = read_apo(folder_subject)\n",
    "apo_subject_table['name'] = apo_subject_table['name'].map(lambda x:x.lstrip())\n",
    "apo_subject_table = apo_subject_table[~apo_subject_table['name'].isin(del_list)]\n",
    "apo_subject_table = apo_subject_table.reset_index(drop=True)"
   ]
  },
  {
   "cell_type": "code",
   "execution_count": 197,
   "id": "electric-castle",
   "metadata": {},
   "outputs": [],
   "source": [
    "folder_obj = \"179k_somalist_raw\"\n",
    "apo_obj_table = read_apo(folder_obj)"
   ]
  },
  {
   "cell_type": "code",
   "execution_count": 198,
   "id": "alternative-attendance",
   "metadata": {},
   "outputs": [],
   "source": [
    "subj_ids, matched_ids_obj = soma_matching(apo_subject_table,apo_obj_table)"
   ]
  },
  {
   "cell_type": "code",
   "execution_count": 202,
   "id": "announced-saskatchewan",
   "metadata": {},
   "outputs": [],
   "source": [
    "matched_ids_obj = list(map(lambda x: x.lstrip(),matched_ids_obj))"
   ]
  },
  {
   "cell_type": "code",
   "execution_count": 203,
   "id": "a8ee8541",
   "metadata": {},
   "outputs": [],
   "source": [
    "out_match_table = pd.DataFrame({'s_name':subj_ids,'o_name':matched_ids_obj})\n",
    "out_match_table.to_csv('so_match_table.txt', index=None, sep = ' ')"
   ]
  },
  {
   "cell_type": "code",
   "execution_count": 209,
   "id": "massive-yeast",
   "metadata": {},
   "outputs": [],
   "source": [
    "matched_sub_gf = gf_table[gf_table['Name'].isin(subj_ids)]\n",
    "matched_obj_gf = Ftable[Ftable['Name'].isin(matched_ids_obj)]"
   ]
  },
  {
   "cell_type": "code",
   "execution_count": 210,
   "id": "f3ad0763",
   "metadata": {},
   "outputs": [
    {
     "data": {
      "text/plain": [
       "1505"
      ]
     },
     "execution_count": 210,
     "metadata": {},
     "output_type": "execute_result"
    }
   ],
   "source": [
    "len(matched_obj_gf)"
   ]
  },
  {
   "cell_type": "code",
   "execution_count": 169,
   "id": "public-prototype",
   "metadata": {},
   "outputs": [],
   "source": [
    "matched_sub_gf = pd.DataFrame()\n",
    "for i in subj_ids:\n",
    "    row = gf_table[gf_table['Name']==i]\n",
    "    matched_sub_gf = pd.concat([matched_sub_gf,row])\n",
    "matched_sub_gf.columns = gf_table.columns\n",
    "matched_sub_gf = matched_sub_gf.reset_index(drop=True)"
   ]
  },
  {
   "cell_type": "code",
   "execution_count": 212,
   "id": "electoral-oakland",
   "metadata": {},
   "outputs": [],
   "source": [
    "matched_obj_gf = pd.DataFrame()\n",
    "for i in matched_ids_obj:\n",
    "    row = Ftable[Ftable['Name']==i]\n",
    "    matched_obj_gf = pd.concat([matched_obj_gf,row])\n",
    "matched_obj_gf.columns = Ftable.columns\n",
    "matched_obj_gf = matched_obj_gf.reset_index(drop=True)"
   ]
  },
  {
   "cell_type": "code",
   "execution_count": 213,
   "id": "heavy-emerald",
   "metadata": {},
   "outputs": [],
   "source": [
    "matched_sub_gf2 = matched_sub_gf.drop(['Name'],axis=1)\n",
    "matched_obj_gf2 = matched_obj_gf.drop(['Name'],axis=1)"
   ]
  },
  {
   "cell_type": "code",
   "execution_count": 214,
   "id": "6a0a6fcf",
   "metadata": {},
   "outputs": [],
   "source": [
    "matched_sub_gf2 = matched_sub_gf2.reset_index(drop=True)\n",
    "matched_obj_gf2 = matched_obj_gf2.reset_index(drop=True)"
   ]
  },
  {
   "cell_type": "code",
   "execution_count": 215,
   "id": "least-liverpool",
   "metadata": {},
   "outputs": [],
   "source": [
    "from scipy import stats\n",
    "from scipy.stats import pearsonr,spearmanr\n",
    "from sklearn.preprocessing import StandardScaler\n",
    "import matplotlib.pyplot as plt\n",
    "import seaborn as sns"
   ]
  },
  {
   "cell_type": "code",
   "execution_count": 216,
   "id": "b02c6fd4",
   "metadata": {},
   "outputs": [],
   "source": [
    "matched_sub_gf3 = matched_sub_gf2[['Bifurcations', 'Branches', 'Tips',\n",
    "                                'Length','MaxEuclideanDistance','MaxPathDistance', 'MaxBranchOrder', 'AverageContraction',\n",
    "                                'AverageParent-daughterRatio','AverageBifurcationAngleLocal', 'AverageBifurcationAngleRemote',\n",
    "                                'HausdorffDimension']]\n",
    "matched_obj_gf3 = matched_obj_gf2[['Bifurcations', 'Branches', 'Tips',\n",
    "                                'Length','MaxEuclideanDistance','MaxPathDistance', 'MaxBranchOrder', 'AverageContraction',\n",
    "                                'AverageParent-daughterRatio','AverageBifurcationAngleLocal', 'AverageBifurcationAngleRemote',\n",
    "                                'HausdorffDimension']]"
   ]
  },
  {
   "cell_type": "code",
   "execution_count": 402,
   "id": "blind-prototype",
   "metadata": {},
   "outputs": [
    {
     "data": {
      "text/plain": [
       "1"
      ]
     },
     "execution_count": 402,
     "metadata": {},
     "output_type": "execute_result"
    }
   ],
   "source": [
    "matched_sub_gf2['AverageParent-daughterRatio'].max()"
   ]
  },
  {
   "cell_type": "code",
   "execution_count": 218,
   "id": "unique-confidence",
   "metadata": {},
   "outputs": [
    {
     "name": "stderr",
     "output_type": "stream",
     "text": [
      "/var/folders/7l/zhd6m6dn33s94rgr0gyffgq40000gn/T/ipykernel_35518/712236704.py:10: UserWarning: Dataset has 0 variance; skipping density estimate. Pass `warn_singular=False` to disable this warning.\n",
      "  sns.kdeplot(data = matched_sub_gf2[feature_list[i]], label=\"1876 dataset\",fill=True)\n"
     ]
    },
    {
     "data": {
      "image/png": "[encoded data removed]",
      "text/plain": [
       "<Figure size 2200x900 with 10 Axes>"
      ]
     },
     "metadata": {},
     "output_type": "display_data"
    }
   ],
   "source": [
    "plt.figure(figsize=(22,9))\n",
    "feature_list = ['Bifurcations','Tips','Length','MaxPathDistance','MaxBranchOrder','AverageContraction',\n",
    "                'AverageParent-daughterRatio','AverageBifurcationAngleLocal','AverageBifurcationAngleRemote',\n",
    "               'HausdorffDimension']\n",
    "feature_name = ['Bifurcation','Tip','Total Length','Max Path Distance','Max Branch Order','Avg Contraction',\n",
    "               'Avg Parent-daughter Ratio','Avg Bifurcation Angle(Local)','Avg Bifurcation Angle(Remote)',\n",
    "               'Hausdorff Dimension']\n",
    "for i in range(len(feature_list)):\n",
    "    plt.subplot(2,5,i+1)\n",
    "    sns.kdeplot(data = matched_sub_gf2[feature_list[i]], label=\"1876 dataset\",fill=True)\n",
    "    sns.kdeplot(data = matched_obj_gf2[feature_list[i]], label=\"230K dataset\",fill=True)\n",
    "    plt.ticklabel_format(axis=\"y\",style=\"sci\",scilimits=(0,0))\n",
    "    plt.title(feature_name[i],fontsize=18)\n",
    "    if feature_list[i] == 'AverageContraction':\n",
    "        plt.legend(loc='upper left')\n",
    "    else:\n",
    "        plt.legend(loc='upper right')\n",
    "    plt.tight_layout()\n",
    "plt.savefig(\"figs/1891_comparison.png\",dpi=100)"
   ]
  },
  {
   "cell_type": "code",
   "execution_count": 3,
   "id": "50ab5b46",
   "metadata": {},
   "outputs": [],
   "source": [
    "comparison_folder = '1891_compare/*'\n",
    "compared_files = glob.glob(comparison_folder)\n",
    "comparison_table = pd.DataFrame(columns=['so_structure','os_structure','avg_structure','median_structure','avg_difference','so_percent','os_percent','avg_percent'])\n",
    "n = 0\n",
    "for cf in compared_files:\n",
    "    tmp = pd.read_csv(cf,header=None)\n",
    "    new_value = []\n",
    "    for i in range(2,10):\n",
    "        v = float(tmp[0].iloc[i].split('=')[1])\n",
    "        new_value.append(v)\n",
    "    comparison_table.loc[n] = new_value\n",
    "    n = n+1"
   ]
  },
  {
   "cell_type": "code",
   "execution_count": 4,
   "id": "77e0c6b2",
   "metadata": {},
   "outputs": [],
   "source": [
    "match_table = pd.read_csv('so_match_table.txt',sep = ' ')"
   ]
  },
  {
   "cell_type": "code",
   "execution_count": 5,
   "id": "9c8ad543",
   "metadata": {},
   "outputs": [],
   "source": [
    "subj_ids = list(match_table['s_name'])\n",
    "matched_ids_obj = list(match_table['o_name'])"
   ]
  },
  {
   "cell_type": "code",
   "execution_count": 6,
   "id": "89a32245",
   "metadata": {},
   "outputs": [],
   "source": [
    "comparison_table2 = comparison_table.copy()\n",
    "comparison_table2.insert(0,'1867_ID',subj_ids)\n",
    "comparison_table2.insert(1,'179k_ID',matched_ids_obj)\n",
    "#comparison_table2.to_csv('neuron_dist_1876.csv',index=None)"
   ]
  },
  {
   "cell_type": "code",
   "execution_count": 7,
   "id": "e25bf42d",
   "metadata": {},
   "outputs": [],
   "source": [
    "brain_info1 = '/Users/krystal/Desktop/project/all_brain_metainfo.csv'\n",
    "brain_info2 = '/Users/krystal/Desktop/project/cloud_paper/SEU-ALLEN_brains_0422.xlsx'\n",
    "res_table1 = pd.read_csv(brain_info1)\n",
    "res_table2 = pd.read_excel(brain_info2)"
   ]
  },
  {
   "cell_type": "code",
   "execution_count": 8,
   "id": "1c2e9fe9",
   "metadata": {},
   "outputs": [],
   "source": [
    "res_table2['fMOST ID']=res_table2['fMOST ID'].fillna(0)\n",
    "res_table2['fMOST ID'] = res_table2['fMOST ID'].astype('int')"
   ]
  },
  {
   "cell_type": "code",
   "execution_count": 9,
   "id": "524e226a",
   "metadata": {},
   "outputs": [
    {
     "data": {
      "text/plain": [
       "True"
      ]
     },
     "execution_count": 9,
     "metadata": {},
     "output_type": "execute_result"
    }
   ],
   "source": [
    "str(res_table2['Resolution_XY (𝜇𝑚)'].iloc[0]) == 'nan'"
   ]
  },
  {
   "cell_type": "code",
   "execution_count": 10,
   "id": "ad1ab6b1",
   "metadata": {},
   "outputs": [],
   "source": [
    "brainList1 = list(res_table1['brainid'])\n",
    "brainList2 = list(res_table2['fMOST ID'])"
   ]
  },
  {
   "cell_type": "code",
   "execution_count": 11,
   "id": "6a009aa2",
   "metadata": {},
   "outputs": [],
   "source": [
    "D = []\n",
    "for i in range(len(comparison_table2)):\n",
    "    brainID = comparison_table2['1867_ID'][i].split(\"_\")[0]\n",
    "    if brainID == 'pre':\n",
    "        brainID = int(comparison_table2['1867_ID'][i].split(\"_\")[1])\n",
    "    else:\n",
    "        brainID = int(brainID)\n",
    "    if brainID in brainList1:\n",
    "        row_id = res_table1[res_table1['brainid']==brainID].index[0]\n",
    "        R = res_table1['resx'][row_id]\n",
    "    elif brainID in brainList2:\n",
    "        row_id = res_table2[res_table2['fMOST ID']==brainID].index[0]\n",
    "        R = res_table2['Resolution_XY (𝜇𝑚)'][row_id]\n",
    "    if str(R) == 'nan':\n",
    "        R = 0.3\n",
    "    tmp = comparison_table2['median_structure'].iloc[i] * R\n",
    "    D.append(tmp)"
   ]
  },
  {
   "cell_type": "code",
   "execution_count": 12,
   "id": "6d62ba52",
   "metadata": {},
   "outputs": [],
   "source": [
    "comparison_table2['median_structure_trans'] = D"
   ]
  },
  {
   "cell_type": "code",
   "execution_count": 13,
   "id": "f158be8f",
   "metadata": {},
   "outputs": [
    {
     "data": {
      "text/html": [
       "<div>\n",
       "<style scoped>\n",
       "    .dataframe tbody tr th:only-of-type {\n",
       "        vertical-align: middle;\n",
       "    }\n",
       "\n",
       "    .dataframe tbody tr th {\n",
       "        vertical-align: top;\n",
       "    }\n",
       "\n",
       "    .dataframe thead th {\n",
       "        text-align: right;\n",
       "    }\n",
       "</style>\n",
       "<table border=\"1\" class=\"dataframe\">\n",
       "  <thead>\n",
       "    <tr style=\"text-align: right;\">\n",
       "      <th></th>\n",
       "      <th>so_structure</th>\n",
       "      <th>os_structure</th>\n",
       "      <th>avg_structure</th>\n",
       "      <th>median_structure</th>\n",
       "      <th>avg_difference</th>\n",
       "      <th>so_percent</th>\n",
       "      <th>os_percent</th>\n",
       "      <th>avg_percent</th>\n",
       "      <th>median_structure_trans</th>\n",
       "    </tr>\n",
       "  </thead>\n",
       "  <tbody>\n",
       "    <tr>\n",
       "      <th>count</th>\n",
       "      <td>1505.000000</td>\n",
       "      <td>1505.000000</td>\n",
       "      <td>1505.000000</td>\n",
       "      <td>1505.000000</td>\n",
       "      <td>1505.000000</td>\n",
       "      <td>1505.000000</td>\n",
       "      <td>1505.000000</td>\n",
       "      <td>1505.000000</td>\n",
       "      <td>1505.000000</td>\n",
       "    </tr>\n",
       "    <tr>\n",
       "      <th>mean</th>\n",
       "      <td>32.133308</td>\n",
       "      <td>45.550882</td>\n",
       "      <td>38.842092</td>\n",
       "      <td>25.001571</td>\n",
       "      <td>45.002763</td>\n",
       "      <td>0.707431</td>\n",
       "      <td>0.747159</td>\n",
       "      <td>0.727295</td>\n",
       "      <td>5.845815</td>\n",
       "    </tr>\n",
       "    <tr>\n",
       "      <th>std</th>\n",
       "      <td>432.343944</td>\n",
       "      <td>431.709532</td>\n",
       "      <td>431.745873</td>\n",
       "      <td>431.445331</td>\n",
       "      <td>431.622575</td>\n",
       "      <td>0.167067</td>\n",
       "      <td>0.149415</td>\n",
       "      <td>0.147547</td>\n",
       "      <td>99.233237</td>\n",
       "    </tr>\n",
       "    <tr>\n",
       "      <th>min</th>\n",
       "      <td>1.593120</td>\n",
       "      <td>1.240520</td>\n",
       "      <td>2.650340</td>\n",
       "      <td>1.177370</td>\n",
       "      <td>3.386530</td>\n",
       "      <td>0.160189</td>\n",
       "      <td>0.135030</td>\n",
       "      <td>0.192955</td>\n",
       "      <td>0.270795</td>\n",
       "    </tr>\n",
       "    <tr>\n",
       "      <th>25%</th>\n",
       "      <td>4.607220</td>\n",
       "      <td>9.714710</td>\n",
       "      <td>10.070800</td>\n",
       "      <td>2.490170</td>\n",
       "      <td>13.626400</td>\n",
       "      <td>0.591278</td>\n",
       "      <td>0.646850</td>\n",
       "      <td>0.626879</td>\n",
       "      <td>0.583604</td>\n",
       "    </tr>\n",
       "    <tr>\n",
       "      <th>50%</th>\n",
       "      <td>7.657390</td>\n",
       "      <td>21.390500</td>\n",
       "      <td>17.333200</td>\n",
       "      <td>3.072860</td>\n",
       "      <td>23.258500</td>\n",
       "      <td>0.707712</td>\n",
       "      <td>0.755625</td>\n",
       "      <td>0.721679</td>\n",
       "      <td>0.804071</td>\n",
       "    </tr>\n",
       "    <tr>\n",
       "      <th>75%</th>\n",
       "      <td>15.823900</td>\n",
       "      <td>39.582600</td>\n",
       "      <td>28.512900</td>\n",
       "      <td>8.228380</td>\n",
       "      <td>36.536700</td>\n",
       "      <td>0.821654</td>\n",
       "      <td>0.851260</td>\n",
       "      <td>0.821458</td>\n",
       "      <td>1.955225</td>\n",
       "    </tr>\n",
       "    <tr>\n",
       "      <th>max</th>\n",
       "      <td>14493.300000</td>\n",
       "      <td>14343.300000</td>\n",
       "      <td>14418.300000</td>\n",
       "      <td>14400.800000</td>\n",
       "      <td>14418.300000</td>\n",
       "      <td>1.000000</td>\n",
       "      <td>1.000000</td>\n",
       "      <td>1.000000</td>\n",
       "      <td>3312.184000</td>\n",
       "    </tr>\n",
       "  </tbody>\n",
       "</table>\n",
       "</div>"
      ],
      "text/plain": [
       "       so_structure  os_structure  avg_structure  median_structure  \\\n",
       "count   1505.000000   1505.000000    1505.000000       1505.000000   \n",
       "mean      32.133308     45.550882      38.842092         25.001571   \n",
       "std      432.343944    431.709532     431.745873        431.445331   \n",
       "min        1.593120      1.240520       2.650340          1.177370   \n",
       "25%        4.607220      9.714710      10.070800          2.490170   \n",
       "50%        7.657390     21.390500      17.333200          3.072860   \n",
       "75%       15.823900     39.582600      28.512900          8.228380   \n",
       "max    14493.300000  14343.300000   14418.300000      14400.800000   \n",
       "\n",
       "       avg_difference   so_percent   os_percent  avg_percent  \\\n",
       "count     1505.000000  1505.000000  1505.000000  1505.000000   \n",
       "mean        45.002763     0.707431     0.747159     0.727295   \n",
       "std        431.622575     0.167067     0.149415     0.147547   \n",
       "min          3.386530     0.160189     0.135030     0.192955   \n",
       "25%         13.626400     0.591278     0.646850     0.626879   \n",
       "50%         23.258500     0.707712     0.755625     0.721679   \n",
       "75%         36.536700     0.821654     0.851260     0.821458   \n",
       "max      14418.300000     1.000000     1.000000     1.000000   \n",
       "\n",
       "       median_structure_trans  \n",
       "count             1505.000000  \n",
       "mean                 5.845815  \n",
       "std                 99.233237  \n",
       "min                  0.270795  \n",
       "25%                  0.583604  \n",
       "50%                  0.804071  \n",
       "75%                  1.955225  \n",
       "max               3312.184000  "
      ]
     },
     "execution_count": 13,
     "metadata": {},
     "output_type": "execute_result"
    }
   ],
   "source": [
    "comparison_table2.describe()"
   ]
  },
  {
   "cell_type": "code",
   "execution_count": 14,
   "id": "4e62e24f",
   "metadata": {},
   "outputs": [
    {
     "data": {
      "text/plain": [
       "0.8040708000000001"
      ]
     },
     "execution_count": 14,
     "metadata": {},
     "output_type": "execute_result"
    }
   ],
   "source": [
    "np.median(comparison_table2['median_structure_trans'])"
   ]
  },
  {
   "cell_type": "code",
   "execution_count": 19,
   "id": "02dbdbd7",
   "metadata": {},
   "outputs": [
    {
     "name": "stderr",
     "output_type": "stream",
     "text": [
      "/Users/krystal/anaconda3/lib/python3.10/site-packages/seaborn/_oldcore.py:1119: FutureWarning: use_inf_as_na option is deprecated and will be removed in a future version. Convert inf values to NaN before operating instead.\n",
      "  with pd.option_context('mode.use_inf_as_na', True):\n"
     ]
    },
    {
     "data": {
      "image/png": "[encoded data removed]",
      "text/plain": [
       "<Figure size 700x500 with 1 Axes>"
      ]
     },
     "metadata": {},
     "output_type": "display_data"
    }
   ],
   "source": [
    "sns.set_theme(style=\"ticks\")\n",
    "\n",
    "f, ax = plt.subplots(figsize=(7, 5))\n",
    "sns.despine(f)\n",
    "\n",
    "sns.histplot(\n",
    "    comparison_table2,\n",
    "    x=\"median_structure_trans\",\n",
    "    color=\"skyblue\",\n",
    "    edgecolor=\".3\",\n",
    "    linewidth=.5,\n",
    "    log_scale=True,\n",
    ")\n",
    "ax.xaxis.set_major_formatter(mpl.ticker.ScalarFormatter())\n",
    "plt.xlabel(\"Bi-directional entire structure median distance(um)\")\n",
    "ax.axvline(x = 0.804, ymin=0,ymax = 350, label = \"median value\",color='red',lw=1.5)\n",
    "ax.text(0.804, ax.get_ylim()[1],'median value = 0.804 um',ha='left',va='bottom')\n",
    "plt.savefig(\"figs/median_structure_similarity.png\",dpi=100)"
   ]
  },
  {
   "cell_type": "code",
   "execution_count": null,
   "id": "535d8a5c",
   "metadata": {},
   "outputs": [],
   "source": []
  }
 ],
 "metadata": {
  "kernelspec": {
   "display_name": "Python 3 (ipykernel)",
   "language": "python",
   "name": "python3"
  },
  "language_info": {
   "codemirror_mode": {
    "name": "ipython",
    "version": 3
   },
   "file_extension": ".py",
   "mimetype": "text/x-python",
   "name": "python",
   "nbconvert_exporter": "python",
   "pygments_lexer": "ipython3",
   "version": "3.10.9"
  }
 },
 "nbformat": 4,
 "nbformat_minor": 5
}
