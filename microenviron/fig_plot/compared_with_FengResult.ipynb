{
 "cells": [
  {
   "cell_type": "code",
   "execution_count": 1,
   "metadata": {},
   "outputs": [],
   "source": [
    "import numpy as np\n",
    "import pandas as pd\n",
    "import os"
   ]
  },
  {
   "cell_type": "code",
   "execution_count": 2,
   "metadata": {},
   "outputs": [],
   "source": [
    "arbor_path = \"arbor_connectome.csv\"\n",
    "arbor_table = pd.read_csv(arbor_path)"
   ]
  },
  {
   "cell_type": "code",
   "execution_count": 3,
   "metadata": {},
   "outputs": [],
   "source": [
    "celltype_all_path = \"/Users/krystal/Desktop/project/TableS6_Full_morphometry_1222.xlsx\"\n",
    "celltype_all_table = pd.read_excel(celltype_all_path)"
   ]
  },
  {
   "cell_type": "code",
   "execution_count": 4,
   "metadata": {},
   "outputs": [],
   "source": [
    "### filter\n",
    "del_namelist_arbor = set(arbor_table['Unnamed: 0']).difference(celltype_all_table['Morphology Name'])\n",
    "del_rows = arbor_table[arbor_table['Unnamed: 0'].isin(del_namelist_arbor)].index.tolist()\n",
    "del_columns = list(arbor_table[arbor_table['Unnamed: 0'].isin(del_namelist_arbor)]['Unnamed: 0'])\n",
    "arbor_table_del = arbor_table.drop(del_columns,axis=1)\n",
    "arbor_table_del = arbor_table_del.drop(del_rows,axis=0)\n",
    "arbor_table_del = arbor_table_del.reset_index(drop=True)"
   ]
  },
  {
   "cell_type": "code",
   "execution_count": 5,
   "metadata": {},
   "outputs": [
    {
     "data": {
      "text/plain": [
       "(1873, 1874)"
      ]
     },
     "execution_count": 5,
     "metadata": {},
     "output_type": "execute_result"
    }
   ],
   "source": [
    "arbor_table_del.shape"
   ]
  },
  {
   "cell_type": "code",
   "execution_count": 6,
   "metadata": {},
   "outputs": [],
   "source": [
    "celltype_all = celltype_all_table[['Soma region','Cortical Lamination of soma']].fillna('').agg(''.join,axis=1)"
   ]
  },
  {
   "cell_type": "code",
   "execution_count": 7,
   "metadata": {},
   "outputs": [],
   "source": [
    "arbor_namelist = list(arbor_table_del['Unnamed: 0'])"
   ]
  },
  {
   "cell_type": "code",
   "execution_count": 8,
   "metadata": {},
   "outputs": [],
   "source": [
    "arbor_table2 = arbor_table_del.copy()\n",
    "for c in arbor_table2.columns[1:]:\n",
    "    arbor_table2[c] = arbor_table2[c].astype(float)"
   ]
  },
  {
   "cell_type": "code",
   "execution_count": 9,
   "metadata": {},
   "outputs": [],
   "source": [
    "arbor_table3 = arbor_table2.drop(['Unnamed: 0'],axis=1)\n",
    "arbor_table_mask = arbor_table3 < 0\n",
    "arbor_table3[arbor_table_mask] = 0"
   ]
  },
  {
   "cell_type": "code",
   "execution_count": 11,
   "metadata": {},
   "outputs": [
    {
     "data": {
      "text/plain": [
       "(1873, 1873)"
      ]
     },
     "execution_count": 11,
     "metadata": {},
     "output_type": "execute_result"
    }
   ],
   "source": [
    "arbor_table3.shape"
   ]
  },
  {
   "cell_type": "code",
   "execution_count": 10,
   "metadata": {},
   "outputs": [],
   "source": [
    "celltype_arbor = []\n",
    "for i in range(len(arbor_table2)):\n",
    "    name = arbor_namelist[i]\n",
    "    row_id = celltype_all_table[celltype_all_table['Morphology Name']==name].index[0]\n",
    "    celltype_arbor.append(celltype_all[row_id])"
   ]
  },
  {
   "cell_type": "code",
   "execution_count": 12,
   "metadata": {},
   "outputs": [],
   "source": [
    "cp_namelist = list(celltype_all_table[celltype_all_table['Soma region']=='CP']['Morphology Name'])"
   ]
  },
  {
   "cell_type": "code",
   "execution_count": 13,
   "metadata": {},
   "outputs": [],
   "source": [
    "arbor_table_array =  np.array(arbor_table3)"
   ]
  },
  {
   "cell_type": "code",
   "execution_count": 14,
   "metadata": {},
   "outputs": [],
   "source": [
    "# input & output\n",
    "cp_table = arbor_table_array[arbor_table_del[arbor_table_del['Unnamed: 0'].isin(cp_namelist)].index.tolist(),:]\n",
    "# cp_trans_table = pd.DataFrame(cp_table.T)\n",
    "# cp_trans_table['type'] = celltype_arbor\n",
    "# cp_trans_sum = cp_trans_table.groupby(['type']).sum()\n",
    "# cp_out_regions = cp_trans_sum.index\n",
    "# cp_table_trans = np.array(cp_trans_sum)\n",
    "# cp_out = cp_table_trans.T"
   ]
  },
  {
   "cell_type": "code",
   "execution_count": 15,
   "metadata": {},
   "outputs": [
    {
     "data": {
      "text/plain": [
       "(324, 1873)"
      ]
     },
     "execution_count": 15,
     "metadata": {},
     "output_type": "execute_result"
    }
   ],
   "source": [
    "cp_table.shape"
   ]
  },
  {
   "cell_type": "code",
   "execution_count": 16,
   "metadata": {},
   "outputs": [],
   "source": [
    "names = np.array(arbor_table_del['Unnamed: 0'])[arbor_table_del[arbor_table_del['Unnamed: 0'].isin(cp_namelist)].index.tolist()]"
   ]
  },
  {
   "cell_type": "code",
   "execution_count": 17,
   "metadata": {},
   "outputs": [],
   "source": [
    "### log\n",
    "# cp_out_log = cp_out.copy()\n",
    "# cp_out_log_mask = cp_out > 0\n",
    "# cp_out_log[cp_out_log_mask] = np.log(cp_out_log[cp_out_log_mask])\n",
    "cp_table2 = cp_table + 1\n",
    "cp_log = np.log(cp_table2)"
   ]
  },
  {
   "cell_type": "code",
   "execution_count": 177,
   "metadata": {},
   "outputs": [
    {
     "data": {
      "text/plain": [
       "(388, 1873)"
      ]
     },
     "execution_count": 177,
     "metadata": {},
     "output_type": "execute_result"
    }
   ],
   "source": [
    "cp_log.shape"
   ]
  },
  {
   "cell_type": "code",
   "execution_count": 19,
   "metadata": {},
   "outputs": [],
   "source": [
    "## spectral clustering, partition\n",
    "from sklearn.cluster import SpectralClustering\n",
    "from matplotlib import pyplot as plt\n",
    "import networkx as nx\n",
    "from sklearn.metrics import pairwise_distances\n",
    "from sklearn import metrics"
   ]
  },
  {
   "cell_type": "code",
   "execution_count": 28,
   "metadata": {},
   "outputs": [],
   "source": [
    "from scipy.spatial.distance import cdist\n",
    "D = cdist(cp_log,cp_log,'euclidean')"
   ]
  },
  {
   "cell_type": "code",
   "execution_count": 98,
   "metadata": {},
   "outputs": [],
   "source": [
    "s_scores = []\n",
    "c_scores = []\n",
    "# CH = 0\n",
    "# gamma_best = 0\n",
    "# k_cluster_best = 0\n",
    "# for index, gamma in enumerate((1,1.5,2,2.5,5)):\n",
    "#     for index,k in enumerate(np.arange(2,20)):\n",
    "#         y_pred = SpectralClustering(n_clusters=k,gamma=gamma).fit_predict(cp_log)\n",
    "#         curr_c = metrics.calinski_harabasz_score(cp_log,y_pred)\n",
    "#         if curr_c > CH:\n",
    "#             CH = curr_c\n",
    "#             k_cluster_best = k\n",
    "#             gamma_best = gamma\n",
    "\n",
    "for i in range(2,20):\n",
    "    cluster_i = SpectralClustering(n_clusters=i,affinity='rbf',n_neighbors=10,gamma=1.0,random_state=1024).fit(cp_log)\n",
    "    # cluster_i = SpectralClustering(n_clusters=i,affinity='precomputed',eigen_solver='arpack',random_state=1024).fit(D)\n",
    "    labels = cluster_i.labels_\n",
    "    s_scores.append(metrics.silhouette_score(D,labels))\n",
    "    c_scores.append(metrics.calinski_harabasz_score(D,labels))"
   ]
  },
  {
   "cell_type": "code",
   "execution_count": 99,
   "metadata": {},
   "outputs": [
    {
     "data": {
      "text/plain": [
       "(0, 0)"
      ]
     },
     "execution_count": 99,
     "metadata": {},
     "output_type": "execute_result"
    }
   ],
   "source": [
    "np.argmax(s_scores),np.argmax(c_scores)"
   ]
  },
  {
   "cell_type": "code",
   "execution_count": 100,
   "metadata": {},
   "outputs": [
    {
     "data": {
      "text/plain": [
       "[<matplotlib.lines.Line2D at 0x7f97e5336200>]"
      ]
     },
     "execution_count": 100,
     "metadata": {},
     "output_type": "execute_result"
    },
    {
     "data": {
      "image/png": "[encoded data removed]",
      "text/plain": [
       "<Figure size 640x480 with 1 Axes>"
      ]
     },
     "metadata": {},
     "output_type": "display_data"
    }
   ],
   "source": [
    "plt.plot(s_scores,c='red')\n",
    "plt.plot(c_scores,c='blue')"
   ]
  },
  {
   "cell_type": "code",
   "execution_count": 153,
   "metadata": {},
   "outputs": [],
   "source": [
    "cluster_sp = SpectralClustering(n_clusters=2,affinity='rbf',n_neighbors=10,gamma=1.0,random_state=1024).fit(cp_log)\n",
    "L = cluster_sp.labels_"
   ]
  },
  {
   "cell_type": "markdown",
   "metadata": {},
   "source": [
    "### compare"
   ]
  },
  {
   "cell_type": "code",
   "execution_count": 18,
   "metadata": {},
   "outputs": [],
   "source": [
    "import sys\n",
    "sys.path.append(\"/Users/krystal/Desktop/project/pylib-main\")\n",
    "from file_io import load_image, save_image\n",
    "from anatomy.anatomy_config import MASK_CCF25_FILE, MASK_CCF25_R314_FILE, REGION314, REGION671, SALIENT_REGIONS"
   ]
  },
  {
   "cell_type": "code",
   "execution_count": 19,
   "metadata": {},
   "outputs": [],
   "source": [
    "mask_file = MASK_CCF25_FILE\n",
    "mask = load_image(mask_file)\n",
    "cp_parc = mask.copy()\n",
    "cp_parc.fill(0)\n",
    "cur_id = 0\n",
    "idlist = [1072,1079,1088]\n",
    "for i in idlist:\n",
    "    path = '/Users/krystal/Desktop/project/Brain_test/BrainParcellation/microenviron/Tmp/parc_region'+str(i)+'.nrrd'\n",
    "    f = load_image(path)\n",
    "    nzm = f != 0\n",
    "    cp_parc[nzm] = f[nzm] + cur_id\n",
    "    cur_id += f.max()"
   ]
  },
  {
   "cell_type": "code",
   "execution_count": 20,
   "metadata": {},
   "outputs": [
    {
     "data": {
      "text/plain": [
       "10"
      ]
     },
     "execution_count": 20,
     "metadata": {},
     "output_type": "execute_result"
    }
   ],
   "source": [
    "np.max(cp_parc)"
   ]
  },
  {
   "cell_type": "code",
   "execution_count": 21,
   "metadata": {},
   "outputs": [
    {
     "data": {
      "text/plain": [
       "16"
      ]
     },
     "execution_count": 21,
     "metadata": {},
     "output_type": "execute_result"
    }
   ],
   "source": [
    "cp_file_path = \"/Users/krystal/Desktop/project/Brain_test/BrainParcellation/microenviron/Tmp/parc_region672.nrrd\"\n",
    "cp_parc = load_image(cp_file_path)\n",
    "np.max(cp_parc)"
   ]
  },
  {
   "cell_type": "code",
   "execution_count": 28,
   "metadata": {},
   "outputs": [
    {
     "data": {
      "text/plain": [
       "(456, 320, 528)"
      ]
     },
     "execution_count": 28,
     "metadata": {},
     "output_type": "execute_result"
    }
   ],
   "source": [
    "cp_parc.shape"
   ]
  },
  {
   "cell_type": "code",
   "execution_count": 30,
   "metadata": {},
   "outputs": [],
   "source": [
    "### 1876 XYZ\n",
    "soma_coords = []\n",
    "cp_projection = []\n",
    "for i in names:\n",
    "    row_id = celltype_all_table[celltype_all_table['Morphology Name']==i].index[0]\n",
    "    soma_coords.append([celltype_all_table['Soma_X(CCFv3_1𝜇𝑚)'].iloc[row_id]/25,celltype_all_table['Soma_Y(CCFv3_1𝜇𝑚)'].iloc[row_id]/25,\n",
    "                        celltype_all_table['Soma_Z(CCFv3_1𝜇𝑚)'].iloc[row_id]/25])\n",
    "    cp_projection.append(celltype_all_table['Projection class'].iloc[row_id])"
   ]
  },
  {
   "cell_type": "code",
   "execution_count": 252,
   "metadata": {},
   "outputs": [],
   "source": [
    "soma_coords = np.array(soma_coords)\n",
    "soma_coords = soma_coords.astype(np.float64)\n",
    "soma_coords_int = np.floor(soma_coords).astype('int')"
   ]
  },
  {
   "cell_type": "code",
   "execution_count": 154,
   "metadata": {},
   "outputs": [],
   "source": [
    "## match\n",
    "match_matrix = np.zeros((np.max(cp_parc),np.max(L)+1))\n",
    "for i in range(len(soma_coords)):\n",
    "    if soma_coords_int[i,2]> 228:\n",
    "        z = 456-soma_coords_int[i,2]\n",
    "    else:\n",
    "        z = soma_coords_int[i,2]\n",
    "    r = cp_parc[z,soma_coords_int[i,1],soma_coords_int[i,0]]-1\n",
    "    c = L[i]\n",
    "    match_matrix[r,c] += 1"
   ]
  },
  {
   "cell_type": "code",
   "execution_count": 31,
   "metadata": {},
   "outputs": [],
   "source": [
    "P_dict = {}\n",
    "n=0\n",
    "for i in np.unique(cp_projection):\n",
    "    if str(i) == 'nan':\n",
    "        continue\n",
    "    P_dict[i] = n\n",
    "    n = n+1"
   ]
  },
  {
   "cell_type": "code",
   "execution_count": 155,
   "metadata": {},
   "outputs": [],
   "source": [
    "match_projection = np.zeros((np.max(cp_parc),len(np.unique(cp_projection))))\n",
    "for i in range(len(soma_coords)):\n",
    "    if soma_coords_int[i,2]> 227:\n",
    "        z = 456-soma_coords_int[i,2]\n",
    "    else:\n",
    "        z = soma_coords_int[i,2]\n",
    "    r = cp_parc[z,soma_coords_int[i,1],soma_coords_int[i,0]]-1\n",
    "    if str(cp_projection[i]) == 'nan':\n",
    "        c = 3\n",
    "    else:\n",
    "        c = P_dict[cp_projection[i]]\n",
    "    match_projection[r,c] += 1"
   ]
  },
  {
   "cell_type": "code",
   "execution_count": 22,
   "metadata": {},
   "outputs": [],
   "source": [
    "## plot\n",
    "import seaborn as sns"
   ]
  },
  {
   "cell_type": "markdown",
   "metadata": {},
   "source": [
    "#### compared directly with Feng's result"
   ]
  },
  {
   "cell_type": "code",
   "execution_count": 23,
   "metadata": {},
   "outputs": [],
   "source": [
    "result_F_path = 'processed_arbor_module_detection_allow_intra_connection.csv'\n",
    "result_F = pd.read_csv(result_F_path)"
   ]
  },
  {
   "cell_type": "code",
   "execution_count": 24,
   "metadata": {},
   "outputs": [],
   "source": [
    "result_cp = result_F[result_F['detailregion']=='CP']\n",
    "label_dict = {}\n",
    "result_labels = []\n",
    "n = 0\n",
    "for i in result_cp.index.tolist():\n",
    "    if result_cp.loc[i]['Unnamed: 0'] not in celltype_all_table['Morphology Name'].tolist():\n",
    "        continue\n",
    "    cl_tmp = result_cp.loc[i]['c_label']\n",
    "    if cl_tmp not in label_dict:\n",
    "        label_dict[cl_tmp] = n\n",
    "        n = n+1\n",
    "    result_labels.append(label_dict[cl_tmp])"
   ]
  },
  {
   "cell_type": "code",
   "execution_count": 25,
   "metadata": {},
   "outputs": [],
   "source": [
    "soma_coords2 = []\n",
    "cp_projection2 = []\n",
    "for i in result_cp['Unnamed: 0'].tolist():\n",
    "    if i not in celltype_all_table['Morphology Name'].tolist():\n",
    "        continue\n",
    "    row_id = celltype_all_table[celltype_all_table['Morphology Name']==i].index[0]\n",
    "    soma_coords2.append([celltype_all_table['Soma_X(CCFv3_1𝜇𝑚)'].iloc[row_id]/25,celltype_all_table['Soma_Y(CCFv3_1𝜇𝑚)'].iloc[row_id]/25,\n",
    "                        celltype_all_table['Soma_Z(CCFv3_1𝜇𝑚)'].iloc[row_id]/25])\n",
    "    cp_projection2.append(celltype_all_table['Projection class'].iloc[row_id])"
   ]
  },
  {
   "cell_type": "code",
   "execution_count": 26,
   "metadata": {},
   "outputs": [],
   "source": [
    "soma_coords2 = np.array(soma_coords2)\n",
    "soma_coords2 = soma_coords2.astype(np.float64)\n",
    "soma_coords_int2 = np.floor(soma_coords2).astype('int')"
   ]
  },
  {
   "cell_type": "code",
   "execution_count": 27,
   "metadata": {},
   "outputs": [
    {
     "data": {
      "text/plain": [
       "(456, 320, 528)"
      ]
     },
     "execution_count": 27,
     "metadata": {},
     "output_type": "execute_result"
    }
   ],
   "source": [
    "cp_parc.shape"
   ]
  },
  {
   "cell_type": "code",
   "execution_count": 32,
   "metadata": {},
   "outputs": [],
   "source": [
    "match_matrix2 = np.zeros((np.max(cp_parc),np.max(result_labels)+1))\n",
    "match_projection2 = np.zeros((np.max(result_labels)+1,4))\n",
    "parition_labels = []\n",
    "for i in range(len(soma_coords2)):\n",
    "    if soma_coords_int2[i,2]< 228:\n",
    "        z = 456-soma_coords_int2[i,2]\n",
    "    else:\n",
    "        z = soma_coords_int2[i,2]\n",
    "    r = cp_parc[z,soma_coords_int2[i,1],soma_coords_int2[i,0]]-1\n",
    "    parition_labels.append(r)\n",
    "    c = result_labels[i]\n",
    "    if str(cp_projection2[i]) == 'nan':\n",
    "        p=3\n",
    "    else:\n",
    "        p = P_dict[cp_projection2[i]]\n",
    "    if r != -1:\n",
    "        match_matrix2[r,c] += 1\n",
    "        match_projection2[c,p] += 1"
   ]
  },
  {
   "cell_type": "code",
   "execution_count": 33,
   "metadata": {},
   "outputs": [],
   "source": [
    "import plotly.graph_objects as go\n",
    "import matplotlib.colors as mcolors\n",
    "import matplotlib as mpl\n",
    "import plotly.io as pio"
   ]
  },
  {
   "cell_type": "code",
   "execution_count": 34,
   "metadata": {},
   "outputs": [],
   "source": [
    "cmap = mpl.cm.rainbow_r\n",
    "my_color = cmap(np.linspace(0,1,16))\n",
    "my_color2 = [mpl.colors.rgb2hex(i,keep_alpha=False) for i in my_color]\n",
    "cmap2 = mpl.cm.Paired\n",
    "my_cr = cmap2(np.linspace(0,1,7))\n",
    "my_cr2 = [mpl.colors.rgb2hex(i,keep_alpha=False) for i in my_cr]\n",
    "cmap3 = mpl.cm.Accent\n",
    "my_cl = cmap3(np.linspace(0,1,3))\n",
    "my_cl2 = [mpl.colors.rgb2hex(i,keep_alpha=False) for i in my_cl]"
   ]
  },
  {
   "cell_type": "code",
   "execution_count": 36,
   "metadata": {},
   "outputs": [
    {
     "data": {
      "application/vnd.plotly.v1+json": {
       "config": {
        "plotlyServerURL": "https://plot.ly"
       },
       "data": [
        {
         "link": {
          "color": [
           "#ff0000",
           "#ff0000",
           "#ff0000",
           "#ff351b",
           "#ff351b",
           "#ff351b",
           "#ff351b",
           "#ff6835",
           "#ff6835",
           "#ff964f",
           "#ff964f",
           "#ff964f",
           "#ff964f",
           "#ff964f",
           "#f7be68",
           "#f7be68",
           "#f7be68",
           "#f7be68",
           "#d5dd7f",
           "#d5dd7f",
           "#b2f396",
           "#b2f396",
           "#b2f396",
           "#90feab",
           "#90feab",
           "#90feab",
           "#6efebe",
           "#6efebe",
           "#6efebe",
           "#4df3ce",
           "#4df3ce",
           "#4df3ce",
           "#2bdddd",
           "#2bdddd",
           "#2bdddd",
           "#09bee9",
           "#09bee9",
           "#1a96f3",
           "#1a96f3",
           "#1a96f3",
           "#3c68f9",
           "#3c68f9",
           "#5e35fe",
           "#5e35fe",
           "#5e35fe",
           "#8000ff",
           "#7fc97f",
           "#386cb0",
           "#7fc97f",
           "#386cb0",
           "#666666",
           "#7fc97f",
           "#386cb0",
           "#666666",
           "#7fc97f",
           "#7fc97f",
           "#386cb0",
           "#666666",
           "#7fc97f",
           "#386cb0",
           "#7fc97f",
           "#386cb0",
           "#666666"
          ],
          "source": [
           0,
           0,
           0,
           1,
           1,
           1,
           1,
           2,
           2,
           3,
           3,
           3,
           3,
           3,
           4,
           4,
           4,
           4,
           5,
           5,
           6,
           6,
           6,
           7,
           7,
           7,
           8,
           8,
           8,
           9,
           9,
           9,
           10,
           10,
           10,
           11,
           11,
           12,
           12,
           12,
           13,
           13,
           14,
           14,
           14,
           15,
           16,
           16,
           17,
           17,
           17,
           18,
           18,
           18,
           19,
           20,
           20,
           20,
           21,
           21,
           22,
           22,
           22
          ],
          "target": [
           18,
           19,
           22,
           16,
           20,
           21,
           22,
           20,
           22,
           17,
           18,
           19,
           20,
           22,
           16,
           17,
           18,
           21,
           18,
           20,
           18,
           20,
           22,
           17,
           18,
           22,
           17,
           20,
           21,
           18,
           20,
           22,
           18,
           20,
           22,
           20,
           22,
           16,
           20,
           21,
           18,
           22,
           18,
           20,
           22,
           20,
           23,
           24,
           23,
           24,
           25,
           23,
           24,
           25,
           23,
           23,
           24,
           25,
           23,
           24,
           23,
           24,
           25
          ],
          "value": [
           4,
           2,
           1,
           1,
           6,
           3,
           1,
           4,
           3,
           1,
           19,
           1,
           2,
           10,
           2,
           1,
           2,
           5,
           2,
           1,
           1,
           1,
           2,
           1,
           16,
           2,
           1,
           1,
           4,
           13,
           10,
           8,
           1,
           3,
           6,
           25,
           23,
           2,
           5,
           1,
           5,
           1,
           2,
           2,
           6,
           2,
           4,
           1,
           2,
           1,
           1,
           46,
           14,
           3,
           1,
           29,
           25,
           7,
           9,
           4,
           34,
           17,
           7
          ]
         },
         "node": {
          "color": [
           "#ff0000",
           "#ff351b",
           "#ff6835",
           "#ff964f",
           "#f7be68",
           "#d5dd7f",
           "#b2f396",
           "#90feab",
           "#6efebe",
           "#4df3ce",
           "#2bdddd",
           "#09bee9",
           "#1a96f3",
           "#3c68f9",
           "#5e35fe",
           "#8000ff",
           "#a6cee3",
           "#b2df8a",
           "#fb9a99",
           "#fdbf6f",
           "#cab2d6",
           "#ffff99",
           "#b15928",
           "#7fc97f",
           "#386cb0",
           "#666666"
          ],
          "label": [
           "R1",
           "R2",
           "R3",
           "R4",
           "R5",
           "R6",
           "R7",
           "R8",
           "R9",
           "R10",
           "R11",
           "R12",
           "R13",
           "R14",
           "R15",
           "R16",
           "r1",
           "r2",
           "r3",
           "r4",
           "r5",
           "r6",
           "r7",
           "CP_GPe",
           "CP_SNr",
           "CP_others"
          ]
         },
         "type": "sankey"
        }
       ],
       "layout": {
        "font": {
         "size": 14
        },
        "height": 600,
        "template": {
         "data": {
          "bar": [
           {
            "error_x": {
             "color": "#2a3f5f"
            },
            "error_y": {
             "color": "#2a3f5f"
            },
            "marker": {
             "line": {
              "color": "#E5ECF6",
              "width": 0.5
             },
             "pattern": {
              "fillmode": "overlay",
              "size": 10,
              "solidity": 0.2
             }
            },
            "type": "bar"
           }
          ],
          "barpolar": [
           {
            "marker": {
             "line": {
              "color": "#E5ECF6",
              "width": 0.5
             },
             "pattern": {
              "fillmode": "overlay",
              "size": 10,
              "solidity": 0.2
             }
            },
            "type": "barpolar"
           }
          ],
          "carpet": [
           {
            "aaxis": {
             "endlinecolor": "#2a3f5f",
             "gridcolor": "white",
             "linecolor": "white",
             "minorgridcolor": "white",
             "startlinecolor": "#2a3f5f"
            },
            "baxis": {
             "endlinecolor": "#2a3f5f",
             "gridcolor": "white",
             "linecolor": "white",
             "minorgridcolor": "white",
             "startlinecolor": "#2a3f5f"
            },
            "type": "carpet"
           }
          ],
          "choropleth": [
           {
            "colorbar": {
             "outlinewidth": 0,
             "ticks": ""
            },
            "type": "choropleth"
           }
          ],
          "contour": [
           {
            "colorbar": {
             "outlinewidth": 0,
             "ticks": ""
            },
            "colorscale": [
             [
              0,
              "#0d0887"
             ],
             [
              0.1111111111111111,
              "#46039f"
             ],
             [
              0.2222222222222222,
              "#7201a8"
             ],
             [
              0.3333333333333333,
              "#9c179e"
             ],
             [
              0.4444444444444444,
              "#bd3786"
             ],
             [
              0.5555555555555556,
              "#d8576b"
             ],
             [
              0.6666666666666666,
              "#ed7953"
             ],
             [
              0.7777777777777778,
              "#fb9f3a"
             ],
             [
              0.8888888888888888,
              "#fdca26"
             ],
             [
              1,
              "#f0f921"
             ]
            ],
            "type": "contour"
           }
          ],
          "contourcarpet": [
           {
            "colorbar": {
             "outlinewidth": 0,
             "ticks": ""
            },
            "type": "contourcarpet"
           }
          ],
          "heatmap": [
           {
            "colorbar": {
             "outlinewidth": 0,
             "ticks": ""
            },
            "colorscale": [
             [
              0,
              "#0d0887"
             ],
             [
              0.1111111111111111,
              "#46039f"
             ],
             [
              0.2222222222222222,
              "#7201a8"
             ],
             [
              0.3333333333333333,
              "#9c179e"
             ],
             [
              0.4444444444444444,
              "#bd3786"
             ],
             [
              0.5555555555555556,
              "#d8576b"
             ],
             [
              0.6666666666666666,
              "#ed7953"
             ],
             [
              0.7777777777777778,
              "#fb9f3a"
             ],
             [
              0.8888888888888888,
              "#fdca26"
             ],
             [
              1,
              "#f0f921"
             ]
            ],
            "type": "heatmap"
           }
          ],
          "heatmapgl": [
           {
            "colorbar": {
             "outlinewidth": 0,
             "ticks": ""
            },
            "colorscale": [
             [
              0,
              "#0d0887"
             ],
             [
              0.1111111111111111,
              "#46039f"
             ],
             [
              0.2222222222222222,
              "#7201a8"
             ],
             [
              0.3333333333333333,
              "#9c179e"
             ],
             [
              0.4444444444444444,
              "#bd3786"
             ],
             [
              0.5555555555555556,
              "#d8576b"
             ],
             [
              0.6666666666666666,
              "#ed7953"
             ],
             [
              0.7777777777777778,
              "#fb9f3a"
             ],
             [
              0.8888888888888888,
              "#fdca26"
             ],
             [
              1,
              "#f0f921"
             ]
            ],
            "type": "heatmapgl"
           }
          ],
          "histogram": [
           {
            "marker": {
             "pattern": {
              "fillmode": "overlay",
              "size": 10,
              "solidity": 0.2
             }
            },
            "type": "histogram"
           }
          ],
          "histogram2d": [
           {
            "colorbar": {
             "outlinewidth": 0,
             "ticks": ""
            },
            "colorscale": [
             [
              0,
              "#0d0887"
             ],
             [
              0.1111111111111111,
              "#46039f"
             ],
             [
              0.2222222222222222,
              "#7201a8"
             ],
             [
              0.3333333333333333,
              "#9c179e"
             ],
             [
              0.4444444444444444,
              "#bd3786"
             ],
             [
              0.5555555555555556,
              "#d8576b"
             ],
             [
              0.6666666666666666,
              "#ed7953"
             ],
             [
              0.7777777777777778,
              "#fb9f3a"
             ],
             [
              0.8888888888888888,
              "#fdca26"
             ],
             [
              1,
              "#f0f921"
             ]
            ],
            "type": "histogram2d"
           }
          ],
          "histogram2dcontour": [
           {
            "colorbar": {
             "outlinewidth": 0,
             "ticks": ""
            },
            "colorscale": [
             [
              0,
              "#0d0887"
             ],
             [
              0.1111111111111111,
              "#46039f"
             ],
             [
              0.2222222222222222,
              "#7201a8"
             ],
             [
              0.3333333333333333,
              "#9c179e"
             ],
             [
              0.4444444444444444,
              "#bd3786"
             ],
             [
              0.5555555555555556,
              "#d8576b"
             ],
             [
              0.6666666666666666,
              "#ed7953"
             ],
             [
              0.7777777777777778,
              "#fb9f3a"
             ],
             [
              0.8888888888888888,
              "#fdca26"
             ],
             [
              1,
              "#f0f921"
             ]
            ],
            "type": "histogram2dcontour"
           }
          ],
          "mesh3d": [
           {
            "colorbar": {
             "outlinewidth": 0,
             "ticks": ""
            },
            "type": "mesh3d"
           }
          ],
          "parcoords": [
           {
            "line": {
             "colorbar": {
              "outlinewidth": 0,
              "ticks": ""
             }
            },
            "type": "parcoords"
           }
          ],
          "pie": [
           {
            "automargin": true,
            "type": "pie"
           }
          ],
          "scatter": [
           {
            "fillpattern": {
             "fillmode": "overlay",
             "size": 10,
             "solidity": 0.2
            },
            "type": "scatter"
           }
          ],
          "scatter3d": [
           {
            "line": {
             "colorbar": {
              "outlinewidth": 0,
              "ticks": ""
             }
            },
            "marker": {
             "colorbar": {
              "outlinewidth": 0,
              "ticks": ""
             }
            },
            "type": "scatter3d"
           }
          ],
          "scattercarpet": [
           {
            "marker": {
             "colorbar": {
              "outlinewidth": 0,
              "ticks": ""
             }
            },
            "type": "scattercarpet"
           }
          ],
          "scattergeo": [
           {
            "marker": {
             "colorbar": {
              "outlinewidth": 0,
              "ticks": ""
             }
            },
            "type": "scattergeo"
           }
          ],
          "scattergl": [
           {
            "marker": {
             "colorbar": {
              "outlinewidth": 0,
              "ticks": ""
             }
            },
            "type": "scattergl"
           }
          ],
          "scattermapbox": [
           {
            "marker": {
             "colorbar": {
              "outlinewidth": 0,
              "ticks": ""
             }
            },
            "type": "scattermapbox"
           }
          ],
          "scatterpolar": [
           {
            "marker": {
             "colorbar": {
              "outlinewidth": 0,
              "ticks": ""
             }
            },
            "type": "scatterpolar"
           }
          ],
          "scatterpolargl": [
           {
            "marker": {
             "colorbar": {
              "outlinewidth": 0,
              "ticks": ""
             }
            },
            "type": "scatterpolargl"
           }
          ],
          "scatterternary": [
           {
            "marker": {
             "colorbar": {
              "outlinewidth": 0,
              "ticks": ""
             }
            },
            "type": "scatterternary"
           }
          ],
          "surface": [
           {
            "colorbar": {
             "outlinewidth": 0,
             "ticks": ""
            },
            "colorscale": [
             [
              0,
              "#0d0887"
             ],
             [
              0.1111111111111111,
              "#46039f"
             ],
             [
              0.2222222222222222,
              "#7201a8"
             ],
             [
              0.3333333333333333,
              "#9c179e"
             ],
             [
              0.4444444444444444,
              "#bd3786"
             ],
             [
              0.5555555555555556,
              "#d8576b"
             ],
             [
              0.6666666666666666,
              "#ed7953"
             ],
             [
              0.7777777777777778,
              "#fb9f3a"
             ],
             [
              0.8888888888888888,
              "#fdca26"
             ],
             [
              1,
              "#f0f921"
             ]
            ],
            "type": "surface"
           }
          ],
          "table": [
           {
            "cells": {
             "fill": {
              "color": "#EBF0F8"
             },
             "line": {
              "color": "white"
             }
            },
            "header": {
             "fill": {
              "color": "#C8D4E3"
             },
             "line": {
              "color": "white"
             }
            },
            "type": "table"
           }
          ]
         },
         "layout": {
          "annotationdefaults": {
           "arrowcolor": "#2a3f5f",
           "arrowhead": 0,
           "arrowwidth": 1
          },
          "autotypenumbers": "strict",
          "coloraxis": {
           "colorbar": {
            "outlinewidth": 0,
            "ticks": ""
           }
          },
          "colorscale": {
           "diverging": [
            [
             0,
             "#8e0152"
            ],
            [
             0.1,
             "#c51b7d"
            ],
            [
             0.2,
             "#de77ae"
            ],
            [
             0.3,
             "#f1b6da"
            ],
            [
             0.4,
             "#fde0ef"
            ],
            [
             0.5,
             "#f7f7f7"
            ],
            [
             0.6,
             "#e6f5d0"
            ],
            [
             0.7,
             "#b8e186"
            ],
            [
             0.8,
             "#7fbc41"
            ],
            [
             0.9,
             "#4d9221"
            ],
            [
             1,
             "#276419"
            ]
           ],
           "sequential": [
            [
             0,
             "#0d0887"
            ],
            [
             0.1111111111111111,
             "#46039f"
            ],
            [
             0.2222222222222222,
             "#7201a8"
            ],
            [
             0.3333333333333333,
             "#9c179e"
            ],
            [
             0.4444444444444444,
             "#bd3786"
            ],
            [
             0.5555555555555556,
             "#d8576b"
            ],
            [
             0.6666666666666666,
             "#ed7953"
            ],
            [
             0.7777777777777778,
             "#fb9f3a"
            ],
            [
             0.8888888888888888,
             "#fdca26"
            ],
            [
             1,
             "#f0f921"
            ]
           ],
           "sequentialminus": [
            [
             0,
             "#0d0887"
            ],
            [
             0.1111111111111111,
             "#46039f"
            ],
            [
             0.2222222222222222,
             "#7201a8"
            ],
            [
             0.3333333333333333,
             "#9c179e"
            ],
            [
             0.4444444444444444,
             "#bd3786"
            ],
            [
             0.5555555555555556,
             "#d8576b"
            ],
            [
             0.6666666666666666,
             "#ed7953"
            ],
            [
             0.7777777777777778,
             "#fb9f3a"
            ],
            [
             0.8888888888888888,
             "#fdca26"
            ],
            [
             1,
             "#f0f921"
            ]
           ]
          },
          "colorway": [
           "#636efa",
           "#EF553B",
           "#00cc96",
           "#ab63fa",
           "#FFA15A",
           "#19d3f3",
           "#FF6692",
           "#B6E880",
           "#FF97FF",
           "#FECB52"
          ],
          "font": {
           "color": "#2a3f5f"
          },
          "geo": {
           "bgcolor": "white",
           "lakecolor": "white",
           "landcolor": "#E5ECF6",
           "showlakes": true,
           "showland": true,
           "subunitcolor": "white"
          },
          "hoverlabel": {
           "align": "left"
          },
          "hovermode": "closest",
          "mapbox": {
           "style": "light"
          },
          "paper_bgcolor": "white",
          "plot_bgcolor": "#E5ECF6",
          "polar": {
           "angularaxis": {
            "gridcolor": "white",
            "linecolor": "white",
            "ticks": ""
           },
           "bgcolor": "#E5ECF6",
           "radialaxis": {
            "gridcolor": "white",
            "linecolor": "white",
            "ticks": ""
           }
          },
          "scene": {
           "xaxis": {
            "backgroundcolor": "#E5ECF6",
            "gridcolor": "white",
            "gridwidth": 2,
            "linecolor": "white",
            "showbackground": true,
            "ticks": "",
            "zerolinecolor": "white"
           },
           "yaxis": {
            "backgroundcolor": "#E5ECF6",
            "gridcolor": "white",
            "gridwidth": 2,
            "linecolor": "white",
            "showbackground": true,
            "ticks": "",
            "zerolinecolor": "white"
           },
           "zaxis": {
            "backgroundcolor": "#E5ECF6",
            "gridcolor": "white",
            "gridwidth": 2,
            "linecolor": "white",
            "showbackground": true,
            "ticks": "",
            "zerolinecolor": "white"
           }
          },
          "shapedefaults": {
           "line": {
            "color": "#2a3f5f"
           }
          },
          "ternary": {
           "aaxis": {
            "gridcolor": "white",
            "linecolor": "white",
            "ticks": ""
           },
           "baxis": {
            "gridcolor": "white",
            "linecolor": "white",
            "ticks": ""
           },
           "bgcolor": "#E5ECF6",
           "caxis": {
            "gridcolor": "white",
            "linecolor": "white",
            "ticks": ""
           }
          },
          "title": {
           "x": 0.05
          },
          "xaxis": {
           "automargin": true,
           "gridcolor": "white",
           "linecolor": "white",
           "ticks": "",
           "title": {
            "standoff": 15
           },
           "zerolinecolor": "white",
           "zerolinewidth": 2
          },
          "yaxis": {
           "automargin": true,
           "gridcolor": "white",
           "linecolor": "white",
           "ticks": "",
           "title": {
            "standoff": 15
           },
           "zerolinecolor": "white",
           "zerolinewidth": 2
          }
         }
        },
        "width": 800
       }
      }
     },
     "metadata": {},
     "output_type": "display_data"
    }
   ],
   "source": [
    "parc_names = ['R'+str(i) for i in range(1,17)]\n",
    "f_names = ['r'+str(i) for i in range(1,8)]\n",
    "p_names = ['CP_GPe','CP_SNr','CP_others']\n",
    "nodes = dict(label = parc_names+f_names+p_names,color=my_color2+my_cr2+my_cl2)\n",
    "ss = []\n",
    "ts = []\n",
    "vs = []\n",
    "cs = []\n",
    "for i in range(match_matrix2.shape[0]):\n",
    "    for j in range(match_matrix2.shape[1]):\n",
    "        if match_matrix2[i,j]>0:\n",
    "            ss.append(i)\n",
    "            ts.append(j+16)\n",
    "            vs.append(match_matrix2[i,j])\n",
    "            color = my_color[i]\n",
    "            color[3] = 0.7\n",
    "            cs.append(mpl.colors.rgb2hex(color,keep_alpha=False))\n",
    "for i in range(match_projection2.shape[0]):\n",
    "    for j in range(match_projection2.shape[1]-1):\n",
    "        if match_projection2[i,j] > 0:\n",
    "            ss.append(i+16)\n",
    "            ts.append(j+23)\n",
    "            vs.append(match_projection2[i,j])\n",
    "            cs.append(my_cl2[j])\n",
    "\n",
    "links = dict(\n",
    "    source = ss,\n",
    "    target = ts,\n",
    "    value = vs,\n",
    "    color = cs\n",
    ")\n",
    "layout = go.Layout(\n",
    "    width = 800,\n",
    "    height = 600,\n",
    "    font_size=14\n",
    ")\n",
    "data = go.Sankey(node = nodes, link=links)\n",
    "fig = go.Figure(data,layout=layout)\n",
    "fig.show()\n",
    "pio.write_image(fig,'/Users/krystal/Desktop/project/microenvironment/figs/Fig3/feng_compared.png',width=800,height=600)"
   ]
  },
  {
   "cell_type": "code",
   "execution_count": 266,
   "metadata": {},
   "outputs": [
    {
     "data": {
      "text/plain": [
       "<Axes: >"
      ]
     },
     "execution_count": 266,
     "metadata": {},
     "output_type": "execute_result"
    },
    {
     "data": {
      "image/png": "[encoded data removed]",
      "text/plain": [
       "<Figure size 640x480 with 2 Axes>"
      ]
     },
     "metadata": {},
     "output_type": "display_data"
    }
   ],
   "source": [
    "sns.heatmap(match_matrix2/np.sum(match_matrix2,axis=1)[:,np.newaxis],square=True)"
   ]
  },
  {
   "cell_type": "code",
   "execution_count": null,
   "metadata": {},
   "outputs": [],
   "source": []
  },
  {
   "cell_type": "code",
   "execution_count": null,
   "metadata": {},
   "outputs": [],
   "source": []
  },
  {
   "cell_type": "code",
   "execution_count": 17,
   "metadata": {},
   "outputs": [],
   "source": [
    "def compute_modularity(adj_matrix, labels):\n",
    "    total_edges = adj_matrix[adj_matrix>0].sum()\n",
    "    m = total_edges / 2\n",
    "    q = 0\n",
    "    degree_row = []\n",
    "    degree_col = []\n",
    "    for i in range(adj_matrix.shape[0]):\n",
    "        degree_row.append(np.nonzero(adj_matrix[i,:]).sum())\n",
    "    for i in range(adj_matrix.shape[1]):\n",
    "        degree_col.append(np.nonzero(adj_matrix[:,i]).sum())\n",
    "\n",
    "    for i in range(adj_matrix.shape[0]):\n",
    "        for j in range(adj_matrix.shape[1]):\n",
    "            if labels[i] == labels[j]:      \n",
    "                q += (adj_matrix[i,j]-degree_row[i]*degree_col[j]/(2*m))\n",
    "    \n",
    "    return q / (2*m)"
   ]
  },
  {
   "cell_type": "code",
   "execution_count": 27,
   "metadata": {},
   "outputs": [],
   "source": [
    "\n"
   ]
  },
  {
   "cell_type": "markdown",
   "metadata": {},
   "source": []
  },
  {
   "cell_type": "code",
   "execution_count": 28,
   "metadata": {},
   "outputs": [
    {
     "data": {
      "text/plain": [
       "<networkx.classes.graph.Graph at 0x7f84c3b0fd00>"
      ]
     },
     "execution_count": 28,
     "metadata": {},
     "output_type": "execute_result"
    }
   ],
   "source": []
  }
 ],
 "metadata": {
  "kernelspec": {
   "display_name": "base",
   "language": "python",
   "name": "python3"
  },
  "language_info": {
   "codemirror_mode": {
    "name": "ipython",
    "version": 3
   },
   "file_extension": ".py",
   "mimetype": "text/x-python",
   "name": "python",
   "nbconvert_exporter": "python",
   "pygments_lexer": "ipython3",
   "version": "3.10.9"
  }
 },
 "nbformat": 4,
 "nbformat_minor": 2
}
